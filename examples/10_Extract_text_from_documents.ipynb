{
  "nbformat": 4,
  "nbformat_minor": 0,
  "metadata": {
    "colab": {
      "provenance": []
    },
    "kernelspec": {
      "name": "python3",
      "display_name": "Python 3"
    }
  },
  "cells": [
    {
      "cell_type": "markdown",
      "metadata": {
        "id": "4Pjmz-RORV8E"
      },
      "source": [
        "# Extract text from documents\n",
        "\n",
        "Up to this point, all the examples have been working with sections of text, which have already been split through some other means. What happens if we're working with documents? First we need to get the text out of these documents, then figure out how to index to best support vector search.\n",
        "\n",
        "This notebook shows how documents can have text extracted and split to support vector search and retrieval augmented generation (RAG)."
      ]
    },
    {
      "cell_type": "markdown",
      "metadata": {
        "id": "Dk31rbYjSTYm"
      },
      "source": [
        "# Install dependencies\n",
        "\n",
        "Install `txtai` and all dependencies. Since this notebook is using optional pipelines, we need to install the pipeline extras package."
      ]
    },
    {
      "cell_type": "code",
      "metadata": {
        "id": "XMQuuun2R06J"
      },
      "source": [
        "%%capture\n",
        "!pip install git+https://github.com/neuml/txtai#egg=txtai[pipeline]\n",
        "\n",
        "# Get test data\n",
        "!wget -N https://github.com/neuml/txtai/releases/download/v6.2.0/tests.tar.gz\n",
        "!tar -xvzf tests.tar.gz\n",
        "\n",
        "# Install NLTK\n",
        "import nltk\n",
        "nltk.download(['punkt', 'punkt_tab'])"
      ],
      "execution_count": 19,
      "outputs": []
    },
    {
      "cell_type": "markdown",
      "metadata": {
        "id": "PNPJ95cdTKSS"
      },
      "source": [
        "# Create a Textractor instance\n",
        "\n",
        "The Textractor instance is the main entrypoint for extracting text. This method is backed by Apache Tika, a robust text extraction library written in Java. [Apache Tika](https://tika.apache.org/0.9/formats.html) has support for a large number of file formats: PDF, Word, Excel, HTML and others. The [Python Tika package](https://github.com/chrismattmann/tika-python) automatically installs Tika and starts a local REST API instance used to read extracted data.\n",
        "\n",
        "*Note: This requires Java to be installed locally.*"
      ]
    },
    {
      "cell_type": "code",
      "metadata": {
        "id": "nTDwXOUeTH2-"
      },
      "source": [
        "%%capture\n",
        "\n",
        "from txtai.pipeline import Textractor\n",
        "\n",
        "# Create textractor model\n",
        "textractor = Textractor()"
      ],
      "execution_count": 20,
      "outputs": []
    },
    {
      "cell_type": "markdown",
      "metadata": {
        "id": "-vGR_piwZZO6"
      },
      "source": [
        "# Extract text\n",
        "\n",
        "The example below shows how to extract text from a file."
      ]
    },
    {
      "cell_type": "code",
      "metadata": {
        "colab": {
          "base_uri": "https://localhost:8080/",
          "height": 118
        },
        "id": "-K2YJJzsVtfq",
        "outputId": "7754c508-264a-41fa-9843-83460719820f"
      },
      "source": [
        "textractor(\"txtai/article.pdf\")"
      ],
      "execution_count": 21,
      "outputs": [
        {
          "output_type": "execute_result",
          "data": {
            "text/plain": [
              "'Introducing txtai, an AI-powered search engine \\nbuilt on Transformers\\n\\nAdd Natural Language Understanding to any application\\n\\nSearch is the base of many applications. Once data starts to pile up, users want to be able to find it. It’s \\nthe foundation of the internet and an ever-growing challenge that is never solved or done.\\n\\nThe field of Natural Language Processing (NLP) is rapidly evolving with a number of new \\ndevelopments. Large-scale general language models are an exciting new capability allowing us to add \\namazing functionality quickly with limited compute and people. Innovation continues with new models\\nand advancements coming in at what seems a weekly basis.\\n\\nThis article introduces txtai, an AI-powered search engine that enables Natural Language \\nUnderstanding (NLU) based search in any application.\\n\\nIntroducing txtai\\ntxtai builds an AI-powered index over sections of text. txtai supports building text indices to perform \\nsimilarity searches and create extractive question-answering based systems. txtai also has functionality \\nfor zero-shot classification. txtai is open source and available on GitHub.\\n\\ntxtai and/or the concepts behind it has already been used to power the Natural Language Processing \\n(NLP) applications listed below:\\n\\n• paperai — AI-powered literature discovery and review engine for medical/scientific papers\\n• tldrstory — AI-powered understanding of headlines and story text\\n• neuspo — Fact-driven, real-time sports event and news site\\n• codequestion — Ask coding questions directly from the terminal\\n\\nBuild an Embeddings index\\nFor small lists of texts, the method above works. But for larger repositories of documents, it doesn’t \\nmake sense to tokenize and convert all embeddings for each query. txtai supports building pre-\\ncomputed indices which significantly improves performance.\\n\\nBuilding on the previous example, the following example runs an index method to build and store the \\ntext embeddings. In this case, only the query is converted to an embeddings vector each search.\\n\\nhttps://github.com/neuml/codequestion\\nhttps://neuspo.com/\\nhttps://github.com/neuml/tldrstory\\nhttps://github.com/neuml/paperai\\n - Introducing txtai, an AI-powered search engine built on Transformers\\n - Add Natural Language Understanding to any application\\n - Introducing txtai\\n - Build an Embeddings index'"
            ],
            "application/vnd.google.colaboratory.intrinsic+json": {
              "type": "string"
            }
          },
          "metadata": {},
          "execution_count": 21
        }
      ]
    },
    {
      "cell_type": "markdown",
      "metadata": {
        "id": "n2jndgE-JyWX"
      },
      "source": [
        "Note that the text from the article was extracted into a single string. Depending on the articles, this may be acceptable. For long articles, often you'll want to split the content into logical sections to build better downstream vectors."
      ]
    },
    {
      "cell_type": "markdown",
      "metadata": {
        "id": "1w2bhBCPOUdu"
      },
      "source": [
        "# Extract sentences\n",
        "\n",
        "Sentence extraction uses a model that specializes in sentence detection. This call returns a list of sentences."
      ]
    },
    {
      "cell_type": "code",
      "metadata": {
        "colab": {
          "base_uri": "https://localhost:8080/"
        },
        "id": "PKZVK5vuOTqB",
        "outputId": "a31e182e-037b-4e29-c1b0-0f6815e3b2c9"
      },
      "source": [
        "textractor = Textractor(sentences=True)\n",
        "textractor(\"txtai/article.pdf\")"
      ],
      "execution_count": 22,
      "outputs": [
        {
          "output_type": "execute_result",
          "data": {
            "text/plain": [
              "['Introducing txtai, an AI-powered search engine \\nbuilt on Transformers\\n\\nAdd Natural Language Understanding to any application\\n\\nSearch is the base of many applications.',\n",
              " 'Once data starts to pile up, users want to be able to find it.',\n",
              " 'It’s \\nthe foundation of the internet and an ever-growing challenge that is never solved or done.',\n",
              " 'The field of Natural Language Processing (NLP) is rapidly evolving with a number of new \\ndevelopments.',\n",
              " 'Large-scale general language models are an exciting new capability allowing us to add \\namazing functionality quickly with limited compute and people.',\n",
              " 'Innovation continues with new models\\nand advancements coming in at what seems a weekly basis.',\n",
              " 'This article introduces txtai, an AI-powered search engine that enables Natural Language \\nUnderstanding (NLU) based search in any application.',\n",
              " 'Introducing txtai\\ntxtai builds an AI-powered index over sections of text.',\n",
              " 'txtai supports building text indices to perform \\nsimilarity searches and create extractive question-answering based systems.',\n",
              " 'txtai also has functionality \\nfor zero-shot classification.',\n",
              " 'txtai is open source and available on GitHub.',\n",
              " 'txtai and/or the concepts behind it has already been used to power the Natural Language Processing \\n(NLP) applications listed below:\\n\\n• paperai — AI-powered literature discovery and review engine for medical/scientific papers\\n• tldrstory — AI-powered understanding of headlines and story text\\n• neuspo — Fact-driven, real-time sports event and news site\\n• codequestion — Ask coding questions directly from the terminal\\n\\nBuild an Embeddings index\\nFor small lists of texts, the method above works.',\n",
              " 'But for larger repositories of documents, it doesn’t \\nmake sense to tokenize and convert all embeddings for each query.',\n",
              " 'txtai supports building pre-\\ncomputed indices which significantly improves performance.',\n",
              " 'Building on the previous example, the following example runs an index method to build and store the \\ntext embeddings.',\n",
              " 'In this case, only the query is converted to an embeddings vector each search.',\n",
              " 'https://github.com/neuml/codequestion\\nhttps://neuspo.com/\\nhttps://github.com/neuml/tldrstory\\nhttps://github.com/neuml/paperai\\n - Introducing txtai, an AI-powered search engine built on Transformers\\n - Add Natural Language Understanding to any application\\n - Introducing txtai\\n - Build an Embeddings index']"
            ]
          },
          "metadata": {},
          "execution_count": 22
        }
      ]
    },
    {
      "cell_type": "markdown",
      "metadata": {
        "id": "vdVCCc9UOv5S"
      },
      "source": [
        "Now the document is split up at the sentence level. These sentences can be feed to a workflow that adds each sentence to an embeddings index. Depending on the task, this may work well. Alternatively, it may be even better to split at the paragraph level."
      ]
    },
    {
      "cell_type": "markdown",
      "metadata": {
        "id": "z1H8XYkaSoP4"
      },
      "source": [
        "# Extract paragraphs\n",
        "\n",
        "Paragraph detection looks for consecutive newlines. This call returns a list of paragraphs."
      ]
    },
    {
      "cell_type": "code",
      "metadata": {
        "colab": {
          "base_uri": "https://localhost:8080/"
        },
        "id": "9VUito4ISoAe",
        "outputId": "08079380-a7c8-4886-ecc3-de9f02be4584"
      },
      "source": [
        "textractor = Textractor(paragraphs=True)\n",
        "for paragraph in textractor(\"txtai/article.pdf\"):\n",
        "  print(paragraph, \"\\n----\")"
      ],
      "execution_count": 23,
      "outputs": [
        {
          "output_type": "stream",
          "name": "stdout",
          "text": [
            "Introducing txtai, an AI-powered search engine \n",
            "built on Transformers \n",
            "----\n",
            "Add Natural Language Understanding to any application \n",
            "----\n",
            "Search is the base of many applications. Once data starts to pile up, users want to be able to find it. It’s \n",
            "the foundation of the internet and an ever-growing challenge that is never solved or done. \n",
            "----\n",
            "The field of Natural Language Processing (NLP) is rapidly evolving with a number of new \n",
            "developments. Large-scale general language models are an exciting new capability allowing us to add \n",
            "amazing functionality quickly with limited compute and people. Innovation continues with new models\n",
            "and advancements coming in at what seems a weekly basis. \n",
            "----\n",
            "This article introduces txtai, an AI-powered search engine that enables Natural Language \n",
            "Understanding (NLU) based search in any application. \n",
            "----\n",
            "Introducing txtai\n",
            "txtai builds an AI-powered index over sections of text. txtai supports building text indices to perform \n",
            "similarity searches and create extractive question-answering based systems. txtai also has functionality \n",
            "for zero-shot classification. txtai is open source and available on GitHub. \n",
            "----\n",
            "txtai and/or the concepts behind it has already been used to power the Natural Language Processing \n",
            "(NLP) applications listed below: \n",
            "----\n",
            "• paperai — AI-powered literature discovery and review engine for medical/scientific papers\n",
            "• tldrstory — AI-powered understanding of headlines and story text\n",
            "• neuspo — Fact-driven, real-time sports event and news site\n",
            "• codequestion — Ask coding questions directly from the terminal \n",
            "----\n",
            "Build an Embeddings index\n",
            "For small lists of texts, the method above works. But for larger repositories of documents, it doesn’t \n",
            "make sense to tokenize and convert all embeddings for each query. txtai supports building pre-\n",
            "computed indices which significantly improves performance. \n",
            "----\n",
            "Building on the previous example, the following example runs an index method to build and store the \n",
            "text embeddings. In this case, only the query is converted to an embeddings vector each search. \n",
            "----\n",
            "https://github.com/neuml/codequestion\n",
            "https://neuspo.com/\n",
            "https://github.com/neuml/tldrstory\n",
            "https://github.com/neuml/paperai\n",
            " - Introducing txtai, an AI-powered search engine built on Transformers\n",
            " - Add Natural Language Understanding to any application\n",
            " - Introducing txtai\n",
            " - Build an Embeddings index \n",
            "----\n"
          ]
        }
      ]
    },
    {
      "cell_type": "markdown",
      "source": [
        "# Extract sections\n",
        "\n",
        "Section extraction is format dependent. If page breaks are available, each section is a page. Otherwise, this call returns logical sections such by headings."
      ],
      "metadata": {
        "id": "Ae6dRQ2LvN-w"
      }
    },
    {
      "cell_type": "code",
      "source": [
        "textractor = Textractor(sections=True)\n",
        "print(\"\\n[PAGE BREAK]\\n\".join(section for section in textractor(\"txtai/article.pdf\")))"
      ],
      "metadata": {
        "colab": {
          "base_uri": "https://localhost:8080/"
        },
        "id": "nQ6ev2UMwqnh",
        "outputId": "3d45491d-3547-4218-d30c-ba0c4d161256"
      },
      "execution_count": 24,
      "outputs": [
        {
          "output_type": "stream",
          "name": "stdout",
          "text": [
            "Introducing txtai, an AI-powered search engine \n",
            "built on Transformers\n",
            "\n",
            "Add Natural Language Understanding to any application\n",
            "\n",
            "Search is the base of many applications. Once data starts to pile up, users want to be able to find it. It’s \n",
            "the foundation of the internet and an ever-growing challenge that is never solved or done.\n",
            "\n",
            "The field of Natural Language Processing (NLP) is rapidly evolving with a number of new \n",
            "developments. Large-scale general language models are an exciting new capability allowing us to add \n",
            "amazing functionality quickly with limited compute and people. Innovation continues with new models\n",
            "and advancements coming in at what seems a weekly basis.\n",
            "\n",
            "This article introduces txtai, an AI-powered search engine that enables Natural Language \n",
            "Understanding (NLU) based search in any application.\n",
            "\n",
            "Introducing txtai\n",
            "txtai builds an AI-powered index over sections of text. txtai supports building text indices to perform \n",
            "similarity searches and create extractive question-answering based systems. txtai also has functionality \n",
            "for zero-shot classification. txtai is open source and available on GitHub.\n",
            "\n",
            "txtai and/or the concepts behind it has already been used to power the Natural Language Processing \n",
            "(NLP) applications listed below:\n",
            "\n",
            "• paperai — AI-powered literature discovery and review engine for medical/scientific papers\n",
            "• tldrstory — AI-powered understanding of headlines and story text\n",
            "• neuspo — Fact-driven, real-time sports event and news site\n",
            "• codequestion — Ask coding questions directly from the terminal\n",
            "\n",
            "Build an Embeddings index\n",
            "For small lists of texts, the method above works. But for larger repositories of documents, it doesn’t \n",
            "make sense to tokenize and convert all embeddings for each query. txtai supports building pre-\n",
            "computed indices which significantly improves performance.\n",
            "\n",
            "Building on the previous example, the following example runs an index method to build and store the \n",
            "text embeddings. In this case, only the query is converted to an embeddings vector each search.\n",
            "\n",
            "https://github.com/neuml/codequestion\n",
            "https://neuspo.com/\n",
            "https://github.com/neuml/tldrstory\n",
            "https://github.com/neuml/paperai\n",
            "[PAGE BREAK]\n",
            "- Introducing txtai, an AI-powered search engine built on Transformers\n",
            " - Add Natural Language Understanding to any application\n",
            " - Introducing txtai\n",
            " - Build an Embeddings index\n"
          ]
        }
      ]
    }
  ]
}