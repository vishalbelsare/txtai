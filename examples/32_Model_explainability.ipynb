{
  "nbformat": 4,
  "nbformat_minor": 0,
  "metadata": {
    "kernelspec": {
      "name": "python3",
      "display_name": "Python 3",
      "language": "python"
    },
    "language_info": {
      "name": "python",
      "version": "3.7.6",
      "mimetype": "text/x-python",
      "codemirror_mode": {
        "name": "ipython",
        "version": 3
      },
      "pygments_lexer": "ipython3",
      "nbconvert_exporter": "python",
      "file_extension": ".py"
    },
    "colab": {
      "provenance": []
    }
  },
  "cells": [
    {
      "cell_type": "markdown",
      "metadata": {
        "id": "POWZoSJR6XzK"
      },
      "source": [
        "# Model explainability\n",
        "\n",
        "Neural/transformers based approaches have recently made amazing advancements. But it is difficult to understand how models make decisions. This is especially important in sensitive areas where models are being used to drive critical decisions.\n",
        "\n",
        "This notebook will cover how to gain a level of understanding of complex natural language model outputs."
      ]
    },
    {
      "cell_type": "markdown",
      "metadata": {
        "id": "qa_PPKVX6XzN"
      },
      "source": [
        "# Install dependencies\n",
        "\n",
        "Install `txtai` and all dependencies."
      ]
    },
    {
      "cell_type": "code",
      "metadata": {
        "_uuid": "8f2839f25d086af736a60e9eeb907d3b93b6e0e5",
        "_cell_guid": "b1076dfc-b9ad-4769-8c92-a6c4dae69d19",
        "trusted": true,
        "_kg_hide-output": true,
        "id": "24q-1n5i6XzQ"
      },
      "source": [
        "%%capture\n",
        "!pip install git+https://github.com/neuml/txtai#egg=txtai[pipeline] shap"
      ],
      "execution_count": null,
      "outputs": []
    },
    {
      "cell_type": "markdown",
      "source": [
        "# Semantic Search\n",
        "\n",
        "The first example we'll cover is semantic search. Semantic search applications have an understanding of natural language and identify results that have the same meaning, not necessarily the same keywords. While this produces higher quality results, one advantage of keyword search is it's easy to understand why a result why selected. The keyword is there.\n",
        "\n",
        "Let's see if we can gain a better understanding of semantic search output. "
      ],
      "metadata": {
        "id": "snon4fqZbalQ"
      }
    },
    {
      "cell_type": "code",
      "source": [
        "from txtai.embeddings import Embeddings\n",
        "\n",
        "data = [\"US tops 5 million confirmed virus cases\",\n",
        "        \"Canada's last fully intact ice shelf has suddenly collapsed, forming a Manhattan-sized iceberg\",\n",
        "        \"Beijing mobilises invasion craft along coast as Taiwan tensions escalate\",\n",
        "        \"The National Park Service warns against sacrificing slower friends in a bear attack\",\n",
        "        \"Maine man wins $1M from $25 lottery ticket\",\n",
        "        \"Make huge profits without work, earn up to $100,000 a day\"]\n",
        "\n",
        "# Create embeddings index with content enabled. The default behavior is to only store indexed vectors.\n",
        "embeddings = Embeddings({\"path\": \"sentence-transformers/nli-mpnet-base-v2\", \"content\": True})\n",
        "\n",
        "# Create an index for the list of text\n",
        "embeddings.index([(uid, text, None) for uid, text in enumerate(data)])\n",
        "\n",
        "# Run a search\n",
        "embeddings.explain(\"feel good story\", limit=1)"
      ],
      "metadata": {
        "id": "MnRR8pTzK8h4",
        "colab": {
          "base_uri": "https://localhost:8080/"
        },
        "outputId": "956e405c-568b-44bc-b8ea-d4b6f3cea9b5"
      },
      "execution_count": null,
      "outputs": [
        {
          "output_type": "execute_result",
          "data": {
            "text/plain": [
              "[{'id': '4',\n",
              "  'score': 0.08329004049301147,\n",
              "  'text': 'Maine man wins $1M from $25 lottery ticket',\n",
              "  'tokens': [('Maine', 0.003297939896583557),\n",
              "   ('man', -0.03039500117301941),\n",
              "   ('wins', 0.03406312316656113),\n",
              "   ('$1M', -0.03121592104434967),\n",
              "   ('from', -0.02270638197660446),\n",
              "   ('$25', 0.012891143560409546),\n",
              "   ('lottery', -0.015372440218925476),\n",
              "   ('ticket', 0.007445111870765686)]}]"
            ]
          },
          "metadata": {},
          "execution_count": 29
        }
      ]
    },
    {
      "cell_type": "markdown",
      "source": [
        "The `explain` method above ran an embeddings query like `search` but also analyzed each token to determine term importance. Looking at the results, it appears that `win` is the most important term. Let's visualize it."
      ],
      "metadata": {
        "id": "ZEkXurdobRKL"
      }
    },
    {
      "cell_type": "code",
      "source": [
        "from IPython.display import HTML\n",
        "\n",
        "def plot(query):\n",
        "  result = embeddings.explain(query, limit=1)[0]\n",
        "\n",
        "  output = f\"<b>{query}</b><br/>\"\n",
        "  spans = []\n",
        "  for token, score in result[\"tokens\"]:\n",
        "    color = None\n",
        "    if score >= 0.1:\n",
        "      color = \"#fdd835\"\n",
        "    elif score >= 0.075:\n",
        "      color = \"#ffeb3b\"\n",
        "    elif score >= 0.05:\n",
        "      color = \"#ffee58\"\n",
        "    elif score >= 0.02:\n",
        "      color = \"#fff59d\"\n",
        "\n",
        "    spans.append((token, score, color))\n",
        "\n",
        "  if result[\"score\"] >= 0.05 and not [color for _, _, color in spans if color]:\n",
        "    mscore = max([score for _, score, _ in spans])\n",
        "    spans = [(token, score, \"#fff59d\" if score == mscore else color) for token, score, color in spans]\n",
        "\n",
        "  for token, _, color in spans:\n",
        "    if color:\n",
        "      output += f\"<span style='background-color: {color}'>{token}</span> \"\n",
        "    else:\n",
        "      output += f\"{token} \"\n",
        "\n",
        "  return output\n",
        "\n",
        "HTML(plot(\"feel good story\"))"
      ],
      "metadata": {
        "colab": {
          "base_uri": "https://localhost:8080/",
          "height": 52
        },
        "id": "klJYGOrypXUL",
        "outputId": "88959716-1dcc-4fee-d784-cb398aa87eb5"
      },
      "execution_count": null,
      "outputs": [
        {
          "output_type": "execute_result",
          "data": {
            "text/plain": [
              "<IPython.core.display.HTML object>"
            ],
            "text/html": [
              "<b>feel good story</b><br/>Maine man <span style='background-color: #fff59d'>wins</span> $1M from $25 lottery ticket "
            ]
          },
          "metadata": {},
          "execution_count": 30
        }
      ]
    },
    {
      "cell_type": "markdown",
      "source": [
        "Let's try some more queries!"
      ],
      "metadata": {
        "id": "CCHqZffacPVh"
      }
    },
    {
      "cell_type": "code",
      "source": [
        "output = \"\"\n",
        "for query in [\"feel good story\", \"climate change\", \"public health story\", \"war\", \"wildlife\", \"asia\", \"lucky\", \"dishonest junk\"]:\n",
        "  output += plot(query) + \"<br/><br/>\"\n",
        "\n",
        "HTML(output)"
      ],
      "metadata": {
        "colab": {
          "base_uri": "https://localhost:8080/",
          "height": 434
        },
        "id": "OOc8OfKfcpPL",
        "outputId": "75541eb6-f607-42b7-c2c8-43346fa7da8f"
      },
      "execution_count": null,
      "outputs": [
        {
          "output_type": "execute_result",
          "data": {
            "text/plain": [
              "<IPython.core.display.HTML object>"
            ],
            "text/html": [
              "<b>feel good story</b><br/>Maine man <span style='background-color: #fff59d'>wins</span> $1M from $25 lottery ticket <br/><br/><b>climate change</b><br/>Canada's last fully intact ice shelf <span style='background-color: #fff59d'>has</span> <span style='background-color: #fff59d'>suddenly</span> collapsed, forming a Manhattan-sized iceberg <br/><br/><b>public health story</b><br/>US tops 5 million <span style='background-color: #fff59d'>confirmed</span> <span style='background-color: #ffee58'>virus</span> cases <br/><br/><b>war</b><br/>Beijing mobilises <span style='background-color: #ffee58'>invasion</span> <span style='background-color: #fff59d'>craft</span> <span style='background-color: #fff59d'>along</span> coast as Taiwan tensions escalate <br/><br/><b>wildlife</b><br/>The National <span style='background-color: #ffeb3b'>Park</span> Service warns against sacrificing <span style='background-color: #fff59d'>slower</span> friends in a <span style='background-color: #ffeb3b'>bear</span> attack <br/><br/><b>asia</b><br/>Beijing mobilises invasion craft along coast as <span style='background-color: #fff59d'>Taiwan</span> tensions escalate <br/><br/><b>lucky</b><br/>Maine man wins $1M from $25 <span style='background-color: #fff59d'>lottery</span> ticket <br/><br/><b>dishonest junk</b><br/>Make huge <span style='background-color: #fff59d'>profits</span> without work, earn up to $100,000 a day <br/><br/>"
            ]
          },
          "metadata": {},
          "execution_count": 31
        }
      ]
    },
    {
      "cell_type": "markdown",
      "source": [
        "There is also a batch method that can run bulk explainations more efficently. "
      ],
      "metadata": {
        "id": "WOa54eJ-c9nc"
      }
    },
    {
      "cell_type": "code",
      "source": [
        "queries = [\"feel good story\", \"climate change\", \"public health story\", \"war\", \"wildlife\", \"asia\", \"lucky\", \"dishonest junk\"]\n",
        "results = embeddings.batchexplain(queries, limit=1)\n",
        "\n",
        "for x, result in enumerate(results):\n",
        "  print(result)"
      ],
      "metadata": {
        "colab": {
          "base_uri": "https://localhost:8080/"
        },
        "id": "viuEwL4scQjx",
        "outputId": "cb65e678-b694-4fe6-eb94-dea821bda643"
      },
      "execution_count": null,
      "outputs": [
        {
          "output_type": "stream",
          "name": "stdout",
          "text": [
            "[{'id': '4', 'text': 'Maine man wins $1M from $25 lottery ticket', 'score': 0.08329004049301147, 'tokens': [('Maine', 0.003297939896583557), ('man', -0.03039500117301941), ('wins', 0.03406312316656113), ('$1M', -0.03121592104434967), ('from', -0.02270638197660446), ('$25', 0.012891143560409546), ('lottery', -0.015372440218925476), ('ticket', 0.007445111870765686)]}]\n",
            "[{'id': '1', 'text': \"Canada's last fully intact ice shelf has suddenly collapsed, forming a Manhattan-sized iceberg\", 'score': 0.24478264153003693, 'tokens': [(\"Canada's\", -0.026454076170921326), ('last', 0.017057165503501892), ('fully', 0.007285907864570618), ('intact', -0.005608782172203064), ('ice', 0.009459629654884338), ('shelf', -0.029393181204795837), ('has', 0.0253918319940567), ('suddenly', 0.021642476320266724), ('collapsed,', -0.030680224299430847), ('forming', 0.01910528540611267), ('a', -0.00890059769153595), ('Manhattan-sized', -0.023612067103385925), ('iceberg', -0.009710296988487244)]}]\n",
            "[{'id': '0', 'text': 'US tops 5 million confirmed virus cases', 'score': 0.1701308637857437, 'tokens': [('US', -0.02426217496395111), ('tops', -0.04896041750907898), ('5', -0.040287598967552185), ('million', -0.04737819731235504), ('confirmed', 0.02050541341304779), ('virus', 0.05511370301246643), ('cases', -0.029122650623321533)]}]\n",
            "[{'id': '2', 'text': 'Beijing mobilises invasion craft along coast as Taiwan tensions escalate', 'score': 0.2714069187641144, 'tokens': [('Beijing', -0.040329575538635254), ('mobilises', -0.01986941695213318), ('invasion', 0.06464864313602448), ('craft', 0.044328778982162476), ('along', 0.021214008331298828), ('coast', -0.01738378405570984), ('as', -0.02182626724243164), ('Taiwan', -0.020671993494033813), ('tensions', -0.007258296012878418), ('escalate', -0.01663634181022644)]}]\n",
            "[{'id': '3', 'text': 'The National Park Service warns against sacrificing slower friends in a bear attack', 'score': 0.28424495458602905, 'tokens': [('The', -0.022544533014297485), ('National', -0.005589812994003296), ('Park', 0.08145171403884888), ('Service', -0.016785144805908203), ('warns', -0.03266721963882446), ('against', -0.032368004322052), ('sacrificing', -0.04440906643867493), ('slower', 0.034766435623168945), ('friends', 0.0013159513473510742), ('in', -0.008420556783676147), ('a', 0.015498429536819458), ('bear', 0.08734165132045746), ('attack', -0.011731922626495361)]}]\n",
            "[{'id': '2', 'text': 'Beijing mobilises invasion craft along coast as Taiwan tensions escalate', 'score': 0.24338798224925995, 'tokens': [('Beijing', -0.032770439982414246), ('mobilises', -0.04045189917087555), ('invasion', -0.0015233010053634644), ('craft', 0.017402753233909607), ('along', 0.004210904240608215), ('coast', 0.0028585344552993774), ('as', -0.0018710196018218994), ('Taiwan', 0.01866382360458374), ('tensions', -0.011064544320106506), ('escalate', -0.029331132769584656)]}]\n",
            "[{'id': '4', 'text': 'Maine man wins $1M from $25 lottery ticket', 'score': 0.06539873033761978, 'tokens': [('Maine', 0.012625649571418762), ('man', -0.013015367090702057), ('wins', -0.022461198270320892), ('$1M', -0.041918568313121796), ('from', -0.02305116504430771), ('$25', -0.029282495379447937), ('lottery', 0.02279689908027649), ('ticket', -0.009147539734840393)]}]\n",
            "[{'id': '5', 'text': 'Make huge profits without work, earn up to $100,000 a day', 'score': 0.033823199570178986, 'tokens': [('Make', 0.0013405345380306244), ('huge', 0.002276904881000519), ('profits', 0.02767787780612707), ('without', -0.007079385221004486), ('work,', -0.019851915538311005), ('earn', -0.026906955987215042), ('up', 0.00074811652302742), ('to', 0.007462538778781891), ('$100,000', -0.03565136343240738), ('a', -0.009965047240257263), ('day', -0.0021888017654418945)]}]\n"
          ]
        }
      ]
    },
    {
      "cell_type": "markdown",
      "source": [
        "Of course, this method is supported through YAML-based applications and the API."
      ],
      "metadata": {
        "id": "WWH6l9nOdD-l"
      }
    },
    {
      "cell_type": "code",
      "source": [
        "from txtai.app import Application\n",
        "\n",
        "app = Application(\"\"\"\n",
        "writable: true\n",
        "embeddings:\n",
        "  path: sentence-transformers/nli-mpnet-base-v2\n",
        "  content: true\n",
        "\"\"\")\n",
        "\n",
        "app.add([{\"id\": uid, \"text\": text} for uid, text in enumerate(data)])\n",
        "app.index()\n",
        "\n",
        "app.explain(\"feel good story\", limit=1)"
      ],
      "metadata": {
        "colab": {
          "base_uri": "https://localhost:8080/"
        },
        "id": "Nwrd3v6cdKR_",
        "outputId": "da949ae7-f681-4197-9df2-d5e2cb304f24"
      },
      "execution_count": null,
      "outputs": [
        {
          "output_type": "execute_result",
          "data": {
            "text/plain": [
              "[{'id': '4',\n",
              "  'score': 0.08329004049301147,\n",
              "  'text': 'Maine man wins $1M from $25 lottery ticket',\n",
              "  'tokens': [('Maine', 0.003297939896583557),\n",
              "   ('man', -0.03039500117301941),\n",
              "   ('wins', 0.03406312316656113),\n",
              "   ('$1M', -0.03121592104434967),\n",
              "   ('from', -0.02270638197660446),\n",
              "   ('$25', 0.012891143560409546),\n",
              "   ('lottery', -0.015372440218925476),\n",
              "   ('ticket', 0.007445111870765686)]}]"
            ]
          },
          "metadata": {},
          "execution_count": 33
        }
      ]
    },
    {
      "cell_type": "markdown",
      "source": [
        "# Pipeline models\n",
        "\n",
        "txtai pipelines are wrappers around Hugging Face pipelines with logic to easily integrate with txtai's workflow framework. Given that, we can use the [SHAP](https://github.com/slundberg/shap) library to explain predictions.\n",
        "\n",
        "Let's try a sentiment analysis example."
      ],
      "metadata": {
        "id": "RsRuLWYpdup_"
      }
    },
    {
      "cell_type": "code",
      "source": [
        "import shap\n",
        "\n",
        "from txtai.pipeline import Labels\n",
        "\n",
        "data = [\"Dodgers lose again, give up 3 HRs in a loss to the Giants\",\n",
        "        \"Massive dunk!!! they are now up by 15 with 2 minutes to go\"]\n",
        "\n",
        "labels = Labels(dynamic=False)\n",
        "\n",
        "# explain the model on two sample inputs\n",
        "explainer = shap.Explainer(labels.pipeline) \n",
        "shap_values = explainer(data)"
      ],
      "metadata": {
        "id": "SnoPSv1-fxvF"
      },
      "execution_count": null,
      "outputs": []
    },
    {
      "cell_type": "code",
      "source": [
        "shap.plots.text(shap_values[0, :, \"NEGATIVE\"])"
      ],
      "metadata": {
        "colab": {
          "base_uri": "https://localhost:8080/",
          "height": 118
        },
        "id": "YW_qbzPKpRdL",
        "outputId": "c21b3558-feed-4854-9444-954f87aa8422"
      },
      "execution_count": null,
      "outputs": [
        {
          "output_type": "display_data",
          "data": {
            "text/plain": [
              "<IPython.core.display.HTML object>"
            ],
            "text/html": [
              "<svg width=\"100%\" height=\"80px\"><line x1=\"0\" y1=\"33\" x2=\"100%\" y2=\"33\" style=\"stroke:rgb(150,150,150);stroke-width:1\" /><line x1=\"51.93286533173216%\" y1=\"33\" x2=\"51.93286533173216%\" y2=\"37\" style=\"stroke:rgb(150,150,150);stroke-width:1\" /><text x=\"51.93286533173216%\" y=\"27\" font-size=\"12px\" fill=\"rgb(120,120,120)\" dominant-baseline=\"bottom\" text-anchor=\"middle\">0.8</text><line x1=\"41.534001579681%\" y1=\"33\" x2=\"41.534001579681%\" y2=\"37\" style=\"stroke:rgb(150,150,150);stroke-width:1\" /><text x=\"41.534001579681%\" y=\"27\" font-size=\"12px\" fill=\"rgb(120,120,120)\" dominant-baseline=\"bottom\" text-anchor=\"middle\">0.7</text><line x1=\"31.135137827629826%\" y1=\"33\" x2=\"31.135137827629826%\" y2=\"37\" style=\"stroke:rgb(150,150,150);stroke-width:1\" /><text x=\"31.135137827629826%\" y=\"27\" font-size=\"12px\" fill=\"rgb(120,120,120)\" dominant-baseline=\"bottom\" text-anchor=\"middle\">0.6</text><line x1=\"20.73627407557865%\" y1=\"33\" x2=\"20.73627407557865%\" y2=\"37\" style=\"stroke:rgb(150,150,150);stroke-width:1\" /><text x=\"20.73627407557865%\" y=\"27\" font-size=\"12px\" fill=\"rgb(120,120,120)\" dominant-baseline=\"bottom\" text-anchor=\"middle\">0.5</text><line x1=\"10.337410323527479%\" y1=\"33\" x2=\"10.337410323527479%\" y2=\"37\" style=\"stroke:rgb(150,150,150);stroke-width:1\" /><text x=\"10.337410323527479%\" y=\"27\" font-size=\"12px\" fill=\"rgb(120,120,120)\" dominant-baseline=\"bottom\" text-anchor=\"middle\">0.4</text><line x1=\"62.33172908378333%\" y1=\"33\" x2=\"62.33172908378333%\" y2=\"37\" style=\"stroke:rgb(150,150,150);stroke-width:1\" /><text x=\"62.33172908378333%\" y=\"27\" font-size=\"12px\" fill=\"rgb(120,120,120)\" dominant-baseline=\"bottom\" text-anchor=\"middle\">0.9</text><line x1=\"72.7305928358345%\" y1=\"33\" x2=\"72.7305928358345%\" y2=\"37\" style=\"stroke:rgb(150,150,150);stroke-width:1\" /><text x=\"72.7305928358345%\" y=\"27\" font-size=\"12px\" fill=\"rgb(120,120,120)\" dominant-baseline=\"bottom\" text-anchor=\"middle\">1</text><line x1=\"83.12945658788568%\" y1=\"33\" x2=\"83.12945658788568%\" y2=\"37\" style=\"stroke:rgb(150,150,150);stroke-width:1\" /><text x=\"83.12945658788568%\" y=\"27\" font-size=\"12px\" fill=\"rgb(120,120,120)\" dominant-baseline=\"bottom\" text-anchor=\"middle\">1.1</text><line x1=\"27.779939939620668%\" y1=\"33\" x2=\"27.779939939620668%\" y2=\"37\" style=\"stroke:rgb(150,150,150);stroke-width:1\" /><text x=\"27.779939939620668%\" y=\"27\" font-size=\"13px\" style=\"stroke:#ffffff;stroke-width:8px;\" fill=\"rgb(255,255,255)\" dominant-baseline=\"bottom\" text-anchor=\"middle\">0.567735</text><text x=\"27.779939939620668%\" y=\"27\" font-size=\"12px\" fill=\"rgb(120,120,120)\" dominant-baseline=\"bottom\" text-anchor=\"middle\">0.567735</text><text x=\"27.779939939620668%\" y=\"10\" font-size=\"12px\" fill=\"rgb(120,120,120)\" dominant-baseline=\"bottom\" text-anchor=\"middle\">base value</text><line x1=\"72.22005902049294%\" y1=\"33\" x2=\"72.22005902049294%\" y2=\"37\" style=\"stroke:rgb(150,150,150);stroke-width:1\" /><text x=\"72.22005902049294%\" y=\"27\" font-size=\"13px\" style=\"stroke:#ffffff;stroke-width:8px;\" font-weight=\"bold\" fill=\"rgb(255,255,255)\" dominant-baseline=\"bottom\" text-anchor=\"middle\">0.99509</text><text x=\"72.22005902049294%\" y=\"27\" font-size=\"13px\" font-weight=\"bold\" fill=\"rgb(0,0,0)\" dominant-baseline=\"bottom\" text-anchor=\"middle\">0.99509</text><text x=\"72.22005902049294%\" y=\"10\" font-size=\"12px\" fill=\"rgb(120,120,120)\" dominant-baseline=\"bottom\" text-anchor=\"middle\">f<tspan baseline-shift=\"sub\" font-size=\"8px\">NEGATIVE</tspan>(inputs)</text><rect x=\"8.333333246676132%\" width=\"63.886725773816806%\" y=\"40\" height=\"18\" style=\"fill:rgb(255.0, 0.0, 81.08083606031792); stroke-width:0; stroke:rgb(0,0,0)\" /><line x1=\"52.2596619361407%\" x2=\"72.22005902049294%\" y1=\"60\" y2=\"60\" id=\"_fb_ljzrwgfganbhsqkqdlbg_ind_12\" style=\"stroke:rgb(255.0, 0.0, 81.08083606031792);stroke-width:2; opacity: 0\"/><text x=\"62.23986047831682%\" y=\"71\" font-size=\"12px\" id=\"_fs_ljzrwgfganbhsqkqdlbg_ind_12\" fill=\"rgb(255.0, 0.0, 81.08083606031792)\" style=\"opacity: 0\" dominant-baseline=\"middle\" text-anchor=\"middle\">0.192</text><svg x=\"52.2596619361407%\" y=\"40\" height=\"20\" width=\"19.960397084352238%\">  <svg x=\"0\" y=\"0\" width=\"100%\" height=\"100%\">    <text x=\"50%\" y=\"9\" font-size=\"12px\" fill=\"rgb(255,255,255)\" dominant-baseline=\"middle\" text-anchor=\"middle\">loss</text>  </svg></svg><line x1=\"37.427912132891024%\" x2=\"52.2596619361407%\" y1=\"60\" y2=\"60\" id=\"_fb_ljzrwgfganbhsqkqdlbg_ind_2\" style=\"stroke:rgb(255.0, 0.0, 81.08083606031792);stroke-width:2; opacity: 0\"/><text x=\"44.84378703451586%\" y=\"71\" font-size=\"12px\" id=\"_fs_ljzrwgfganbhsqkqdlbg_ind_2\" fill=\"rgb(255.0, 0.0, 81.08083606031792)\" style=\"opacity: 0\" dominant-baseline=\"middle\" text-anchor=\"middle\">0.143</text><svg x=\"37.427912132891024%\" y=\"40\" height=\"20\" width=\"14.831749803249679%\">  <svg x=\"0\" y=\"0\" width=\"100%\" height=\"100%\">    <text x=\"50%\" y=\"9\" font-size=\"12px\" fill=\"rgb(255,255,255)\" dominant-baseline=\"middle\" text-anchor=\"middle\">lose</text>  </svg></svg><line x1=\"28.879130530983815%\" x2=\"37.427912132891024%\" y1=\"60\" y2=\"60\" id=\"_fb_ljzrwgfganbhsqkqdlbg_ind_6\" style=\"stroke:rgb(255.0, 0.0, 81.08083606031792);stroke-width:2; opacity: 0\"/><text x=\"33.15352133193742%\" y=\"71\" font-size=\"12px\" id=\"_fs_ljzrwgfganbhsqkqdlbg_ind_6\" fill=\"rgb(255.0, 0.0, 81.08083606031792)\" style=\"opacity: 0\" dominant-baseline=\"middle\" text-anchor=\"middle\">0.082</text><svg x=\"28.879130530983815%\" y=\"40\" height=\"20\" width=\"8.548781601907208%\">  <svg x=\"0\" y=\"0\" width=\"100%\" height=\"100%\">    <text x=\"50%\" y=\"9\" font-size=\"12px\" fill=\"rgb(255,255,255)\" dominant-baseline=\"middle\" text-anchor=\"middle\">up</text>  </svg></svg><line x1=\"22.735592906053622%\" x2=\"28.879130530983815%\" y1=\"60\" y2=\"60\" id=\"_fb_ljzrwgfganbhsqkqdlbg_ind_1\" style=\"stroke:rgb(255.0, 0.0, 81.08083606031792);stroke-width:2; opacity: 0\"/><text x=\"25.80736171851872%\" y=\"71\" font-size=\"12px\" id=\"_fs_ljzrwgfganbhsqkqdlbg_ind_1\" fill=\"rgb(255.0, 0.0, 81.08083606031792)\" style=\"opacity: 0\" dominant-baseline=\"middle\" text-anchor=\"middle\">0.059</text><svg x=\"22.735592906053622%\" y=\"40\" height=\"20\" width=\"6.143537624930193%\">  <svg x=\"0\" y=\"0\" width=\"100%\" height=\"100%\">    <text x=\"50%\" y=\"9\" font-size=\"12px\" fill=\"rgb(255,255,255)\" dominant-baseline=\"middle\" text-anchor=\"middle\">Dodgers</text>  </svg></svg><line x1=\"17.157079073205008%\" x2=\"22.735592906053622%\" y1=\"60\" y2=\"60\" id=\"_fb_ljzrwgfganbhsqkqdlbg_ind_4\" style=\"stroke:rgb(255.0, 0.0, 81.08083606031792);stroke-width:2; opacity: 0\"/><text x=\"19.946335989629315%\" y=\"71\" font-size=\"12px\" id=\"_fs_ljzrwgfganbhsqkqdlbg_ind_4\" fill=\"rgb(255.0, 0.0, 81.08083606031792)\" style=\"opacity: 0\" dominant-baseline=\"middle\" text-anchor=\"middle\">0.054</text><svg x=\"17.157079073205008%\" y=\"40\" height=\"20\" width=\"5.578513832848614%\">  <svg x=\"0\" y=\"0\" width=\"100%\" height=\"100%\">    <text x=\"50%\" y=\"9\" font-size=\"12px\" fill=\"rgb(255,255,255)\" dominant-baseline=\"middle\" text-anchor=\"middle\">,</text>  </svg></svg><line x1=\"11.84080629171586%\" x2=\"17.157079073205008%\" y1=\"60\" y2=\"60\" id=\"_fb_ljzrwgfganbhsqkqdlbg_ind_3\" style=\"stroke:rgb(255.0, 0.0, 81.08083606031792);stroke-width:2; opacity: 0\"/><text x=\"14.498942682460434%\" y=\"71\" font-size=\"12px\" id=\"_fs_ljzrwgfganbhsqkqdlbg_ind_3\" fill=\"rgb(255.0, 0.0, 81.08083606031792)\" style=\"opacity: 0\" dominant-baseline=\"middle\" text-anchor=\"middle\">0.051</text><svg x=\"11.84080629171586%\" y=\"40\" height=\"20\" width=\"5.316272781489149%\">  <svg x=\"0\" y=\"0\" width=\"100%\" height=\"100%\">    <text x=\"50%\" y=\"9\" font-size=\"12px\" fill=\"rgb(255,255,255)\" dominant-baseline=\"middle\" text-anchor=\"middle\">again</text>  </svg></svg><line x1=\"10.034407197850385%\" x2=\"11.84080629171586%\" y1=\"60\" y2=\"60\" id=\"_fb_ljzrwgfganbhsqkqdlbg_ind_11\" style=\"stroke:rgb(255.0, 0.0, 81.08083606031792);stroke-width:2; opacity: 0\"/><text x=\"10.937606744783121%\" y=\"71\" font-size=\"12px\" id=\"_fs_ljzrwgfganbhsqkqdlbg_ind_11\" fill=\"rgb(255.0, 0.0, 81.08083606031792)\" style=\"opacity: 0\" dominant-baseline=\"middle\" text-anchor=\"middle\">0.017</text><svg x=\"10.034407197850385%\" y=\"40\" height=\"20\" width=\"1.8063990938654744%\">  <svg x=\"0\" y=\"0\" width=\"100%\" height=\"100%\">    <text x=\"50%\" y=\"9\" font-size=\"12px\" fill=\"rgb(255,255,255)\" dominant-baseline=\"middle\" text-anchor=\"middle\">a</text>  </svg></svg><line x1=\"9.081427245269078%\" x2=\"10.034407197850385%\" y1=\"60\" y2=\"60\" id=\"_fb_ljzrwgfganbhsqkqdlbg_ind_8\" style=\"stroke:rgb(255.0, 0.0, 81.08083606031792);stroke-width:2; opacity: 0\"/><text x=\"9.55791722155973%\" y=\"71\" font-size=\"12px\" id=\"_fs_ljzrwgfganbhsqkqdlbg_ind_8\" fill=\"rgb(255.0, 0.0, 81.08083606031792)\" style=\"opacity: 0\" dominant-baseline=\"middle\" text-anchor=\"middle\">0.009</text><svg x=\"9.081427245269078%\" y=\"40\" height=\"20\" width=\"0.9529799525813072%\">  <svg x=\"0\" y=\"0\" width=\"100%\" height=\"100%\">    <text x=\"50%\" y=\"9\" font-size=\"12px\" fill=\"rgb(255,255,255)\" dominant-baseline=\"middle\" text-anchor=\"middle\">HR</text>  </svg></svg><line x1=\"8.333333246676132%\" x2=\"9.081427245269078%\" y1=\"60\" y2=\"60\" id=\"_fb_ljzrwgfganbhsqkqdlbg_ind_9\" style=\"stroke:rgb(255.0, 0.0, 81.08083606031792);stroke-width:2; opacity: 0\"/><text x=\"8.707380245972605%\" y=\"71\" font-size=\"12px\" id=\"_fs_ljzrwgfganbhsqkqdlbg_ind_9\" fill=\"rgb(255.0, 0.0, 81.08083606031792)\" style=\"opacity: 0\" dominant-baseline=\"middle\" text-anchor=\"middle\">0.007</text><svg x=\"8.333333246676132%\" y=\"40\" height=\"20\" width=\"0.748093998592946%\">  <svg x=\"0\" y=\"0\" width=\"100%\" height=\"100%\">    <text x=\"50%\" y=\"9\" font-size=\"12px\" fill=\"rgb(255,255,255)\" dominant-baseline=\"middle\" text-anchor=\"middle\">s</text>  </svg></svg><g transform=\"translate(0,0)\">  <svg x=\"52.2596619361407%\" y=\"40\" height=\"18\" overflow=\"visible\" width=\"30\">    <path d=\"M 0 -9 l 6 18 L 0 25\" fill=\"none\" style=\"stroke:rgb(255.0, 0.0, 81.08083606031792);stroke-width:2\" />  </svg></g><g transform=\"translate(2,0)\">  <svg x=\"52.2596619361407%\" y=\"40\" height=\"18\" overflow=\"visible\" width=\"30\">    <path d=\"M 0 -9 l 6 18 L 0 25\" fill=\"none\" style=\"stroke:rgb(255.0, 0.0, 81.08083606031792);stroke-width:2\" />  </svg></g><g transform=\"translate(4,0)\">  <svg x=\"52.2596619361407%\" y=\"40\" height=\"18\" overflow=\"visible\" width=\"30\">    <path d=\"M 0 -9 l 6 18 L 0 25\" fill=\"none\" style=\"stroke:rgb(255.0, 0.0, 81.08083606031792);stroke-width:2\" />  </svg></g><g transform=\"translate(6,0)\">  <svg x=\"52.2596619361407%\" y=\"40\" height=\"18\" overflow=\"visible\" width=\"30\">    <path d=\"M 0 -9 l 6 18 L 0 25\" fill=\"none\" style=\"stroke:rgb(255.0, 0.0, 81.08083606031792);stroke-width:2\" />  </svg></g><g transform=\"translate(-8,0)\">  <svg x=\"52.2596619361407%\" y=\"40\" height=\"18\" overflow=\"visible\" width=\"30\">    <path d=\"M 0 -9 l 6 18 L 0 25\" fill=\"none\" style=\"stroke:rgb(255.0, 0.0, 81.08083606031792);stroke-width:2\" />  </svg></g><g transform=\"translate(-6,0)\">  <svg x=\"52.2596619361407%\" y=\"40\" height=\"18\" overflow=\"visible\" width=\"30\">    <path d=\"M 0 -9 l 6 18 L 0 25\" fill=\"none\" style=\"stroke:rgb(255.0, 0.0, 81.08083606031792);stroke-width:2\" />  </svg></g><g transform=\"translate(-4,0)\">  <svg x=\"52.2596619361407%\" y=\"40\" height=\"18\" overflow=\"visible\" width=\"30\">    <path d=\"M 0 -9 l 6 18 L 0 25\" fill=\"none\" style=\"stroke:rgb(255.0, 0.0, 81.08083606031792);stroke-width:2\" />  </svg></g><g transform=\"translate(-2,0)\">  <svg x=\"52.2596619361407%\" y=\"40\" height=\"18\" overflow=\"visible\" width=\"30\">    <path d=\"M 0 -9 l 6 18 L 0 25\" fill=\"none\" style=\"stroke:rgb(255.0, 0.0, 81.08083606031792);stroke-width:2\" />  </svg></g><g transform=\"translate(0,0)\">  <svg x=\"37.427912132891024%\" y=\"40\" height=\"18\" overflow=\"visible\" width=\"30\">    <path d=\"M 0 -9 l 6 18 L 0 25\" fill=\"none\" style=\"stroke:rgb(255.0, 0.0, 81.08083606031792);stroke-width:2\" />  </svg></g><g transform=\"translate(2,0)\">  <svg x=\"37.427912132891024%\" y=\"40\" height=\"18\" overflow=\"visible\" width=\"30\">    <path d=\"M 0 -9 l 6 18 L 0 25\" fill=\"none\" style=\"stroke:rgb(255.0, 0.0, 81.08083606031792);stroke-width:2\" />  </svg></g><g transform=\"translate(4,0)\">  <svg x=\"37.427912132891024%\" y=\"40\" height=\"18\" overflow=\"visible\" width=\"30\">    <path d=\"M 0 -9 l 6 18 L 0 25\" fill=\"none\" style=\"stroke:rgb(255.0, 0.0, 81.08083606031792);stroke-width:2\" />  </svg></g><g transform=\"translate(6,0)\">  <svg x=\"37.427912132891024%\" y=\"40\" height=\"18\" overflow=\"visible\" width=\"30\">    <path d=\"M 0 -9 l 6 18 L 0 25\" fill=\"none\" style=\"stroke:rgb(255.0, 0.0, 81.08083606031792);stroke-width:2\" />  </svg></g><g transform=\"translate(-8,0)\">  <svg x=\"37.427912132891024%\" y=\"40\" height=\"18\" overflow=\"visible\" width=\"30\">    <path d=\"M 0 -9 l 6 18 L 0 25\" fill=\"none\" style=\"stroke:rgb(255.0, 0.0, 81.08083606031792);stroke-width:2\" />  </svg></g><g transform=\"translate(-6,0)\">  <svg x=\"37.427912132891024%\" y=\"40\" height=\"18\" overflow=\"visible\" width=\"30\">    <path d=\"M 0 -9 l 6 18 L 0 25\" fill=\"none\" style=\"stroke:rgb(255.0, 0.0, 81.08083606031792);stroke-width:2\" />  </svg></g><g transform=\"translate(-4,0)\">  <svg x=\"37.427912132891024%\" y=\"40\" height=\"18\" overflow=\"visible\" width=\"30\">    <path d=\"M 0 -9 l 6 18 L 0 25\" fill=\"none\" style=\"stroke:rgb(255.0, 0.0, 81.08083606031792);stroke-width:2\" />  </svg></g><g transform=\"translate(-2,0)\">  <svg x=\"37.427912132891024%\" y=\"40\" height=\"18\" overflow=\"visible\" width=\"30\">    <path d=\"M 0 -9 l 6 18 L 0 25\" fill=\"none\" style=\"stroke:rgb(255.0, 0.0, 81.08083606031792);stroke-width:2\" />  </svg></g><g transform=\"translate(0,0)\">  <svg x=\"28.879130530983815%\" y=\"40\" height=\"18\" overflow=\"visible\" width=\"30\">    <path d=\"M 0 -9 l 6 18 L 0 25\" fill=\"none\" style=\"stroke:rgb(255.0, 0.0, 81.08083606031792);stroke-width:2\" />  </svg></g><g transform=\"translate(2,0)\">  <svg x=\"28.879130530983815%\" y=\"40\" height=\"18\" overflow=\"visible\" width=\"30\">    <path d=\"M 0 -9 l 6 18 L 0 25\" fill=\"none\" style=\"stroke:rgb(255.0, 0.0, 81.08083606031792);stroke-width:2\" />  </svg></g><g transform=\"translate(4,0)\">  <svg x=\"28.879130530983815%\" y=\"40\" height=\"18\" overflow=\"visible\" width=\"30\">    <path d=\"M 0 -9 l 6 18 L 0 25\" fill=\"none\" style=\"stroke:rgb(255.0, 0.0, 81.08083606031792);stroke-width:2\" />  </svg></g><g transform=\"translate(6,0)\">  <svg x=\"28.879130530983815%\" y=\"40\" height=\"18\" overflow=\"visible\" width=\"30\">    <path d=\"M 0 -9 l 6 18 L 0 25\" fill=\"none\" style=\"stroke:rgb(255.0, 0.0, 81.08083606031792);stroke-width:2\" />  </svg></g><g transform=\"translate(-8,0)\">  <svg x=\"28.879130530983815%\" y=\"40\" height=\"18\" overflow=\"visible\" width=\"30\">    <path d=\"M 0 -9 l 6 18 L 0 25\" fill=\"none\" style=\"stroke:rgb(255.0, 0.0, 81.08083606031792);stroke-width:2\" />  </svg></g><g transform=\"translate(-6,0)\">  <svg x=\"28.879130530983815%\" y=\"40\" height=\"18\" overflow=\"visible\" width=\"30\">    <path d=\"M 0 -9 l 6 18 L 0 25\" fill=\"none\" style=\"stroke:rgb(255.0, 0.0, 81.08083606031792);stroke-width:2\" />  </svg></g><g transform=\"translate(-4,0)\">  <svg x=\"28.879130530983815%\" y=\"40\" height=\"18\" overflow=\"visible\" width=\"30\">    <path d=\"M 0 -9 l 6 18 L 0 25\" fill=\"none\" style=\"stroke:rgb(255.0, 0.0, 81.08083606031792);stroke-width:2\" />  </svg></g><g transform=\"translate(-2,0)\">  <svg x=\"28.879130530983815%\" y=\"40\" height=\"18\" overflow=\"visible\" width=\"30\">    <path d=\"M 0 -9 l 6 18 L 0 25\" fill=\"none\" style=\"stroke:rgb(255.0, 0.0, 81.08083606031792);stroke-width:2\" />  </svg></g><g transform=\"translate(0,0)\">  <svg x=\"22.735592906053622%\" y=\"40\" height=\"18\" overflow=\"visible\" width=\"30\">    <path d=\"M 0 -9 l 6 18 L 0 25\" fill=\"none\" style=\"stroke:rgb(255.0, 0.0, 81.08083606031792);stroke-width:2\" />  </svg></g><g transform=\"translate(2,0)\">  <svg x=\"22.735592906053622%\" y=\"40\" height=\"18\" overflow=\"visible\" width=\"30\">    <path d=\"M 0 -9 l 6 18 L 0 25\" fill=\"none\" style=\"stroke:rgb(255.0, 0.0, 81.08083606031792);stroke-width:2\" />  </svg></g><g transform=\"translate(4,0)\">  <svg x=\"22.735592906053622%\" y=\"40\" height=\"18\" overflow=\"visible\" width=\"30\">    <path d=\"M 0 -9 l 6 18 L 0 25\" fill=\"none\" style=\"stroke:rgb(255.0, 0.0, 81.08083606031792);stroke-width:2\" />  </svg></g><g transform=\"translate(6,0)\">  <svg x=\"22.735592906053622%\" y=\"40\" height=\"18\" overflow=\"visible\" width=\"30\">    <path d=\"M 0 -9 l 6 18 L 0 25\" fill=\"none\" style=\"stroke:rgb(255.0, 0.0, 81.08083606031792);stroke-width:2\" />  </svg></g><g transform=\"translate(-8,0)\">  <svg x=\"22.735592906053622%\" y=\"40\" height=\"18\" overflow=\"visible\" width=\"30\">    <path d=\"M 0 -9 l 6 18 L 0 25\" fill=\"none\" style=\"stroke:rgb(255.0, 0.0, 81.08083606031792);stroke-width:2\" />  </svg></g><g transform=\"translate(-6,0)\">  <svg x=\"22.735592906053622%\" y=\"40\" height=\"18\" overflow=\"visible\" width=\"30\">    <path d=\"M 0 -9 l 6 18 L 0 25\" fill=\"none\" style=\"stroke:rgb(255.0, 0.0, 81.08083606031792);stroke-width:2\" />  </svg></g><g transform=\"translate(-4,0)\">  <svg x=\"22.735592906053622%\" y=\"40\" height=\"18\" overflow=\"visible\" width=\"30\">    <path d=\"M 0 -9 l 6 18 L 0 25\" fill=\"none\" style=\"stroke:rgb(255.0, 0.0, 81.08083606031792);stroke-width:2\" />  </svg></g><g transform=\"translate(-2,0)\">  <svg x=\"22.735592906053622%\" y=\"40\" height=\"18\" overflow=\"visible\" width=\"30\">    <path d=\"M 0 -9 l 6 18 L 0 25\" fill=\"none\" style=\"stroke:rgb(255.0, 0.0, 81.08083606031792);stroke-width:2\" />  </svg></g><g transform=\"translate(0,0)\">  <svg x=\"17.157079073205008%\" y=\"40\" height=\"18\" overflow=\"visible\" width=\"30\">    <path d=\"M 0 -9 l 6 18 L 0 25\" fill=\"none\" style=\"stroke:rgb(255.0, 0.0, 81.08083606031792);stroke-width:2\" />  </svg></g><g transform=\"translate(2,0)\">  <svg x=\"17.157079073205008%\" y=\"40\" height=\"18\" overflow=\"visible\" width=\"30\">    <path d=\"M 0 -9 l 6 18 L 0 25\" fill=\"none\" style=\"stroke:rgb(255.0, 0.0, 81.08083606031792);stroke-width:2\" />  </svg></g><g transform=\"translate(4,0)\">  <svg x=\"17.157079073205008%\" y=\"40\" height=\"18\" overflow=\"visible\" width=\"30\">    <path d=\"M 0 -9 l 6 18 L 0 25\" fill=\"none\" style=\"stroke:rgb(255.0, 0.0, 81.08083606031792);stroke-width:2\" />  </svg></g><g transform=\"translate(6,0)\">  <svg x=\"17.157079073205008%\" y=\"40\" height=\"18\" overflow=\"visible\" width=\"30\">    <path d=\"M 0 -9 l 6 18 L 0 25\" fill=\"none\" style=\"stroke:rgb(255.0, 0.0, 81.08083606031792);stroke-width:2\" />  </svg></g><g transform=\"translate(-8,0)\">  <svg x=\"17.157079073205008%\" y=\"40\" height=\"18\" overflow=\"visible\" width=\"30\">    <path d=\"M 0 -9 l 6 18 L 0 25\" fill=\"none\" style=\"stroke:rgb(255.0, 0.0, 81.08083606031792);stroke-width:2\" />  </svg></g><g transform=\"translate(-6,0)\">  <svg x=\"17.157079073205008%\" y=\"40\" height=\"18\" overflow=\"visible\" width=\"30\">    <path d=\"M 0 -9 l 6 18 L 0 25\" fill=\"none\" style=\"stroke:rgb(255.0, 0.0, 81.08083606031792);stroke-width:2\" />  </svg></g><g transform=\"translate(-4,0)\">  <svg x=\"17.157079073205008%\" y=\"40\" height=\"18\" overflow=\"visible\" width=\"30\">    <path d=\"M 0 -9 l 6 18 L 0 25\" fill=\"none\" style=\"stroke:rgb(255.0, 0.0, 81.08083606031792);stroke-width:2\" />  </svg></g><g transform=\"translate(-2,0)\">  <svg x=\"17.157079073205008%\" y=\"40\" height=\"18\" overflow=\"visible\" width=\"30\">    <path d=\"M 0 -9 l 6 18 L 0 25\" fill=\"none\" style=\"stroke:rgb(255.0, 0.0, 81.08083606031792);stroke-width:2\" />  </svg></g><g transform=\"translate(0,0)\">  <svg x=\"11.84080629171586%\" y=\"40\" height=\"18\" overflow=\"visible\" width=\"30\">    <path d=\"M 0 -9 l 6 18 L 0 25\" fill=\"none\" style=\"stroke:rgb(255.0, 0.0, 81.08083606031792);stroke-width:2\" />  </svg></g><g transform=\"translate(2,0)\">  <svg x=\"11.84080629171586%\" y=\"40\" height=\"18\" overflow=\"visible\" width=\"30\">    <path d=\"M 0 -9 l 6 18 L 0 25\" fill=\"none\" style=\"stroke:rgb(255.0, 0.0, 81.08083606031792);stroke-width:2\" />  </svg></g><g transform=\"translate(4,0)\">  <svg x=\"11.84080629171586%\" y=\"40\" height=\"18\" overflow=\"visible\" width=\"30\">    <path d=\"M 0 -9 l 6 18 L 0 25\" fill=\"none\" style=\"stroke:rgb(255.0, 0.0, 81.08083606031792);stroke-width:2\" />  </svg></g><g transform=\"translate(6,0)\">  <svg x=\"11.84080629171586%\" y=\"40\" height=\"18\" overflow=\"visible\" width=\"30\">    <path d=\"M 0 -9 l 6 18 L 0 25\" fill=\"none\" style=\"stroke:rgb(255.0, 0.0, 81.08083606031792);stroke-width:2\" />  </svg></g><g transform=\"translate(-8,0)\">  <svg x=\"11.84080629171586%\" y=\"40\" height=\"18\" overflow=\"visible\" width=\"30\">    <path d=\"M 0 -9 l 6 18 L 0 25\" fill=\"none\" style=\"stroke:rgb(255.0, 0.0, 81.08083606031792);stroke-width:2\" />  </svg></g><g transform=\"translate(-6,0)\">  <svg x=\"11.84080629171586%\" y=\"40\" height=\"18\" overflow=\"visible\" width=\"30\">    <path d=\"M 0 -9 l 6 18 L 0 25\" fill=\"none\" style=\"stroke:rgb(255.0, 0.0, 81.08083606031792);stroke-width:2\" />  </svg></g><g transform=\"translate(-4,0)\">  <svg x=\"11.84080629171586%\" y=\"40\" height=\"18\" overflow=\"visible\" width=\"30\">    <path d=\"M 0 -9 l 6 18 L 0 25\" fill=\"none\" style=\"stroke:rgb(255.0, 0.0, 81.08083606031792);stroke-width:2\" />  </svg></g><g transform=\"translate(-2,0)\">  <svg x=\"11.84080629171586%\" y=\"40\" height=\"18\" overflow=\"visible\" width=\"30\">    <path d=\"M 0 -9 l 6 18 L 0 25\" fill=\"none\" style=\"stroke:rgb(255.0, 0.0, 81.08083606031792);stroke-width:2\" />  </svg></g><g transform=\"translate(0,0)\">  <svg x=\"10.034407197850385%\" y=\"40\" height=\"18\" overflow=\"visible\" width=\"30\">    <path d=\"M 0 -9 l 6 18 L 0 25\" fill=\"none\" style=\"stroke:rgb(255.0, 0.0, 81.08083606031792);stroke-width:2\" />  </svg></g><g transform=\"translate(2,0)\">  <svg x=\"10.034407197850385%\" y=\"40\" height=\"18\" overflow=\"visible\" width=\"30\">    <path d=\"M 0 -9 l 6 18 L 0 25\" fill=\"none\" style=\"stroke:rgb(255.0, 0.0, 81.08083606031792);stroke-width:2\" />  </svg></g><g transform=\"translate(4,0)\">  <svg x=\"10.034407197850385%\" y=\"40\" height=\"18\" overflow=\"visible\" width=\"30\">    <path d=\"M 0 -9 l 6 18 L 0 25\" fill=\"none\" style=\"stroke:rgb(255.0, 0.0, 81.08083606031792);stroke-width:2\" />  </svg></g><g transform=\"translate(6,0)\">  <svg x=\"10.034407197850385%\" y=\"40\" height=\"18\" overflow=\"visible\" width=\"30\">    <path d=\"M 0 -9 l 6 18 L 0 25\" fill=\"none\" style=\"stroke:rgb(255.0, 0.0, 81.08083606031792);stroke-width:2\" />  </svg></g><g transform=\"translate(-8,0)\">  <svg x=\"10.034407197850385%\" y=\"40\" height=\"18\" overflow=\"visible\" width=\"30\">    <path d=\"M 0 -9 l 6 18 L 0 25\" fill=\"none\" style=\"stroke:rgb(255.0, 0.0, 81.08083606031792);stroke-width:2\" />  </svg></g><g transform=\"translate(-6,0)\">  <svg x=\"10.034407197850385%\" y=\"40\" height=\"18\" overflow=\"visible\" width=\"30\">    <path d=\"M 0 -9 l 6 18 L 0 25\" fill=\"none\" style=\"stroke:rgb(255.0, 0.0, 81.08083606031792);stroke-width:2\" />  </svg></g><g transform=\"translate(-4,0)\">  <svg x=\"10.034407197850385%\" y=\"40\" height=\"18\" overflow=\"visible\" width=\"30\">    <path d=\"M 0 -9 l 6 18 L 0 25\" fill=\"none\" style=\"stroke:rgb(255.0, 0.0, 81.08083606031792);stroke-width:2\" />  </svg></g><g transform=\"translate(-2,0)\">  <svg x=\"10.034407197850385%\" y=\"40\" height=\"18\" overflow=\"visible\" width=\"30\">    <path d=\"M 0 -9 l 6 18 L 0 25\" fill=\"none\" style=\"stroke:rgb(255.0, 0.0, 81.08083606031792);stroke-width:2\" />  </svg></g><g transform=\"translate(0,0)\">  <svg x=\"9.081427245269078%\" y=\"40\" height=\"18\" overflow=\"visible\" width=\"30\">    <path d=\"M 0 -9 l 6 18 L 0 25\" fill=\"none\" style=\"stroke:rgb(255.0, 0.0, 81.08083606031792);stroke-width:2\" />  </svg></g><g transform=\"translate(2,0)\">  <svg x=\"9.081427245269078%\" y=\"40\" height=\"18\" overflow=\"visible\" width=\"30\">    <path d=\"M 0 -9 l 6 18 L 0 25\" fill=\"none\" style=\"stroke:rgb(255.0, 0.0, 81.08083606031792);stroke-width:2\" />  </svg></g><g transform=\"translate(4,0)\">  <svg x=\"9.081427245269078%\" y=\"40\" height=\"18\" overflow=\"visible\" width=\"30\">    <path d=\"M 0 -9 l 6 18 L 0 25\" fill=\"none\" style=\"stroke:rgb(255.0, 0.0, 81.08083606031792);stroke-width:2\" />  </svg></g><g transform=\"translate(6,0)\">  <svg x=\"9.081427245269078%\" y=\"40\" height=\"18\" overflow=\"visible\" width=\"30\">    <path d=\"M 0 -9 l 6 18 L 0 25\" fill=\"none\" style=\"stroke:rgb(255.0, 0.0, 81.08083606031792);stroke-width:2\" />  </svg></g><g transform=\"translate(-8,0)\">  <svg x=\"9.081427245269078%\" y=\"40\" height=\"18\" overflow=\"visible\" width=\"30\">    <path d=\"M 0 -9 l 6 18 L 0 25\" fill=\"none\" style=\"stroke:rgb(255.0, 0.0, 81.08083606031792);stroke-width:2\" />  </svg></g><g transform=\"translate(-6,0)\">  <svg x=\"9.081427245269078%\" y=\"40\" height=\"18\" overflow=\"visible\" width=\"30\">    <path d=\"M 0 -9 l 6 18 L 0 25\" fill=\"none\" style=\"stroke:rgb(255.0, 0.0, 81.08083606031792);stroke-width:2\" />  </svg></g><g transform=\"translate(-4,0)\">  <svg x=\"9.081427245269078%\" y=\"40\" height=\"18\" overflow=\"visible\" width=\"30\">    <path d=\"M 0 -9 l 6 18 L 0 25\" fill=\"none\" style=\"stroke:rgb(255.0, 0.0, 81.08083606031792);stroke-width:2\" />  </svg></g><g transform=\"translate(-2,0)\">  <svg x=\"9.081427245269078%\" y=\"40\" height=\"18\" overflow=\"visible\" width=\"30\">    <path d=\"M 0 -9 l 6 18 L 0 25\" fill=\"none\" style=\"stroke:rgb(255.0, 0.0, 81.08083606031792);stroke-width:2\" />  </svg></g><rect transform=\"translate(-8,0)\" x=\"72.22005902049294%\" y=\"40\" width=\"8\" height=\"18\" style=\"fill:rgb(255.0, 0.0, 81.08083606031792)\"/><g transform=\"translate(-11.5,0)\">  <svg x=\"8.333333246676132%\" y=\"40\" height=\"18\" overflow=\"visible\" width=\"30\">    <path d=\"M 10 -9 l 6 18 L 10 25 L 0 25 L 0 -9\" fill=\"#ffffff\" style=\"stroke:rgb(255,255,255);stroke-width:2\" />  </svg></g><g transform=\"translate(-1.5,0)\">  <svg x=\"72.22005902049294%\" y=\"40\" height=\"18\" overflow=\"visible\" width=\"30\">    <path d=\"M 0 -9 l 6 18 L 0 25\" fill=\"none\" style=\"stroke:rgb(255, 195, 213);stroke-width:2\" />  </svg></g><rect x=\"52.2596619361407%\" y=\"40\" height=\"20\" width=\"19.960397084352238%\"      onmouseover=\"document.getElementById('_tp_ljzrwgfganbhsqkqdlbg_ind_12').style.textDecoration = 'underline';document.getElementById('_fs_ljzrwgfganbhsqkqdlbg_ind_12').style.opacity = 1;document.getElementById('_fb_ljzrwgfganbhsqkqdlbg_ind_12').style.opacity = 1;\"      onmouseout=\"document.getElementById('_tp_ljzrwgfganbhsqkqdlbg_ind_12').style.textDecoration = 'none';document.getElementById('_fs_ljzrwgfganbhsqkqdlbg_ind_12').style.opacity = 0;document.getElementById('_fb_ljzrwgfganbhsqkqdlbg_ind_12').style.opacity = 0;\" style=\"fill:rgb(0,0,0,0)\" /><g transform=\"translate(-1.5,0)\">  <svg x=\"52.2596619361407%\" y=\"40\" height=\"18\" overflow=\"visible\" width=\"30\">    <path d=\"M 0 -9 l 6 18 L 0 25\" fill=\"none\" style=\"stroke:rgb(255, 195, 213);stroke-width:2\" />  </svg></g><rect x=\"37.427912132891024%\" y=\"40\" height=\"20\" width=\"14.831749803249679%\"      onmouseover=\"document.getElementById('_tp_ljzrwgfganbhsqkqdlbg_ind_2').style.textDecoration = 'underline';document.getElementById('_fs_ljzrwgfganbhsqkqdlbg_ind_2').style.opacity = 1;document.getElementById('_fb_ljzrwgfganbhsqkqdlbg_ind_2').style.opacity = 1;\"      onmouseout=\"document.getElementById('_tp_ljzrwgfganbhsqkqdlbg_ind_2').style.textDecoration = 'none';document.getElementById('_fs_ljzrwgfganbhsqkqdlbg_ind_2').style.opacity = 0;document.getElementById('_fb_ljzrwgfganbhsqkqdlbg_ind_2').style.opacity = 0;\" style=\"fill:rgb(0,0,0,0)\" /><g transform=\"translate(-1.5,0)\">  <svg x=\"37.427912132891024%\" y=\"40\" height=\"18\" overflow=\"visible\" width=\"30\">    <path d=\"M 0 -9 l 6 18 L 0 25\" fill=\"none\" style=\"stroke:rgb(255, 195, 213);stroke-width:2\" />  </svg></g><rect x=\"28.879130530983815%\" y=\"40\" height=\"20\" width=\"8.548781601907208%\"      onmouseover=\"document.getElementById('_tp_ljzrwgfganbhsqkqdlbg_ind_6').style.textDecoration = 'underline';document.getElementById('_fs_ljzrwgfganbhsqkqdlbg_ind_6').style.opacity = 1;document.getElementById('_fb_ljzrwgfganbhsqkqdlbg_ind_6').style.opacity = 1;\"      onmouseout=\"document.getElementById('_tp_ljzrwgfganbhsqkqdlbg_ind_6').style.textDecoration = 'none';document.getElementById('_fs_ljzrwgfganbhsqkqdlbg_ind_6').style.opacity = 0;document.getElementById('_fb_ljzrwgfganbhsqkqdlbg_ind_6').style.opacity = 0;\" style=\"fill:rgb(0,0,0,0)\" /><g transform=\"translate(-1.5,0)\">  <svg x=\"28.879130530983815%\" y=\"40\" height=\"18\" overflow=\"visible\" width=\"30\">    <path d=\"M 0 -9 l 6 18 L 0 25\" fill=\"none\" style=\"stroke:rgb(255, 195, 213);stroke-width:2\" />  </svg></g><rect x=\"22.735592906053622%\" y=\"40\" height=\"20\" width=\"6.143537624930193%\"      onmouseover=\"document.getElementById('_tp_ljzrwgfganbhsqkqdlbg_ind_1').style.textDecoration = 'underline';document.getElementById('_fs_ljzrwgfganbhsqkqdlbg_ind_1').style.opacity = 1;document.getElementById('_fb_ljzrwgfganbhsqkqdlbg_ind_1').style.opacity = 1;\"      onmouseout=\"document.getElementById('_tp_ljzrwgfganbhsqkqdlbg_ind_1').style.textDecoration = 'none';document.getElementById('_fs_ljzrwgfganbhsqkqdlbg_ind_1').style.opacity = 0;document.getElementById('_fb_ljzrwgfganbhsqkqdlbg_ind_1').style.opacity = 0;\" style=\"fill:rgb(0,0,0,0)\" /><g transform=\"translate(-1.5,0)\">  <svg x=\"22.735592906053622%\" y=\"40\" height=\"18\" overflow=\"visible\" width=\"30\">    <path d=\"M 0 -9 l 6 18 L 0 25\" fill=\"none\" style=\"stroke:rgb(255, 195, 213);stroke-width:2\" />  </svg></g><rect x=\"17.157079073205008%\" y=\"40\" height=\"20\" width=\"5.578513832848614%\"      onmouseover=\"document.getElementById('_tp_ljzrwgfganbhsqkqdlbg_ind_4').style.textDecoration = 'underline';document.getElementById('_fs_ljzrwgfganbhsqkqdlbg_ind_4').style.opacity = 1;document.getElementById('_fb_ljzrwgfganbhsqkqdlbg_ind_4').style.opacity = 1;\"      onmouseout=\"document.getElementById('_tp_ljzrwgfganbhsqkqdlbg_ind_4').style.textDecoration = 'none';document.getElementById('_fs_ljzrwgfganbhsqkqdlbg_ind_4').style.opacity = 0;document.getElementById('_fb_ljzrwgfganbhsqkqdlbg_ind_4').style.opacity = 0;\" style=\"fill:rgb(0,0,0,0)\" /><g transform=\"translate(-1.5,0)\">  <svg x=\"17.157079073205008%\" y=\"40\" height=\"18\" overflow=\"visible\" width=\"30\">    <path d=\"M 0 -9 l 6 18 L 0 25\" fill=\"none\" style=\"stroke:rgb(255, 195, 213);stroke-width:2\" />  </svg></g><rect x=\"11.84080629171586%\" y=\"40\" height=\"20\" width=\"5.316272781489149%\"      onmouseover=\"document.getElementById('_tp_ljzrwgfganbhsqkqdlbg_ind_3').style.textDecoration = 'underline';document.getElementById('_fs_ljzrwgfganbhsqkqdlbg_ind_3').style.opacity = 1;document.getElementById('_fb_ljzrwgfganbhsqkqdlbg_ind_3').style.opacity = 1;\"      onmouseout=\"document.getElementById('_tp_ljzrwgfganbhsqkqdlbg_ind_3').style.textDecoration = 'none';document.getElementById('_fs_ljzrwgfganbhsqkqdlbg_ind_3').style.opacity = 0;document.getElementById('_fb_ljzrwgfganbhsqkqdlbg_ind_3').style.opacity = 0;\" style=\"fill:rgb(0,0,0,0)\" /><g transform=\"translate(-1.5,0)\">  <svg x=\"11.84080629171586%\" y=\"40\" height=\"18\" overflow=\"visible\" width=\"30\">    <path d=\"M 0 -9 l 6 18 L 0 25\" fill=\"none\" style=\"stroke:rgb(255, 195, 213);stroke-width:2\" />  </svg></g><rect x=\"10.034407197850385%\" y=\"40\" height=\"20\" width=\"1.8063990938654744%\"      onmouseover=\"document.getElementById('_tp_ljzrwgfganbhsqkqdlbg_ind_11').style.textDecoration = 'underline';document.getElementById('_fs_ljzrwgfganbhsqkqdlbg_ind_11').style.opacity = 1;document.getElementById('_fb_ljzrwgfganbhsqkqdlbg_ind_11').style.opacity = 1;\"      onmouseout=\"document.getElementById('_tp_ljzrwgfganbhsqkqdlbg_ind_11').style.textDecoration = 'none';document.getElementById('_fs_ljzrwgfganbhsqkqdlbg_ind_11').style.opacity = 0;document.getElementById('_fb_ljzrwgfganbhsqkqdlbg_ind_11').style.opacity = 0;\" style=\"fill:rgb(0,0,0,0)\" /><g transform=\"translate(-1.5,0)\">  <svg x=\"10.034407197850385%\" y=\"40\" height=\"18\" overflow=\"visible\" width=\"30\">    <path d=\"M 0 -9 l 6 18 L 0 25\" fill=\"none\" style=\"stroke:rgb(255, 195, 213);stroke-width:2\" />  </svg></g><rect x=\"9.081427245269078%\" y=\"40\" height=\"20\" width=\"0.9529799525813072%\"      onmouseover=\"document.getElementById('_tp_ljzrwgfganbhsqkqdlbg_ind_8').style.textDecoration = 'underline';document.getElementById('_fs_ljzrwgfganbhsqkqdlbg_ind_8').style.opacity = 1;document.getElementById('_fb_ljzrwgfganbhsqkqdlbg_ind_8').style.opacity = 1;\"      onmouseout=\"document.getElementById('_tp_ljzrwgfganbhsqkqdlbg_ind_8').style.textDecoration = 'none';document.getElementById('_fs_ljzrwgfganbhsqkqdlbg_ind_8').style.opacity = 0;document.getElementById('_fb_ljzrwgfganbhsqkqdlbg_ind_8').style.opacity = 0;\" style=\"fill:rgb(0,0,0,0)\" /><rect x=\"8.333333246676132%\" y=\"40\" height=\"20\" width=\"0.748093998592946%\"      onmouseover=\"document.getElementById('_tp_ljzrwgfganbhsqkqdlbg_ind_9').style.textDecoration = 'underline';document.getElementById('_fs_ljzrwgfganbhsqkqdlbg_ind_9').style.opacity = 1;document.getElementById('_fb_ljzrwgfganbhsqkqdlbg_ind_9').style.opacity = 1;\"      onmouseout=\"document.getElementById('_tp_ljzrwgfganbhsqkqdlbg_ind_9').style.textDecoration = 'none';document.getElementById('_fs_ljzrwgfganbhsqkqdlbg_ind_9').style.opacity = 0;document.getElementById('_fb_ljzrwgfganbhsqkqdlbg_ind_9').style.opacity = 0;\" style=\"fill:rgb(0,0,0,0)\" /><rect x=\"72.22005902049294%\" width=\"19.446606692944535%\" y=\"40\" height=\"18\" style=\"fill:rgb(0.0, 138.56128015770727, 250.76166088685727); stroke-width:0; stroke:rgb(0,0,0)\" /><line x1=\"72.22005902049294%\" x2=\"83.45507502958797%\" y1=\"60\" y2=\"60\" id=\"_fb_ljzrwgfganbhsqkqdlbg_ind_15\" style=\"stroke:rgb(0.0, 138.56128015770727, 250.76166088685727);stroke-width:2; opacity: 0\"/><text x=\"77.83756702504046%\" y=\"71\" font-size=\"12px\" fill=\"rgb(0.0, 138.56128015770727, 250.76166088685727)\" id=\"_fs_ljzrwgfganbhsqkqdlbg_ind_15\" style=\"opacity: 0\" dominant-baseline=\"middle\" text-anchor=\"middle\">-0.108</text><svg x=\"72.22005902049294%\" y=\"40\" height=\"20\" width=\"11.235016009095034%\">  <svg x=\"0\" y=\"0\" width=\"100%\" height=\"100%\">    <text x=\"50%\" y=\"9\" font-size=\"12px\" fill=\"rgb(255,255,255)\" dominant-baseline=\"middle\" text-anchor=\"middle\">Giants</text>  </svg></svg><line x1=\"83.45507502958797%\" x2=\"85.60053903029602%\" y1=\"60\" y2=\"60\" id=\"_fb_ljzrwgfganbhsqkqdlbg_ind_5\" style=\"stroke:rgb(0.0, 138.56128015770727, 250.76166088685727);stroke-width:2; opacity: 0\"/><text x=\"84.527807029942%\" y=\"71\" font-size=\"12px\" fill=\"rgb(0.0, 138.56128015770727, 250.76166088685727)\" id=\"_fs_ljzrwgfganbhsqkqdlbg_ind_5\" style=\"opacity: 0\" dominant-baseline=\"middle\" text-anchor=\"middle\">-0.021</text><svg x=\"83.45507502958797%\" y=\"40\" height=\"20\" width=\"2.1454640007080457%\">  <svg x=\"0\" y=\"0\" width=\"100%\" height=\"100%\">    <text x=\"50%\" y=\"9\" font-size=\"12px\" fill=\"rgb(255,255,255)\" dominant-baseline=\"middle\" text-anchor=\"middle\">give</text>  </svg></svg><line x1=\"85.60053903029602%\" x2=\"87.63152623744902%\" y1=\"60\" y2=\"60\" id=\"_fb_ljzrwgfganbhsqkqdlbg_ind_14\" style=\"stroke:rgb(0.0, 138.56128015770727, 250.76166088685727);stroke-width:2; opacity: 0\"/><text x=\"86.61603263387252%\" y=\"71\" font-size=\"12px\" fill=\"rgb(0.0, 138.56128015770727, 250.76166088685727)\" id=\"_fs_ljzrwgfganbhsqkqdlbg_ind_14\" style=\"opacity: 0\" dominant-baseline=\"middle\" text-anchor=\"middle\">-0.02</text><svg x=\"85.60053903029602%\" y=\"40\" height=\"20\" width=\"2.0309872071530037%\">  <svg x=\"0\" y=\"0\" width=\"100%\" height=\"100%\">    <text x=\"50%\" y=\"9\" font-size=\"12px\" fill=\"rgb(255,255,255)\" dominant-baseline=\"middle\" text-anchor=\"middle\">the</text>  </svg></svg><line x1=\"87.63152623744902%\" x2=\"89.49338280924111%\" y1=\"60\" y2=\"60\" id=\"_fb_ljzrwgfganbhsqkqdlbg_ind_7\" style=\"stroke:rgb(0.0, 138.56128015770727, 250.76166088685727);stroke-width:2; opacity: 0\"/><text x=\"88.56245452334507%\" y=\"71\" font-size=\"12px\" fill=\"rgb(0.0, 138.56128015770727, 250.76166088685727)\" id=\"_fs_ljzrwgfganbhsqkqdlbg_ind_7\" style=\"opacity: 0\" dominant-baseline=\"middle\" text-anchor=\"middle\">-0.018</text><svg x=\"87.63152623744902%\" y=\"40\" height=\"20\" width=\"1.8618565717920887%\">  <svg x=\"0\" y=\"0\" width=\"100%\" height=\"100%\">    <text x=\"50%\" y=\"9\" font-size=\"12px\" fill=\"rgb(255,255,255)\" dominant-baseline=\"middle\" text-anchor=\"middle\">3</text>  </svg></svg><line x1=\"89.49338280924111%\" x2=\"90.72386185892239%\" y1=\"60\" y2=\"60\" id=\"_fb_ljzrwgfganbhsqkqdlbg_ind_13\" style=\"stroke:rgb(0.0, 138.56128015770727, 250.76166088685727);stroke-width:2; opacity: 0\"/><text x=\"90.10862233408176%\" y=\"71\" font-size=\"12px\" fill=\"rgb(0.0, 138.56128015770727, 250.76166088685727)\" id=\"_fs_ljzrwgfganbhsqkqdlbg_ind_13\" style=\"opacity: 0\" dominant-baseline=\"middle\" text-anchor=\"middle\">-0.012</text><svg x=\"89.49338280924111%\" y=\"40\" height=\"20\" width=\"1.2304790496812785%\">  <svg x=\"0\" y=\"0\" width=\"100%\" height=\"100%\">    <text x=\"50%\" y=\"9\" font-size=\"12px\" fill=\"rgb(255,255,255)\" dominant-baseline=\"middle\" text-anchor=\"middle\">to</text>  </svg></svg><line x1=\"90.72386185892239%\" x2=\"91.66516458547027%\" y1=\"60\" y2=\"60\" id=\"_fb_ljzrwgfganbhsqkqdlbg_ind_10\" style=\"stroke:rgb(0.0, 138.56128015770727, 250.76166088685727);stroke-width:2; opacity: 0\"/><text x=\"91.19451322219632%\" y=\"71\" font-size=\"12px\" fill=\"rgb(0.0, 138.56128015770727, 250.76166088685727)\" id=\"_fs_ljzrwgfganbhsqkqdlbg_ind_10\" style=\"opacity: 0\" dominant-baseline=\"middle\" text-anchor=\"middle\">-0.009</text><svg x=\"90.72386185892239%\" y=\"40\" height=\"20\" width=\"0.9413027265478746%\">  <svg x=\"0\" y=\"0\" width=\"100%\" height=\"100%\">    <text x=\"50%\" y=\"9\" font-size=\"12px\" fill=\"rgb(255,255,255)\" dominant-baseline=\"middle\" text-anchor=\"middle\">in</text>  </svg></svg><line x1=\"91.66516458547027%\" x2=\"91.66666571343748%\" y1=\"60\" y2=\"60\" id=\"_fb_ljzrwgfganbhsqkqdlbg_ind_16\" style=\"stroke:rgb(0.0, 138.56128015770727, 250.76166088685727);stroke-width:2; opacity: 0\"/><text x=\"91.66591514945387%\" y=\"71\" font-size=\"12px\" fill=\"rgb(0.0, 138.56128015770727, 250.76166088685727)\" id=\"_fs_ljzrwgfganbhsqkqdlbg_ind_16\" style=\"opacity: 0\" dominant-baseline=\"middle\" text-anchor=\"middle\">-0.0</text><svg x=\"91.66516458547027%\" y=\"40\" height=\"20\" width=\"0.0015011279672165756%\">  <svg x=\"0\" y=\"0\" width=\"100%\" height=\"100%\">    <text x=\"50%\" y=\"9\" font-size=\"12px\" fill=\"rgb(255,255,255)\" dominant-baseline=\"middle\" text-anchor=\"middle\"></text>  </svg></svg><g transform=\"translate(-8,0)\">  <svg x=\"83.45507502958797%\" y=\"40\" height=\"18\" overflow=\"visible\" width=\"30\">    <path d=\"M 8 -9 l -6 18 L 8 25\" fill=\"none\" style=\"stroke:rgb(0.0, 138.56128015770727, 250.76166088685727);stroke-width:2\" />  </svg></g><g transform=\"translate(-10,0)\">  <svg x=\"83.45507502958797%\" y=\"40\" height=\"18\" overflow=\"visible\" width=\"30\">    <path d=\"M 8 -9 l -6 18 L 8 25\" fill=\"none\" style=\"stroke:rgb(0.0, 138.56128015770727, 250.76166088685727);stroke-width:2\" />  </svg></g><g transform=\"translate(-12,0)\">  <svg x=\"83.45507502958797%\" y=\"40\" height=\"18\" overflow=\"visible\" width=\"30\">    <path d=\"M 8 -9 l -6 18 L 8 25\" fill=\"none\" style=\"stroke:rgb(0.0, 138.56128015770727, 250.76166088685727);stroke-width:2\" />  </svg></g><g transform=\"translate(-14,0)\">  <svg x=\"83.45507502958797%\" y=\"40\" height=\"18\" overflow=\"visible\" width=\"30\">    <path d=\"M 8 -9 l -6 18 L 8 25\" fill=\"none\" style=\"stroke:rgb(0.0, 138.56128015770727, 250.76166088685727);stroke-width:2\" />  </svg></g><g transform=\"translate(2,0)\">  <svg x=\"83.45507502958797%\" y=\"40\" height=\"18\" overflow=\"visible\" width=\"30\">    <path d=\"M 8 -9 l -6 18 L 8 25\" fill=\"none\" style=\"stroke:rgb(0.0, 138.56128015770727, 250.76166088685727);stroke-width:2\" />  </svg></g><g transform=\"translate(0,0)\">  <svg x=\"83.45507502958797%\" y=\"40\" height=\"18\" overflow=\"visible\" width=\"30\">    <path d=\"M 8 -9 l -6 18 L 8 25\" fill=\"none\" style=\"stroke:rgb(0.0, 138.56128015770727, 250.76166088685727);stroke-width:2\" />  </svg></g><g transform=\"translate(-2,0)\">  <svg x=\"83.45507502958797%\" y=\"40\" height=\"18\" overflow=\"visible\" width=\"30\">    <path d=\"M 8 -9 l -6 18 L 8 25\" fill=\"none\" style=\"stroke:rgb(0.0, 138.56128015770727, 250.76166088685727);stroke-width:2\" />  </svg></g><g transform=\"translate(-4,0)\">  <svg x=\"83.45507502958797%\" y=\"40\" height=\"18\" overflow=\"visible\" width=\"30\">    <path d=\"M 8 -9 l -6 18 L 8 25\" fill=\"none\" style=\"stroke:rgb(0.0, 138.56128015770727, 250.76166088685727);stroke-width:2\" />  </svg></g><g transform=\"translate(-8,0)\">  <svg x=\"85.60053903029602%\" y=\"40\" height=\"18\" overflow=\"visible\" width=\"30\">    <path d=\"M 8 -9 l -6 18 L 8 25\" fill=\"none\" style=\"stroke:rgb(0.0, 138.56128015770727, 250.76166088685727);stroke-width:2\" />  </svg></g><g transform=\"translate(-10,0)\">  <svg x=\"85.60053903029602%\" y=\"40\" height=\"18\" overflow=\"visible\" width=\"30\">    <path d=\"M 8 -9 l -6 18 L 8 25\" fill=\"none\" style=\"stroke:rgb(0.0, 138.56128015770727, 250.76166088685727);stroke-width:2\" />  </svg></g><g transform=\"translate(-12,0)\">  <svg x=\"85.60053903029602%\" y=\"40\" height=\"18\" overflow=\"visible\" width=\"30\">    <path d=\"M 8 -9 l -6 18 L 8 25\" fill=\"none\" style=\"stroke:rgb(0.0, 138.56128015770727, 250.76166088685727);stroke-width:2\" />  </svg></g><g transform=\"translate(-14,0)\">  <svg x=\"85.60053903029602%\" y=\"40\" height=\"18\" overflow=\"visible\" width=\"30\">    <path d=\"M 8 -9 l -6 18 L 8 25\" fill=\"none\" style=\"stroke:rgb(0.0, 138.56128015770727, 250.76166088685727);stroke-width:2\" />  </svg></g><g transform=\"translate(2,0)\">  <svg x=\"85.60053903029602%\" y=\"40\" height=\"18\" overflow=\"visible\" width=\"30\">    <path d=\"M 8 -9 l -6 18 L 8 25\" fill=\"none\" style=\"stroke:rgb(0.0, 138.56128015770727, 250.76166088685727);stroke-width:2\" />  </svg></g><g transform=\"translate(0,0)\">  <svg x=\"85.60053903029602%\" y=\"40\" height=\"18\" overflow=\"visible\" width=\"30\">    <path d=\"M 8 -9 l -6 18 L 8 25\" fill=\"none\" style=\"stroke:rgb(0.0, 138.56128015770727, 250.76166088685727);stroke-width:2\" />  </svg></g><g transform=\"translate(-2,0)\">  <svg x=\"85.60053903029602%\" y=\"40\" height=\"18\" overflow=\"visible\" width=\"30\">    <path d=\"M 8 -9 l -6 18 L 8 25\" fill=\"none\" style=\"stroke:rgb(0.0, 138.56128015770727, 250.76166088685727);stroke-width:2\" />  </svg></g><g transform=\"translate(-4,0)\">  <svg x=\"85.60053903029602%\" y=\"40\" height=\"18\" overflow=\"visible\" width=\"30\">    <path d=\"M 8 -9 l -6 18 L 8 25\" fill=\"none\" style=\"stroke:rgb(0.0, 138.56128015770727, 250.76166088685727);stroke-width:2\" />  </svg></g><g transform=\"translate(-8,0)\">  <svg x=\"87.63152623744902%\" y=\"40\" height=\"18\" overflow=\"visible\" width=\"30\">    <path d=\"M 8 -9 l -6 18 L 8 25\" fill=\"none\" style=\"stroke:rgb(0.0, 138.56128015770727, 250.76166088685727);stroke-width:2\" />  </svg></g><g transform=\"translate(-10,0)\">  <svg x=\"87.63152623744902%\" y=\"40\" height=\"18\" overflow=\"visible\" width=\"30\">    <path d=\"M 8 -9 l -6 18 L 8 25\" fill=\"none\" style=\"stroke:rgb(0.0, 138.56128015770727, 250.76166088685727);stroke-width:2\" />  </svg></g><g transform=\"translate(-12,0)\">  <svg x=\"87.63152623744902%\" y=\"40\" height=\"18\" overflow=\"visible\" width=\"30\">    <path d=\"M 8 -9 l -6 18 L 8 25\" fill=\"none\" style=\"stroke:rgb(0.0, 138.56128015770727, 250.76166088685727);stroke-width:2\" />  </svg></g><g transform=\"translate(-14,0)\">  <svg x=\"87.63152623744902%\" y=\"40\" height=\"18\" overflow=\"visible\" width=\"30\">    <path d=\"M 8 -9 l -6 18 L 8 25\" fill=\"none\" style=\"stroke:rgb(0.0, 138.56128015770727, 250.76166088685727);stroke-width:2\" />  </svg></g><g transform=\"translate(2,0)\">  <svg x=\"87.63152623744902%\" y=\"40\" height=\"18\" overflow=\"visible\" width=\"30\">    <path d=\"M 8 -9 l -6 18 L 8 25\" fill=\"none\" style=\"stroke:rgb(0.0, 138.56128015770727, 250.76166088685727);stroke-width:2\" />  </svg></g><g transform=\"translate(0,0)\">  <svg x=\"87.63152623744902%\" y=\"40\" height=\"18\" overflow=\"visible\" width=\"30\">    <path d=\"M 8 -9 l -6 18 L 8 25\" fill=\"none\" style=\"stroke:rgb(0.0, 138.56128015770727, 250.76166088685727);stroke-width:2\" />  </svg></g><g transform=\"translate(-2,0)\">  <svg x=\"87.63152623744902%\" y=\"40\" height=\"18\" overflow=\"visible\" width=\"30\">    <path d=\"M 8 -9 l -6 18 L 8 25\" fill=\"none\" style=\"stroke:rgb(0.0, 138.56128015770727, 250.76166088685727);stroke-width:2\" />  </svg></g><g transform=\"translate(-4,0)\">  <svg x=\"87.63152623744902%\" y=\"40\" height=\"18\" overflow=\"visible\" width=\"30\">    <path d=\"M 8 -9 l -6 18 L 8 25\" fill=\"none\" style=\"stroke:rgb(0.0, 138.56128015770727, 250.76166088685727);stroke-width:2\" />  </svg></g><g transform=\"translate(-8,0)\">  <svg x=\"89.49338280924111%\" y=\"40\" height=\"18\" overflow=\"visible\" width=\"30\">    <path d=\"M 8 -9 l -6 18 L 8 25\" fill=\"none\" style=\"stroke:rgb(0.0, 138.56128015770727, 250.76166088685727);stroke-width:2\" />  </svg></g><g transform=\"translate(-10,0)\">  <svg x=\"89.49338280924111%\" y=\"40\" height=\"18\" overflow=\"visible\" width=\"30\">    <path d=\"M 8 -9 l -6 18 L 8 25\" fill=\"none\" style=\"stroke:rgb(0.0, 138.56128015770727, 250.76166088685727);stroke-width:2\" />  </svg></g><g transform=\"translate(-12,0)\">  <svg x=\"89.49338280924111%\" y=\"40\" height=\"18\" overflow=\"visible\" width=\"30\">    <path d=\"M 8 -9 l -6 18 L 8 25\" fill=\"none\" style=\"stroke:rgb(0.0, 138.56128015770727, 250.76166088685727);stroke-width:2\" />  </svg></g><g transform=\"translate(-14,0)\">  <svg x=\"89.49338280924111%\" y=\"40\" height=\"18\" overflow=\"visible\" width=\"30\">    <path d=\"M 8 -9 l -6 18 L 8 25\" fill=\"none\" style=\"stroke:rgb(0.0, 138.56128015770727, 250.76166088685727);stroke-width:2\" />  </svg></g><g transform=\"translate(2,0)\">  <svg x=\"89.49338280924111%\" y=\"40\" height=\"18\" overflow=\"visible\" width=\"30\">    <path d=\"M 8 -9 l -6 18 L 8 25\" fill=\"none\" style=\"stroke:rgb(0.0, 138.56128015770727, 250.76166088685727);stroke-width:2\" />  </svg></g><g transform=\"translate(0,0)\">  <svg x=\"89.49338280924111%\" y=\"40\" height=\"18\" overflow=\"visible\" width=\"30\">    <path d=\"M 8 -9 l -6 18 L 8 25\" fill=\"none\" style=\"stroke:rgb(0.0, 138.56128015770727, 250.76166088685727);stroke-width:2\" />  </svg></g><g transform=\"translate(-2,0)\">  <svg x=\"89.49338280924111%\" y=\"40\" height=\"18\" overflow=\"visible\" width=\"30\">    <path d=\"M 8 -9 l -6 18 L 8 25\" fill=\"none\" style=\"stroke:rgb(0.0, 138.56128015770727, 250.76166088685727);stroke-width:2\" />  </svg></g><g transform=\"translate(-4,0)\">  <svg x=\"89.49338280924111%\" y=\"40\" height=\"18\" overflow=\"visible\" width=\"30\">    <path d=\"M 8 -9 l -6 18 L 8 25\" fill=\"none\" style=\"stroke:rgb(0.0, 138.56128015770727, 250.76166088685727);stroke-width:2\" />  </svg></g><g transform=\"translate(-8,0)\">  <svg x=\"90.72386185892239%\" y=\"40\" height=\"18\" overflow=\"visible\" width=\"30\">    <path d=\"M 8 -9 l -6 18 L 8 25\" fill=\"none\" style=\"stroke:rgb(0.0, 138.56128015770727, 250.76166088685727);stroke-width:2\" />  </svg></g><g transform=\"translate(-10,0)\">  <svg x=\"90.72386185892239%\" y=\"40\" height=\"18\" overflow=\"visible\" width=\"30\">    <path d=\"M 8 -9 l -6 18 L 8 25\" fill=\"none\" style=\"stroke:rgb(0.0, 138.56128015770727, 250.76166088685727);stroke-width:2\" />  </svg></g><g transform=\"translate(-12,0)\">  <svg x=\"90.72386185892239%\" y=\"40\" height=\"18\" overflow=\"visible\" width=\"30\">    <path d=\"M 8 -9 l -6 18 L 8 25\" fill=\"none\" style=\"stroke:rgb(0.0, 138.56128015770727, 250.76166088685727);stroke-width:2\" />  </svg></g><g transform=\"translate(-14,0)\">  <svg x=\"90.72386185892239%\" y=\"40\" height=\"18\" overflow=\"visible\" width=\"30\">    <path d=\"M 8 -9 l -6 18 L 8 25\" fill=\"none\" style=\"stroke:rgb(0.0, 138.56128015770727, 250.76166088685727);stroke-width:2\" />  </svg></g><g transform=\"translate(2,0)\">  <svg x=\"90.72386185892239%\" y=\"40\" height=\"18\" overflow=\"visible\" width=\"30\">    <path d=\"M 8 -9 l -6 18 L 8 25\" fill=\"none\" style=\"stroke:rgb(0.0, 138.56128015770727, 250.76166088685727);stroke-width:2\" />  </svg></g><g transform=\"translate(0,0)\">  <svg x=\"90.72386185892239%\" y=\"40\" height=\"18\" overflow=\"visible\" width=\"30\">    <path d=\"M 8 -9 l -6 18 L 8 25\" fill=\"none\" style=\"stroke:rgb(0.0, 138.56128015770727, 250.76166088685727);stroke-width:2\" />  </svg></g><g transform=\"translate(-2,0)\">  <svg x=\"90.72386185892239%\" y=\"40\" height=\"18\" overflow=\"visible\" width=\"30\">    <path d=\"M 8 -9 l -6 18 L 8 25\" fill=\"none\" style=\"stroke:rgb(0.0, 138.56128015770727, 250.76166088685727);stroke-width:2\" />  </svg></g><g transform=\"translate(-4,0)\">  <svg x=\"90.72386185892239%\" y=\"40\" height=\"18\" overflow=\"visible\" width=\"30\">    <path d=\"M 8 -9 l -6 18 L 8 25\" fill=\"none\" style=\"stroke:rgb(0.0, 138.56128015770727, 250.76166088685727);stroke-width:2\" />  </svg></g><g transform=\"translate(-8,0)\">  <svg x=\"91.66516458547027%\" y=\"40\" height=\"18\" overflow=\"visible\" width=\"30\">    <path d=\"M 8 -9 l -6 18 L 8 25\" fill=\"none\" style=\"stroke:rgb(0.0, 138.56128015770727, 250.76166088685727);stroke-width:2\" />  </svg></g><g transform=\"translate(-10,0)\">  <svg x=\"91.66516458547027%\" y=\"40\" height=\"18\" overflow=\"visible\" width=\"30\">    <path d=\"M 8 -9 l -6 18 L 8 25\" fill=\"none\" style=\"stroke:rgb(0.0, 138.56128015770727, 250.76166088685727);stroke-width:2\" />  </svg></g><g transform=\"translate(-12,0)\">  <svg x=\"91.66516458547027%\" y=\"40\" height=\"18\" overflow=\"visible\" width=\"30\">    <path d=\"M 8 -9 l -6 18 L 8 25\" fill=\"none\" style=\"stroke:rgb(0.0, 138.56128015770727, 250.76166088685727);stroke-width:2\" />  </svg></g><g transform=\"translate(-14,0)\">  <svg x=\"91.66516458547027%\" y=\"40\" height=\"18\" overflow=\"visible\" width=\"30\">    <path d=\"M 8 -9 l -6 18 L 8 25\" fill=\"none\" style=\"stroke:rgb(0.0, 138.56128015770727, 250.76166088685727);stroke-width:2\" />  </svg></g><g transform=\"translate(2,0)\">  <svg x=\"91.66516458547027%\" y=\"40\" height=\"18\" overflow=\"visible\" width=\"30\">    <path d=\"M 8 -9 l -6 18 L 8 25\" fill=\"none\" style=\"stroke:rgb(0.0, 138.56128015770727, 250.76166088685727);stroke-width:2\" />  </svg></g><g transform=\"translate(0,0)\">  <svg x=\"91.66516458547027%\" y=\"40\" height=\"18\" overflow=\"visible\" width=\"30\">    <path d=\"M 8 -9 l -6 18 L 8 25\" fill=\"none\" style=\"stroke:rgb(0.0, 138.56128015770727, 250.76166088685727);stroke-width:2\" />  </svg></g><g transform=\"translate(-2,0)\">  <svg x=\"91.66516458547027%\" y=\"40\" height=\"18\" overflow=\"visible\" width=\"30\">    <path d=\"M 8 -9 l -6 18 L 8 25\" fill=\"none\" style=\"stroke:rgb(0.0, 138.56128015770727, 250.76166088685727);stroke-width:2\" />  </svg></g><g transform=\"translate(-4,0)\">  <svg x=\"91.66516458547027%\" y=\"40\" height=\"18\" overflow=\"visible\" width=\"30\">    <path d=\"M 8 -9 l -6 18 L 8 25\" fill=\"none\" style=\"stroke:rgb(0.0, 138.56128015770727, 250.76166088685727);stroke-width:2\" />  </svg></g><rect transform=\"translate(0,0)\" x=\"72.22005902049294%\" y=\"40\" width=\"8\" height=\"18\" style=\"fill:rgb(0.0, 138.56128015770727, 250.76166088685727)\"/><g transform=\"translate(-6.0,0)\">  <svg x=\"91.66666571343748%\" y=\"40\" height=\"18\" overflow=\"visible\" width=\"30\">    <path d=\"M 8 -9 l -6 18 L 8 25 L 20 25 L 20 -9\" fill=\"#ffffff\" style=\"stroke:rgb(255,255,255);stroke-width:2\" />  </svg></g><g transform=\"translate(-6.0,0)\">  <svg x=\"83.45507502958797%\" y=\"40\" height=\"18\" overflow=\"visible\" width=\"30\">    <path d=\"M 8 -9 l -6 18 L 8 25\" fill=\"none\" style=\"stroke:rgb(208, 230, 250);stroke-width:2\" />  </svg></g><rect x=\"72.22005902049294%\" y=\"40\" height=\"20\" width=\"11.235016009095034%\"      onmouseover=\"document.getElementById('_tp_ljzrwgfganbhsqkqdlbg_ind_15').style.textDecoration = 'underline';document.getElementById('_fs_ljzrwgfganbhsqkqdlbg_ind_15').style.opacity = 1;document.getElementById('_fb_ljzrwgfganbhsqkqdlbg_ind_15').style.opacity = 1;\"      onmouseout=\"document.getElementById('_tp_ljzrwgfganbhsqkqdlbg_ind_15').style.textDecoration = 'none';document.getElementById('_fs_ljzrwgfganbhsqkqdlbg_ind_15').style.opacity = 0;document.getElementById('_fb_ljzrwgfganbhsqkqdlbg_ind_15').style.opacity = 0;\" style=\"fill:rgb(0,0,0,0)\" /><g transform=\"translate(-6.0,0)\">  <svg x=\"85.60053903029602%\" y=\"40\" height=\"18\" overflow=\"visible\" width=\"30\">    <path d=\"M 8 -9 l -6 18 L 8 25\" fill=\"none\" style=\"stroke:rgb(208, 230, 250);stroke-width:2\" />  </svg></g><rect x=\"83.45507502958797%\" y=\"40\" height=\"20\" width=\"2.1454640007080457%\"      onmouseover=\"document.getElementById('_tp_ljzrwgfganbhsqkqdlbg_ind_5').style.textDecoration = 'underline';document.getElementById('_fs_ljzrwgfganbhsqkqdlbg_ind_5').style.opacity = 1;document.getElementById('_fb_ljzrwgfganbhsqkqdlbg_ind_5').style.opacity = 1;\"      onmouseout=\"document.getElementById('_tp_ljzrwgfganbhsqkqdlbg_ind_5').style.textDecoration = 'none';document.getElementById('_fs_ljzrwgfganbhsqkqdlbg_ind_5').style.opacity = 0;document.getElementById('_fb_ljzrwgfganbhsqkqdlbg_ind_5').style.opacity = 0;\" style=\"fill:rgb(0,0,0,0)\" /><g transform=\"translate(-6.0,0)\">  <svg x=\"87.63152623744902%\" y=\"40\" height=\"18\" overflow=\"visible\" width=\"30\">    <path d=\"M 8 -9 l -6 18 L 8 25\" fill=\"none\" style=\"stroke:rgb(208, 230, 250);stroke-width:2\" />  </svg></g><rect x=\"85.60053903029602%\" y=\"40\" height=\"20\" width=\"2.0309872071530037%\"      onmouseover=\"document.getElementById('_tp_ljzrwgfganbhsqkqdlbg_ind_14').style.textDecoration = 'underline';document.getElementById('_fs_ljzrwgfganbhsqkqdlbg_ind_14').style.opacity = 1;document.getElementById('_fb_ljzrwgfganbhsqkqdlbg_ind_14').style.opacity = 1;\"      onmouseout=\"document.getElementById('_tp_ljzrwgfganbhsqkqdlbg_ind_14').style.textDecoration = 'none';document.getElementById('_fs_ljzrwgfganbhsqkqdlbg_ind_14').style.opacity = 0;document.getElementById('_fb_ljzrwgfganbhsqkqdlbg_ind_14').style.opacity = 0;\" style=\"fill:rgb(0,0,0,0)\" /><g transform=\"translate(-6.0,0)\">  <svg x=\"89.49338280924111%\" y=\"40\" height=\"18\" overflow=\"visible\" width=\"30\">    <path d=\"M 8 -9 l -6 18 L 8 25\" fill=\"none\" style=\"stroke:rgb(208, 230, 250);stroke-width:2\" />  </svg></g><rect x=\"87.63152623744902%\" y=\"40\" height=\"20\" width=\"1.8618565717920887%\"      onmouseover=\"document.getElementById('_tp_ljzrwgfganbhsqkqdlbg_ind_7').style.textDecoration = 'underline';document.getElementById('_fs_ljzrwgfganbhsqkqdlbg_ind_7').style.opacity = 1;document.getElementById('_fb_ljzrwgfganbhsqkqdlbg_ind_7').style.opacity = 1;\"      onmouseout=\"document.getElementById('_tp_ljzrwgfganbhsqkqdlbg_ind_7').style.textDecoration = 'none';document.getElementById('_fs_ljzrwgfganbhsqkqdlbg_ind_7').style.opacity = 0;document.getElementById('_fb_ljzrwgfganbhsqkqdlbg_ind_7').style.opacity = 0;\" style=\"fill:rgb(0,0,0,0)\" /><g transform=\"translate(-6.0,0)\">  <svg x=\"90.72386185892239%\" y=\"40\" height=\"18\" overflow=\"visible\" width=\"30\">    <path d=\"M 8 -9 l -6 18 L 8 25\" fill=\"none\" style=\"stroke:rgb(208, 230, 250);stroke-width:2\" />  </svg></g><rect x=\"89.49338280924111%\" y=\"40\" height=\"20\" width=\"1.2304790496812785%\"      onmouseover=\"document.getElementById('_tp_ljzrwgfganbhsqkqdlbg_ind_13').style.textDecoration = 'underline';document.getElementById('_fs_ljzrwgfganbhsqkqdlbg_ind_13').style.opacity = 1;document.getElementById('_fb_ljzrwgfganbhsqkqdlbg_ind_13').style.opacity = 1;\"      onmouseout=\"document.getElementById('_tp_ljzrwgfganbhsqkqdlbg_ind_13').style.textDecoration = 'none';document.getElementById('_fs_ljzrwgfganbhsqkqdlbg_ind_13').style.opacity = 0;document.getElementById('_fb_ljzrwgfganbhsqkqdlbg_ind_13').style.opacity = 0;\" style=\"fill:rgb(0,0,0,0)\" /><g transform=\"translate(-6.0,0)\">  <svg x=\"91.66516458547027%\" y=\"40\" height=\"18\" overflow=\"visible\" width=\"30\">    <path d=\"M 8 -9 l -6 18 L 8 25\" fill=\"none\" style=\"stroke:rgb(208, 230, 250);stroke-width:2\" />  </svg></g><rect x=\"90.72386185892239%\" y=\"40\" height=\"20\" width=\"0.9413027265478746%\"      onmouseover=\"document.getElementById('_tp_ljzrwgfganbhsqkqdlbg_ind_10').style.textDecoration = 'underline';document.getElementById('_fs_ljzrwgfganbhsqkqdlbg_ind_10').style.opacity = 1;document.getElementById('_fb_ljzrwgfganbhsqkqdlbg_ind_10').style.opacity = 1;\"      onmouseout=\"document.getElementById('_tp_ljzrwgfganbhsqkqdlbg_ind_10').style.textDecoration = 'none';document.getElementById('_fs_ljzrwgfganbhsqkqdlbg_ind_10').style.opacity = 0;document.getElementById('_fb_ljzrwgfganbhsqkqdlbg_ind_10').style.opacity = 0;\" style=\"fill:rgb(0,0,0,0)\" /><rect x=\"91.66516458547027%\" y=\"40\" height=\"20\" width=\"0.0015011279672165756%\"      onmouseover=\"document.getElementById('_tp_ljzrwgfganbhsqkqdlbg_ind_16').style.textDecoration = 'underline';document.getElementById('_fs_ljzrwgfganbhsqkqdlbg_ind_16').style.opacity = 1;document.getElementById('_fb_ljzrwgfganbhsqkqdlbg_ind_16').style.opacity = 1;\"      onmouseout=\"document.getElementById('_tp_ljzrwgfganbhsqkqdlbg_ind_16').style.textDecoration = 'none';document.getElementById('_fs_ljzrwgfganbhsqkqdlbg_ind_16').style.opacity = 0;document.getElementById('_fb_ljzrwgfganbhsqkqdlbg_ind_16').style.opacity = 0;\" style=\"fill:rgb(0,0,0,0)\" /></svg><div align='center'><div style=\"color: rgb(120,120,120); font-size: 12px; margin-top: -15px;\">inputs</div><div style='display: inline; text-align: center;'\n",
              "    ><div style='display: none; color: #999; padding-top: 0px; font-size: 12px;'>0.0</div\n",
              "        ><div id='_tp_ljzrwgfganbhsqkqdlbg_ind_0'\n",
              "            style='display: inline; background: rgba(230.2941176470614, 26.505882352939775, 102.59215686274348, 0.0); border-radius: 3px; padding: 0px'\n",
              "            onclick=\"\n",
              "            if (this.previousSibling.style.display == 'none') {\n",
              "                this.previousSibling.style.display = 'block';\n",
              "                this.parentNode.style.display = 'inline-block';\n",
              "            } else {\n",
              "                this.previousSibling.style.display = 'none';\n",
              "                this.parentNode.style.display = 'inline';\n",
              "            }\"\n",
              "            onmouseover=\"document.getElementById('_fb_ljzrwgfganbhsqkqdlbg_ind_0').style.opacity = 1; document.getElementById('_fs_ljzrwgfganbhsqkqdlbg_ind_0').style.opacity = 1;\"\n",
              "            onmouseout=\"document.getElementById('_fb_ljzrwgfganbhsqkqdlbg_ind_0').style.opacity = 0; document.getElementById('_fs_ljzrwgfganbhsqkqdlbg_ind_0').style.opacity = 0;\"\n",
              "        ></div></div><div style='display: inline; text-align: center;'\n",
              "    ><div style='display: none; color: #999; padding-top: 0px; font-size: 12px;'>0.059</div\n",
              "        ><div id='_tp_ljzrwgfganbhsqkqdlbg_ind_1'\n",
              "            style='display: inline; background: rgba(255.0, 13.0, 87.0, 0.306318082788671); border-radius: 3px; padding: 0px'\n",
              "            onclick=\"\n",
              "            if (this.previousSibling.style.display == 'none') {\n",
              "                this.previousSibling.style.display = 'block';\n",
              "                this.parentNode.style.display = 'inline-block';\n",
              "            } else {\n",
              "                this.previousSibling.style.display = 'none';\n",
              "                this.parentNode.style.display = 'inline';\n",
              "            }\"\n",
              "            onmouseover=\"document.getElementById('_fb_ljzrwgfganbhsqkqdlbg_ind_1').style.opacity = 1; document.getElementById('_fs_ljzrwgfganbhsqkqdlbg_ind_1').style.opacity = 1;\"\n",
              "            onmouseout=\"document.getElementById('_fb_ljzrwgfganbhsqkqdlbg_ind_1').style.opacity = 0; document.getElementById('_fs_ljzrwgfganbhsqkqdlbg_ind_1').style.opacity = 0;\"\n",
              "        >Dodgers </div></div><div style='display: inline; text-align: center;'\n",
              "    ><div style='display: none; color: #999; padding-top: 0px; font-size: 12px;'>0.143</div\n",
              "        ><div id='_tp_ljzrwgfganbhsqkqdlbg_ind_2'\n",
              "            style='display: inline; background: rgba(255.0, 13.0, 87.0, 0.7477520301049713); border-radius: 3px; padding: 0px'\n",
              "            onclick=\"\n",
              "            if (this.previousSibling.style.display == 'none') {\n",
              "                this.previousSibling.style.display = 'block';\n",
              "                this.parentNode.style.display = 'inline-block';\n",
              "            } else {\n",
              "                this.previousSibling.style.display = 'none';\n",
              "                this.parentNode.style.display = 'inline';\n",
              "            }\"\n",
              "            onmouseover=\"document.getElementById('_fb_ljzrwgfganbhsqkqdlbg_ind_2').style.opacity = 1; document.getElementById('_fs_ljzrwgfganbhsqkqdlbg_ind_2').style.opacity = 1;\"\n",
              "            onmouseout=\"document.getElementById('_fb_ljzrwgfganbhsqkqdlbg_ind_2').style.opacity = 0; document.getElementById('_fs_ljzrwgfganbhsqkqdlbg_ind_2').style.opacity = 0;\"\n",
              "        >lose </div></div><div style='display: inline; text-align: center;'\n",
              "    ><div style='display: none; color: #999; padding-top: 0px; font-size: 12px;'>0.051</div\n",
              "        ><div id='_tp_ljzrwgfganbhsqkqdlbg_ind_3'\n",
              "            style='display: inline; background: rgba(255.0, 13.0, 87.0, 0.26690433749257286); border-radius: 3px; padding: 0px'\n",
              "            onclick=\"\n",
              "            if (this.previousSibling.style.display == 'none') {\n",
              "                this.previousSibling.style.display = 'block';\n",
              "                this.parentNode.style.display = 'inline-block';\n",
              "            } else {\n",
              "                this.previousSibling.style.display = 'none';\n",
              "                this.parentNode.style.display = 'inline';\n",
              "            }\"\n",
              "            onmouseover=\"document.getElementById('_fb_ljzrwgfganbhsqkqdlbg_ind_3').style.opacity = 1; document.getElementById('_fs_ljzrwgfganbhsqkqdlbg_ind_3').style.opacity = 1;\"\n",
              "            onmouseout=\"document.getElementById('_fb_ljzrwgfganbhsqkqdlbg_ind_3').style.opacity = 0; document.getElementById('_fs_ljzrwgfganbhsqkqdlbg_ind_3').style.opacity = 0;\"\n",
              "        >again</div></div><div style='display: inline; text-align: center;'\n",
              "    ><div style='display: none; color: #999; padding-top: 0px; font-size: 12px;'>0.054</div\n",
              "        ><div id='_tp_ljzrwgfganbhsqkqdlbg_ind_4'\n",
              "            style='display: inline; background: rgba(255.0, 13.0, 87.0, 0.2747870865517925); border-radius: 3px; padding: 0px'\n",
              "            onclick=\"\n",
              "            if (this.previousSibling.style.display == 'none') {\n",
              "                this.previousSibling.style.display = 'block';\n",
              "                this.parentNode.style.display = 'inline-block';\n",
              "            } else {\n",
              "                this.previousSibling.style.display = 'none';\n",
              "                this.parentNode.style.display = 'inline';\n",
              "            }\"\n",
              "            onmouseover=\"document.getElementById('_fb_ljzrwgfganbhsqkqdlbg_ind_4').style.opacity = 1; document.getElementById('_fs_ljzrwgfganbhsqkqdlbg_ind_4').style.opacity = 1;\"\n",
              "            onmouseout=\"document.getElementById('_fb_ljzrwgfganbhsqkqdlbg_ind_4').style.opacity = 0; document.getElementById('_fs_ljzrwgfganbhsqkqdlbg_ind_4').style.opacity = 0;\"\n",
              "        >, </div></div><div style='display: inline; text-align: center;'\n",
              "    ><div style='display: none; color: #999; padding-top: 0px; font-size: 12px;'>-0.021</div\n",
              "        ><div id='_tp_ljzrwgfganbhsqkqdlbg_ind_5'\n",
              "            style='display: inline; background: rgba(30.0, 136.0, 229.0, 0.10136660724896014); border-radius: 3px; padding: 0px'\n",
              "            onclick=\"\n",
              "            if (this.previousSibling.style.display == 'none') {\n",
              "                this.previousSibling.style.display = 'block';\n",
              "                this.parentNode.style.display = 'inline-block';\n",
              "            } else {\n",
              "                this.previousSibling.style.display = 'none';\n",
              "                this.parentNode.style.display = 'inline';\n",
              "            }\"\n",
              "            onmouseover=\"document.getElementById('_fb_ljzrwgfganbhsqkqdlbg_ind_5').style.opacity = 1; document.getElementById('_fs_ljzrwgfganbhsqkqdlbg_ind_5').style.opacity = 1;\"\n",
              "            onmouseout=\"document.getElementById('_fb_ljzrwgfganbhsqkqdlbg_ind_5').style.opacity = 0; document.getElementById('_fs_ljzrwgfganbhsqkqdlbg_ind_5').style.opacity = 0;\"\n",
              "        >give </div></div><div style='display: inline; text-align: center;'\n",
              "    ><div style='display: none; color: #999; padding-top: 0px; font-size: 12px;'>0.082</div\n",
              "        ><div id='_tp_ljzrwgfganbhsqkqdlbg_ind_6'\n",
              "            style='display: inline; background: rgba(255.0, 13.0, 87.0, 0.4245593186769657); border-radius: 3px; padding: 0px'\n",
              "            onclick=\"\n",
              "            if (this.previousSibling.style.display == 'none') {\n",
              "                this.previousSibling.style.display = 'block';\n",
              "                this.parentNode.style.display = 'inline-block';\n",
              "            } else {\n",
              "                this.previousSibling.style.display = 'none';\n",
              "                this.parentNode.style.display = 'inline';\n",
              "            }\"\n",
              "            onmouseover=\"document.getElementById('_fb_ljzrwgfganbhsqkqdlbg_ind_6').style.opacity = 1; document.getElementById('_fs_ljzrwgfganbhsqkqdlbg_ind_6').style.opacity = 1;\"\n",
              "            onmouseout=\"document.getElementById('_fb_ljzrwgfganbhsqkqdlbg_ind_6').style.opacity = 0; document.getElementById('_fs_ljzrwgfganbhsqkqdlbg_ind_6').style.opacity = 0;\"\n",
              "        >up </div></div><div style='display: inline; text-align: center;'\n",
              "    ><div style='display: none; color: #999; padding-top: 0px; font-size: 12px;'>-0.018</div\n",
              "        ><div id='_tp_ljzrwgfganbhsqkqdlbg_ind_7'\n",
              "            style='display: inline; background: rgba(30.0, 136.0, 229.0, 0.08560110913052085); border-radius: 3px; padding: 0px'\n",
              "            onclick=\"\n",
              "            if (this.previousSibling.style.display == 'none') {\n",
              "                this.previousSibling.style.display = 'block';\n",
              "                this.parentNode.style.display = 'inline-block';\n",
              "            } else {\n",
              "                this.previousSibling.style.display = 'none';\n",
              "                this.parentNode.style.display = 'inline';\n",
              "            }\"\n",
              "            onmouseover=\"document.getElementById('_fb_ljzrwgfganbhsqkqdlbg_ind_7').style.opacity = 1; document.getElementById('_fs_ljzrwgfganbhsqkqdlbg_ind_7').style.opacity = 1;\"\n",
              "            onmouseout=\"document.getElementById('_fb_ljzrwgfganbhsqkqdlbg_ind_7').style.opacity = 0; document.getElementById('_fs_ljzrwgfganbhsqkqdlbg_ind_7').style.opacity = 0;\"\n",
              "        >3 </div></div><div style='display: inline; text-align: center;'\n",
              "    ><div style='display: none; color: #999; padding-top: 0px; font-size: 12px;'>0.009</div\n",
              "        ><div id='_tp_ljzrwgfganbhsqkqdlbg_ind_8'\n",
              "            style='display: inline; background: rgba(255.0, 13.0, 87.0, 0.04618736383442265); border-radius: 3px; padding: 0px'\n",
              "            onclick=\"\n",
              "            if (this.previousSibling.style.display == 'none') {\n",
              "                this.previousSibling.style.display = 'block';\n",
              "                this.parentNode.style.display = 'inline-block';\n",
              "            } else {\n",
              "                this.previousSibling.style.display = 'none';\n",
              "                this.parentNode.style.display = 'inline';\n",
              "            }\"\n",
              "            onmouseover=\"document.getElementById('_fb_ljzrwgfganbhsqkqdlbg_ind_8').style.opacity = 1; document.getElementById('_fs_ljzrwgfganbhsqkqdlbg_ind_8').style.opacity = 1;\"\n",
              "            onmouseout=\"document.getElementById('_fb_ljzrwgfganbhsqkqdlbg_ind_8').style.opacity = 0; document.getElementById('_fs_ljzrwgfganbhsqkqdlbg_ind_8').style.opacity = 0;\"\n",
              "        >HR</div></div><div style='display: inline; text-align: center;'\n",
              "    ><div style='display: none; color: #999; padding-top: 0px; font-size: 12px;'>0.007</div\n",
              "        ><div id='_tp_ljzrwgfganbhsqkqdlbg_ind_9'\n",
              "            style='display: inline; background: rgba(255.0, 13.0, 87.0, 0.030421865715983164); border-radius: 3px; padding: 0px'\n",
              "            onclick=\"\n",
              "            if (this.previousSibling.style.display == 'none') {\n",
              "                this.previousSibling.style.display = 'block';\n",
              "                this.parentNode.style.display = 'inline-block';\n",
              "            } else {\n",
              "                this.previousSibling.style.display = 'none';\n",
              "                this.parentNode.style.display = 'inline';\n",
              "            }\"\n",
              "            onmouseover=\"document.getElementById('_fb_ljzrwgfganbhsqkqdlbg_ind_9').style.opacity = 1; document.getElementById('_fs_ljzrwgfganbhsqkqdlbg_ind_9').style.opacity = 1;\"\n",
              "            onmouseout=\"document.getElementById('_fb_ljzrwgfganbhsqkqdlbg_ind_9').style.opacity = 0; document.getElementById('_fs_ljzrwgfganbhsqkqdlbg_ind_9').style.opacity = 0;\"\n",
              "        >s </div></div><div style='display: inline; text-align: center;'\n",
              "    ><div style='display: none; color: #999; padding-top: 0px; font-size: 12px;'>-0.009</div\n",
              "        ><div id='_tp_ljzrwgfganbhsqkqdlbg_ind_10'\n",
              "            style='display: inline; background: rgba(30.0, 136.0, 229.0, 0.04618736383442258); border-radius: 3px; padding: 0px'\n",
              "            onclick=\"\n",
              "            if (this.previousSibling.style.display == 'none') {\n",
              "                this.previousSibling.style.display = 'block';\n",
              "                this.parentNode.style.display = 'inline-block';\n",
              "            } else {\n",
              "                this.previousSibling.style.display = 'none';\n",
              "                this.parentNode.style.display = 'inline';\n",
              "            }\"\n",
              "            onmouseover=\"document.getElementById('_fb_ljzrwgfganbhsqkqdlbg_ind_10').style.opacity = 1; document.getElementById('_fs_ljzrwgfganbhsqkqdlbg_ind_10').style.opacity = 1;\"\n",
              "            onmouseout=\"document.getElementById('_fb_ljzrwgfganbhsqkqdlbg_ind_10').style.opacity = 0; document.getElementById('_fs_ljzrwgfganbhsqkqdlbg_ind_10').style.opacity = 0;\"\n",
              "        >in </div></div><div style='display: inline; text-align: center;'\n",
              "    ><div style='display: none; color: #999; padding-top: 0px; font-size: 12px;'>0.017</div\n",
              "        ><div id='_tp_ljzrwgfganbhsqkqdlbg_ind_11'\n",
              "            style='display: inline; background: rgba(255.0, 13.0, 87.0, 0.08560110913052081); border-radius: 3px; padding: 0px'\n",
              "            onclick=\"\n",
              "            if (this.previousSibling.style.display == 'none') {\n",
              "                this.previousSibling.style.display = 'block';\n",
              "                this.parentNode.style.display = 'inline-block';\n",
              "            } else {\n",
              "                this.previousSibling.style.display = 'none';\n",
              "                this.parentNode.style.display = 'inline';\n",
              "            }\"\n",
              "            onmouseover=\"document.getElementById('_fb_ljzrwgfganbhsqkqdlbg_ind_11').style.opacity = 1; document.getElementById('_fs_ljzrwgfganbhsqkqdlbg_ind_11').style.opacity = 1;\"\n",
              "            onmouseout=\"document.getElementById('_fb_ljzrwgfganbhsqkqdlbg_ind_11').style.opacity = 0; document.getElementById('_fs_ljzrwgfganbhsqkqdlbg_ind_11').style.opacity = 0;\"\n",
              "        >a </div></div><div style='display: inline; text-align: center;'\n",
              "    ><div style='display: none; color: #999; padding-top: 0px; font-size: 12px;'>0.192</div\n",
              "        ><div id='_tp_ljzrwgfganbhsqkqdlbg_ind_12'\n",
              "            style='display: inline; background: rgba(255.0, 13.0, 87.0, 1.0); border-radius: 3px; padding: 0px'\n",
              "            onclick=\"\n",
              "            if (this.previousSibling.style.display == 'none') {\n",
              "                this.previousSibling.style.display = 'block';\n",
              "                this.parentNode.style.display = 'inline-block';\n",
              "            } else {\n",
              "                this.previousSibling.style.display = 'none';\n",
              "                this.parentNode.style.display = 'inline';\n",
              "            }\"\n",
              "            onmouseover=\"document.getElementById('_fb_ljzrwgfganbhsqkqdlbg_ind_12').style.opacity = 1; document.getElementById('_fs_ljzrwgfganbhsqkqdlbg_ind_12').style.opacity = 1;\"\n",
              "            onmouseout=\"document.getElementById('_fb_ljzrwgfganbhsqkqdlbg_ind_12').style.opacity = 0; document.getElementById('_fs_ljzrwgfganbhsqkqdlbg_ind_12').style.opacity = 0;\"\n",
              "        >loss </div></div><div style='display: inline; text-align: center;'\n",
              "    ><div style='display: none; color: #999; padding-top: 0px; font-size: 12px;'>-0.012</div\n",
              "        ><div id='_tp_ljzrwgfganbhsqkqdlbg_ind_13'\n",
              "            style='display: inline; background: rgba(30.0, 136.0, 229.0, 0.05407011289364222); border-radius: 3px; padding: 0px'\n",
              "            onclick=\"\n",
              "            if (this.previousSibling.style.display == 'none') {\n",
              "                this.previousSibling.style.display = 'block';\n",
              "                this.parentNode.style.display = 'inline-block';\n",
              "            } else {\n",
              "                this.previousSibling.style.display = 'none';\n",
              "                this.parentNode.style.display = 'inline';\n",
              "            }\"\n",
              "            onmouseover=\"document.getElementById('_fb_ljzrwgfganbhsqkqdlbg_ind_13').style.opacity = 1; document.getElementById('_fs_ljzrwgfganbhsqkqdlbg_ind_13').style.opacity = 1;\"\n",
              "            onmouseout=\"document.getElementById('_fb_ljzrwgfganbhsqkqdlbg_ind_13').style.opacity = 0; document.getElementById('_fs_ljzrwgfganbhsqkqdlbg_ind_13').style.opacity = 0;\"\n",
              "        >to </div></div><div style='display: inline; text-align: center;'\n",
              "    ><div style='display: none; color: #999; padding-top: 0px; font-size: 12px;'>-0.02</div\n",
              "        ><div id='_tp_ljzrwgfganbhsqkqdlbg_ind_14'\n",
              "            style='display: inline; background: rgba(30.0, 136.0, 229.0, 0.10136660724896014); border-radius: 3px; padding: 0px'\n",
              "            onclick=\"\n",
              "            if (this.previousSibling.style.display == 'none') {\n",
              "                this.previousSibling.style.display = 'block';\n",
              "                this.parentNode.style.display = 'inline-block';\n",
              "            } else {\n",
              "                this.previousSibling.style.display = 'none';\n",
              "                this.parentNode.style.display = 'inline';\n",
              "            }\"\n",
              "            onmouseover=\"document.getElementById('_fb_ljzrwgfganbhsqkqdlbg_ind_14').style.opacity = 1; document.getElementById('_fs_ljzrwgfganbhsqkqdlbg_ind_14').style.opacity = 1;\"\n",
              "            onmouseout=\"document.getElementById('_fb_ljzrwgfganbhsqkqdlbg_ind_14').style.opacity = 0; document.getElementById('_fs_ljzrwgfganbhsqkqdlbg_ind_14').style.opacity = 0;\"\n",
              "        >the </div></div><div style='display: inline; text-align: center;'\n",
              "    ><div style='display: none; color: #999; padding-top: 0px; font-size: 12px;'>-0.108</div\n",
              "        ><div id='_tp_ljzrwgfganbhsqkqdlbg_ind_15'\n",
              "            style='display: inline; background: rgba(30.0, 136.0, 229.0, 0.5664488017429193); border-radius: 3px; padding: 0px'\n",
              "            onclick=\"\n",
              "            if (this.previousSibling.style.display == 'none') {\n",
              "                this.previousSibling.style.display = 'block';\n",
              "                this.parentNode.style.display = 'inline-block';\n",
              "            } else {\n",
              "                this.previousSibling.style.display = 'none';\n",
              "                this.parentNode.style.display = 'inline';\n",
              "            }\"\n",
              "            onmouseover=\"document.getElementById('_fb_ljzrwgfganbhsqkqdlbg_ind_15').style.opacity = 1; document.getElementById('_fs_ljzrwgfganbhsqkqdlbg_ind_15').style.opacity = 1;\"\n",
              "            onmouseout=\"document.getElementById('_fb_ljzrwgfganbhsqkqdlbg_ind_15').style.opacity = 0; document.getElementById('_fs_ljzrwgfganbhsqkqdlbg_ind_15').style.opacity = 0;\"\n",
              "        >Giants</div></div><div style='display: inline; text-align: center;'\n",
              "    ><div style='display: none; color: #999; padding-top: 0px; font-size: 12px;'>-0.0</div\n",
              "        ><div id='_tp_ljzrwgfganbhsqkqdlbg_ind_16'\n",
              "            style='display: inline; background: rgba(54.70588235294111, 122.49411764705886, 213.40784313725496, 0.0); border-radius: 3px; padding: 0px'\n",
              "            onclick=\"\n",
              "            if (this.previousSibling.style.display == 'none') {\n",
              "                this.previousSibling.style.display = 'block';\n",
              "                this.parentNode.style.display = 'inline-block';\n",
              "            } else {\n",
              "                this.previousSibling.style.display = 'none';\n",
              "                this.parentNode.style.display = 'inline';\n",
              "            }\"\n",
              "            onmouseover=\"document.getElementById('_fb_ljzrwgfganbhsqkqdlbg_ind_16').style.opacity = 1; document.getElementById('_fs_ljzrwgfganbhsqkqdlbg_ind_16').style.opacity = 1;\"\n",
              "            onmouseout=\"document.getElementById('_fb_ljzrwgfganbhsqkqdlbg_ind_16').style.opacity = 0; document.getElementById('_fs_ljzrwgfganbhsqkqdlbg_ind_16').style.opacity = 0;\"\n",
              "        ></div></div></div>"
            ]
          },
          "metadata": {}
        }
      ]
    },
    {
      "cell_type": "code",
      "source": [
        "shap.plots.text(shap_values[1, :, \"NEGATIVE\"])"
      ],
      "metadata": {
        "colab": {
          "base_uri": "https://localhost:8080/",
          "height": 118
        },
        "id": "SU2hHRjCpc_I",
        "outputId": "83e1ada5-de45-426a-ae64-dae5b66b8e6a"
      },
      "execution_count": null,
      "outputs": [
        {
          "output_type": "display_data",
          "data": {
            "text/plain": [
              "<IPython.core.display.HTML object>"
            ],
            "text/html": [
              "<svg width=\"100%\" height=\"80px\"><line x1=\"0\" y1=\"33\" x2=\"100%\" y2=\"33\" style=\"stroke:rgb(150,150,150);stroke-width:1\" /><line x1=\"51.62059545273727%\" y1=\"33\" x2=\"51.62059545273727%\" y2=\"37\" style=\"stroke:rgb(150,150,150);stroke-width:1\" /><text x=\"51.62059545273727%\" y=\"27\" font-size=\"12px\" fill=\"rgb(120,120,120)\" dominant-baseline=\"bottom\" text-anchor=\"middle\">0.3</text><line x1=\"35.84592247631242%\" y1=\"33\" x2=\"35.84592247631242%\" y2=\"37\" style=\"stroke:rgb(150,150,150);stroke-width:1\" /><text x=\"35.84592247631242%\" y=\"27\" font-size=\"12px\" fill=\"rgb(120,120,120)\" dominant-baseline=\"bottom\" text-anchor=\"middle\">0</text><line x1=\"20.071249499887564%\" y1=\"33\" x2=\"20.071249499887564%\" y2=\"37\" style=\"stroke:rgb(150,150,150);stroke-width:1\" /><text x=\"20.071249499887564%\" y=\"27\" font-size=\"12px\" fill=\"rgb(120,120,120)\" dominant-baseline=\"bottom\" text-anchor=\"middle\">-0.3</text><line x1=\"67.39526842916212%\" y1=\"33\" x2=\"67.39526842916212%\" y2=\"37\" style=\"stroke:rgb(150,150,150);stroke-width:1\" /><text x=\"67.39526842916212%\" y=\"27\" font-size=\"12px\" fill=\"rgb(120,120,120)\" dominant-baseline=\"bottom\" text-anchor=\"middle\">0.6</text><line x1=\"83.16994140558695%\" y1=\"33\" x2=\"83.16994140558695%\" y2=\"37\" style=\"stroke:rgb(150,150,150);stroke-width:1\" /><text x=\"83.16994140558695%\" y=\"27\" font-size=\"12px\" fill=\"rgb(120,120,120)\" dominant-baseline=\"bottom\" text-anchor=\"middle\">0.9</text><line x1=\"64.15407699786516%\" y1=\"33\" x2=\"64.15407699786516%\" y2=\"37\" style=\"stroke:rgb(150,150,150);stroke-width:1\" /><text x=\"64.15407699786516%\" y=\"27\" font-size=\"13px\" style=\"stroke:#ffffff;stroke-width:8px;\" fill=\"rgb(255,255,255)\" dominant-baseline=\"bottom\" text-anchor=\"middle\">0.53836</text><text x=\"64.15407699786516%\" y=\"27\" font-size=\"12px\" fill=\"rgb(120,120,120)\" dominant-baseline=\"bottom\" text-anchor=\"middle\">0.53836</text><text x=\"64.15407699786516%\" y=\"10\" font-size=\"12px\" fill=\"rgb(120,120,120)\" dominant-baseline=\"bottom\" text-anchor=\"middle\">base value</text><line x1=\"35.84592247631242%\" y1=\"33\" x2=\"35.84592247631242%\" y2=\"37\" style=\"stroke:rgb(150,150,150);stroke-width:1\" /><text x=\"35.84592247631242%\" y=\"27\" font-size=\"13px\" style=\"stroke:#ffffff;stroke-width:8px;\" font-weight=\"bold\" fill=\"rgb(255,255,255)\" dominant-baseline=\"bottom\" text-anchor=\"middle\">0</text><text x=\"35.84592247631242%\" y=\"27\" font-size=\"13px\" font-weight=\"bold\" fill=\"rgb(0,0,0)\" dominant-baseline=\"bottom\" text-anchor=\"middle\">0</text><text x=\"35.84592247631242%\" y=\"10\" font-size=\"12px\" fill=\"rgb(120,120,120)\" dominant-baseline=\"bottom\" text-anchor=\"middle\">f<tspan baseline-shift=\"sub\" font-size=\"8px\">NEGATIVE</tspan>(inputs)</text><rect x=\"8.3333332895148%\" width=\"27.51258918679762%\" y=\"40\" height=\"18\" style=\"fill:rgb(255.0, 0.0, 81.08083606031792); stroke-width:0; stroke:rgb(0,0,0)\" /><line x1=\"25.405992274480113%\" x2=\"35.84592247631242%\" y1=\"60\" y2=\"60\" id=\"_fb_sfqushepnctlrhspmunt_ind_1\" style=\"stroke:rgb(255.0, 0.0, 81.08083606031792);stroke-width:2; opacity: 0\"/><text x=\"30.625957375396265%\" y=\"71\" font-size=\"12px\" id=\"_fs_sfqushepnctlrhspmunt_ind_1\" fill=\"rgb(255.0, 0.0, 81.08083606031792)\" style=\"opacity: 0\" dominant-baseline=\"middle\" text-anchor=\"middle\">0.199</text><svg x=\"25.405992274480113%\" y=\"40\" height=\"20\" width=\"10.439930201832304%\">  <svg x=\"0\" y=\"0\" width=\"100%\" height=\"100%\">    <text x=\"50%\" y=\"9\" font-size=\"12px\" fill=\"rgb(255,255,255)\" dominant-baseline=\"middle\" text-anchor=\"middle\">Massive</text>  </svg></svg><line x1=\"16.408356951070434%\" x2=\"25.405992274480113%\" y1=\"60\" y2=\"60\" id=\"_fb_sfqushepnctlrhspmunt_ind_15\" style=\"stroke:rgb(255.0, 0.0, 81.08083606031792);stroke-width:2; opacity: 0\"/><text x=\"20.907174612775272%\" y=\"71\" font-size=\"12px\" id=\"_fs_sfqushepnctlrhspmunt_ind_15\" fill=\"rgb(255.0, 0.0, 81.08083606031792)\" style=\"opacity: 0\" dominant-baseline=\"middle\" text-anchor=\"middle\">0.171</text><svg x=\"16.408356951070434%\" y=\"40\" height=\"20\" width=\"8.997635323409678%\">  <svg x=\"0\" y=\"0\" width=\"100%\" height=\"100%\">    <text x=\"50%\" y=\"9\" font-size=\"12px\" fill=\"rgb(255,255,255)\" dominant-baseline=\"middle\" text-anchor=\"middle\">minutes</text>  </svg></svg><line x1=\"14.038337737302264%\" x2=\"16.408356951070434%\" y1=\"60\" y2=\"60\" id=\"_fb_sfqushepnctlrhspmunt_ind_4\" style=\"stroke:rgb(255.0, 0.0, 81.08083606031792);stroke-width:2; opacity: 0\"/><text x=\"15.22334734418635%\" y=\"71\" font-size=\"12px\" id=\"_fs_sfqushepnctlrhspmunt_ind_4\" fill=\"rgb(255.0, 0.0, 81.08083606031792)\" style=\"opacity: 0\" dominant-baseline=\"middle\" text-anchor=\"middle\">0.045</text><svg x=\"14.038337737302264%\" y=\"40\" height=\"20\" width=\"2.3700192137681704%\">  <svg x=\"0\" y=\"0\" width=\"100%\" height=\"100%\">    <text x=\"50%\" y=\"9\" font-size=\"12px\" fill=\"rgb(255,255,255)\" dominant-baseline=\"middle\" text-anchor=\"middle\">!</text>  </svg></svg><line x1=\"12.509921719633406%\" x2=\"14.038337737302264%\" y1=\"60\" y2=\"60\" id=\"_fb_sfqushepnctlrhspmunt_ind_6\" style=\"stroke:rgb(255.0, 0.0, 81.08083606031792);stroke-width:2; opacity: 0\"/><text x=\"13.274129728467834%\" y=\"71\" font-size=\"12px\" id=\"_fs_sfqushepnctlrhspmunt_ind_6\" fill=\"rgb(255.0, 0.0, 81.08083606031792)\" style=\"opacity: 0\" dominant-baseline=\"middle\" text-anchor=\"middle\">0.029</text><svg x=\"12.509921719633406%\" y=\"40\" height=\"20\" width=\"1.5284160176688584%\">  <svg x=\"0\" y=\"0\" width=\"100%\" height=\"100%\">    <text x=\"50%\" y=\"9\" font-size=\"12px\" fill=\"rgb(255,255,255)\" dominant-baseline=\"middle\" text-anchor=\"middle\">!</text>  </svg></svg><line x1=\"11.219954707488593%\" x2=\"12.509921719633406%\" y1=\"60\" y2=\"60\" id=\"_fb_sfqushepnctlrhspmunt_ind_11\" style=\"stroke:rgb(255.0, 0.0, 81.08083606031792);stroke-width:2; opacity: 0\"/><text x=\"11.864938213561%\" y=\"71\" font-size=\"12px\" id=\"_fs_sfqushepnctlrhspmunt_ind_11\" fill=\"rgb(255.0, 0.0, 81.08083606031792)\" style=\"opacity: 0\" dominant-baseline=\"middle\" text-anchor=\"middle\">0.025</text><svg x=\"11.219954707488593%\" y=\"40\" height=\"20\" width=\"1.2899670121448121%\">  <svg x=\"0\" y=\"0\" width=\"100%\" height=\"100%\">    <text x=\"50%\" y=\"9\" font-size=\"12px\" fill=\"rgb(255,255,255)\" dominant-baseline=\"middle\" text-anchor=\"middle\">by</text>  </svg></svg><line x1=\"9.949672433426949%\" x2=\"11.219954707488593%\" y1=\"60\" y2=\"60\" id=\"_fb_sfqushepnctlrhspmunt_ind_5\" style=\"stroke:rgb(255.0, 0.0, 81.08083606031792);stroke-width:2; opacity: 0\"/><text x=\"10.584813570457772%\" y=\"71\" font-size=\"12px\" id=\"_fs_sfqushepnctlrhspmunt_ind_5\" fill=\"rgb(255.0, 0.0, 81.08083606031792)\" style=\"opacity: 0\" dominant-baseline=\"middle\" text-anchor=\"middle\">0.024</text><svg x=\"9.949672433426949%\" y=\"40\" height=\"20\" width=\"1.2702822740616444%\">  <svg x=\"0\" y=\"0\" width=\"100%\" height=\"100%\">    <text x=\"50%\" y=\"9\" font-size=\"12px\" fill=\"rgb(255,255,255)\" dominant-baseline=\"middle\" text-anchor=\"middle\">!</text>  </svg></svg><line x1=\"9.08572625378494%\" x2=\"9.949672433426949%\" y1=\"60\" y2=\"60\" id=\"_fb_sfqushepnctlrhspmunt_ind_12\" style=\"stroke:rgb(255.0, 0.0, 81.08083606031792);stroke-width:2; opacity: 0\"/><text x=\"9.517699343605944%\" y=\"71\" font-size=\"12px\" id=\"_fs_sfqushepnctlrhspmunt_ind_12\" fill=\"rgb(255.0, 0.0, 81.08083606031792)\" style=\"opacity: 0\" dominant-baseline=\"middle\" text-anchor=\"middle\">0.016</text><svg x=\"9.08572625378494%\" y=\"40\" height=\"20\" width=\"0.8639461796420083%\">  <svg x=\"0\" y=\"0\" width=\"100%\" height=\"100%\">    <text x=\"50%\" y=\"9\" font-size=\"12px\" fill=\"rgb(255,255,255)\" dominant-baseline=\"middle\" text-anchor=\"middle\">15</text>  </svg></svg><line x1=\"8.683662832776353%\" x2=\"9.08572625378494%\" y1=\"60\" y2=\"60\" id=\"_fb_sfqushepnctlrhspmunt_ind_16\" style=\"stroke:rgb(255.0, 0.0, 81.08083606031792);stroke-width:2; opacity: 0\"/><text x=\"8.884694543280647%\" y=\"71\" font-size=\"12px\" id=\"_fs_sfqushepnctlrhspmunt_ind_16\" fill=\"rgb(255.0, 0.0, 81.08083606031792)\" style=\"opacity: 0\" dominant-baseline=\"middle\" text-anchor=\"middle\">0.008</text><svg x=\"8.683662832776353%\" y=\"40\" height=\"20\" width=\"0.40206342100858805%\">  <svg x=\"0\" y=\"0\" width=\"100%\" height=\"100%\">    <text x=\"50%\" y=\"9\" font-size=\"12px\" fill=\"rgb(255,255,255)\" dominant-baseline=\"middle\" text-anchor=\"middle\">to</text>  </svg></svg><line x1=\"8.3333332895148%\" x2=\"8.683662832776353%\" y1=\"60\" y2=\"60\" id=\"_fb_sfqushepnctlrhspmunt_ind_14\" style=\"stroke:rgb(255.0, 0.0, 81.08083606031792);stroke-width:2; opacity: 0\"/><text x=\"8.508498061145577%\" y=\"71\" font-size=\"12px\" id=\"_fs_sfqushepnctlrhspmunt_ind_14\" fill=\"rgb(255.0, 0.0, 81.08083606031792)\" style=\"opacity: 0\" dominant-baseline=\"middle\" text-anchor=\"middle\">0.007</text><svg x=\"8.3333332895148%\" y=\"40\" height=\"20\" width=\"0.3503295432615534%\">  <svg x=\"0\" y=\"0\" width=\"100%\" height=\"100%\">    <text x=\"50%\" y=\"9\" font-size=\"12px\" fill=\"rgb(255,255,255)\" dominant-baseline=\"middle\" text-anchor=\"middle\">2</text>  </svg></svg><g transform=\"translate(0,0)\">  <svg x=\"25.405992274480113%\" y=\"40\" height=\"18\" overflow=\"visible\" width=\"30\">    <path d=\"M 0 -9 l 6 18 L 0 25\" fill=\"none\" style=\"stroke:rgb(255.0, 0.0, 81.08083606031792);stroke-width:2\" />  </svg></g><g transform=\"translate(2,0)\">  <svg x=\"25.405992274480113%\" y=\"40\" height=\"18\" overflow=\"visible\" width=\"30\">    <path d=\"M 0 -9 l 6 18 L 0 25\" fill=\"none\" style=\"stroke:rgb(255.0, 0.0, 81.08083606031792);stroke-width:2\" />  </svg></g><g transform=\"translate(4,0)\">  <svg x=\"25.405992274480113%\" y=\"40\" height=\"18\" overflow=\"visible\" width=\"30\">    <path d=\"M 0 -9 l 6 18 L 0 25\" fill=\"none\" style=\"stroke:rgb(255.0, 0.0, 81.08083606031792);stroke-width:2\" />  </svg></g><g transform=\"translate(6,0)\">  <svg x=\"25.405992274480113%\" y=\"40\" height=\"18\" overflow=\"visible\" width=\"30\">    <path d=\"M 0 -9 l 6 18 L 0 25\" fill=\"none\" style=\"stroke:rgb(255.0, 0.0, 81.08083606031792);stroke-width:2\" />  </svg></g><g transform=\"translate(-8,0)\">  <svg x=\"25.405992274480113%\" y=\"40\" height=\"18\" overflow=\"visible\" width=\"30\">    <path d=\"M 0 -9 l 6 18 L 0 25\" fill=\"none\" style=\"stroke:rgb(255.0, 0.0, 81.08083606031792);stroke-width:2\" />  </svg></g><g transform=\"translate(-6,0)\">  <svg x=\"25.405992274480113%\" y=\"40\" height=\"18\" overflow=\"visible\" width=\"30\">    <path d=\"M 0 -9 l 6 18 L 0 25\" fill=\"none\" style=\"stroke:rgb(255.0, 0.0, 81.08083606031792);stroke-width:2\" />  </svg></g><g transform=\"translate(-4,0)\">  <svg x=\"25.405992274480113%\" y=\"40\" height=\"18\" overflow=\"visible\" width=\"30\">    <path d=\"M 0 -9 l 6 18 L 0 25\" fill=\"none\" style=\"stroke:rgb(255.0, 0.0, 81.08083606031792);stroke-width:2\" />  </svg></g><g transform=\"translate(-2,0)\">  <svg x=\"25.405992274480113%\" y=\"40\" height=\"18\" overflow=\"visible\" width=\"30\">    <path d=\"M 0 -9 l 6 18 L 0 25\" fill=\"none\" style=\"stroke:rgb(255.0, 0.0, 81.08083606031792);stroke-width:2\" />  </svg></g><g transform=\"translate(0,0)\">  <svg x=\"16.408356951070434%\" y=\"40\" height=\"18\" overflow=\"visible\" width=\"30\">    <path d=\"M 0 -9 l 6 18 L 0 25\" fill=\"none\" style=\"stroke:rgb(255.0, 0.0, 81.08083606031792);stroke-width:2\" />  </svg></g><g transform=\"translate(2,0)\">  <svg x=\"16.408356951070434%\" y=\"40\" height=\"18\" overflow=\"visible\" width=\"30\">    <path d=\"M 0 -9 l 6 18 L 0 25\" fill=\"none\" style=\"stroke:rgb(255.0, 0.0, 81.08083606031792);stroke-width:2\" />  </svg></g><g transform=\"translate(4,0)\">  <svg x=\"16.408356951070434%\" y=\"40\" height=\"18\" overflow=\"visible\" width=\"30\">    <path d=\"M 0 -9 l 6 18 L 0 25\" fill=\"none\" style=\"stroke:rgb(255.0, 0.0, 81.08083606031792);stroke-width:2\" />  </svg></g><g transform=\"translate(6,0)\">  <svg x=\"16.408356951070434%\" y=\"40\" height=\"18\" overflow=\"visible\" width=\"30\">    <path d=\"M 0 -9 l 6 18 L 0 25\" fill=\"none\" style=\"stroke:rgb(255.0, 0.0, 81.08083606031792);stroke-width:2\" />  </svg></g><g transform=\"translate(-8,0)\">  <svg x=\"16.408356951070434%\" y=\"40\" height=\"18\" overflow=\"visible\" width=\"30\">    <path d=\"M 0 -9 l 6 18 L 0 25\" fill=\"none\" style=\"stroke:rgb(255.0, 0.0, 81.08083606031792);stroke-width:2\" />  </svg></g><g transform=\"translate(-6,0)\">  <svg x=\"16.408356951070434%\" y=\"40\" height=\"18\" overflow=\"visible\" width=\"30\">    <path d=\"M 0 -9 l 6 18 L 0 25\" fill=\"none\" style=\"stroke:rgb(255.0, 0.0, 81.08083606031792);stroke-width:2\" />  </svg></g><g transform=\"translate(-4,0)\">  <svg x=\"16.408356951070434%\" y=\"40\" height=\"18\" overflow=\"visible\" width=\"30\">    <path d=\"M 0 -9 l 6 18 L 0 25\" fill=\"none\" style=\"stroke:rgb(255.0, 0.0, 81.08083606031792);stroke-width:2\" />  </svg></g><g transform=\"translate(-2,0)\">  <svg x=\"16.408356951070434%\" y=\"40\" height=\"18\" overflow=\"visible\" width=\"30\">    <path d=\"M 0 -9 l 6 18 L 0 25\" fill=\"none\" style=\"stroke:rgb(255.0, 0.0, 81.08083606031792);stroke-width:2\" />  </svg></g><g transform=\"translate(0,0)\">  <svg x=\"14.038337737302264%\" y=\"40\" height=\"18\" overflow=\"visible\" width=\"30\">    <path d=\"M 0 -9 l 6 18 L 0 25\" fill=\"none\" style=\"stroke:rgb(255.0, 0.0, 81.08083606031792);stroke-width:2\" />  </svg></g><g transform=\"translate(2,0)\">  <svg x=\"14.038337737302264%\" y=\"40\" height=\"18\" overflow=\"visible\" width=\"30\">    <path d=\"M 0 -9 l 6 18 L 0 25\" fill=\"none\" style=\"stroke:rgb(255.0, 0.0, 81.08083606031792);stroke-width:2\" />  </svg></g><g transform=\"translate(4,0)\">  <svg x=\"14.038337737302264%\" y=\"40\" height=\"18\" overflow=\"visible\" width=\"30\">    <path d=\"M 0 -9 l 6 18 L 0 25\" fill=\"none\" style=\"stroke:rgb(255.0, 0.0, 81.08083606031792);stroke-width:2\" />  </svg></g><g transform=\"translate(6,0)\">  <svg x=\"14.038337737302264%\" y=\"40\" height=\"18\" overflow=\"visible\" width=\"30\">    <path d=\"M 0 -9 l 6 18 L 0 25\" fill=\"none\" style=\"stroke:rgb(255.0, 0.0, 81.08083606031792);stroke-width:2\" />  </svg></g><g transform=\"translate(-8,0)\">  <svg x=\"14.038337737302264%\" y=\"40\" height=\"18\" overflow=\"visible\" width=\"30\">    <path d=\"M 0 -9 l 6 18 L 0 25\" fill=\"none\" style=\"stroke:rgb(255.0, 0.0, 81.08083606031792);stroke-width:2\" />  </svg></g><g transform=\"translate(-6,0)\">  <svg x=\"14.038337737302264%\" y=\"40\" height=\"18\" overflow=\"visible\" width=\"30\">    <path d=\"M 0 -9 l 6 18 L 0 25\" fill=\"none\" style=\"stroke:rgb(255.0, 0.0, 81.08083606031792);stroke-width:2\" />  </svg></g><g transform=\"translate(-4,0)\">  <svg x=\"14.038337737302264%\" y=\"40\" height=\"18\" overflow=\"visible\" width=\"30\">    <path d=\"M 0 -9 l 6 18 L 0 25\" fill=\"none\" style=\"stroke:rgb(255.0, 0.0, 81.08083606031792);stroke-width:2\" />  </svg></g><g transform=\"translate(-2,0)\">  <svg x=\"14.038337737302264%\" y=\"40\" height=\"18\" overflow=\"visible\" width=\"30\">    <path d=\"M 0 -9 l 6 18 L 0 25\" fill=\"none\" style=\"stroke:rgb(255.0, 0.0, 81.08083606031792);stroke-width:2\" />  </svg></g><g transform=\"translate(0,0)\">  <svg x=\"12.509921719633406%\" y=\"40\" height=\"18\" overflow=\"visible\" width=\"30\">    <path d=\"M 0 -9 l 6 18 L 0 25\" fill=\"none\" style=\"stroke:rgb(255.0, 0.0, 81.08083606031792);stroke-width:2\" />  </svg></g><g transform=\"translate(2,0)\">  <svg x=\"12.509921719633406%\" y=\"40\" height=\"18\" overflow=\"visible\" width=\"30\">    <path d=\"M 0 -9 l 6 18 L 0 25\" fill=\"none\" style=\"stroke:rgb(255.0, 0.0, 81.08083606031792);stroke-width:2\" />  </svg></g><g transform=\"translate(4,0)\">  <svg x=\"12.509921719633406%\" y=\"40\" height=\"18\" overflow=\"visible\" width=\"30\">    <path d=\"M 0 -9 l 6 18 L 0 25\" fill=\"none\" style=\"stroke:rgb(255.0, 0.0, 81.08083606031792);stroke-width:2\" />  </svg></g><g transform=\"translate(6,0)\">  <svg x=\"12.509921719633406%\" y=\"40\" height=\"18\" overflow=\"visible\" width=\"30\">    <path d=\"M 0 -9 l 6 18 L 0 25\" fill=\"none\" style=\"stroke:rgb(255.0, 0.0, 81.08083606031792);stroke-width:2\" />  </svg></g><g transform=\"translate(-8,0)\">  <svg x=\"12.509921719633406%\" y=\"40\" height=\"18\" overflow=\"visible\" width=\"30\">    <path d=\"M 0 -9 l 6 18 L 0 25\" fill=\"none\" style=\"stroke:rgb(255.0, 0.0, 81.08083606031792);stroke-width:2\" />  </svg></g><g transform=\"translate(-6,0)\">  <svg x=\"12.509921719633406%\" y=\"40\" height=\"18\" overflow=\"visible\" width=\"30\">    <path d=\"M 0 -9 l 6 18 L 0 25\" fill=\"none\" style=\"stroke:rgb(255.0, 0.0, 81.08083606031792);stroke-width:2\" />  </svg></g><g transform=\"translate(-4,0)\">  <svg x=\"12.509921719633406%\" y=\"40\" height=\"18\" overflow=\"visible\" width=\"30\">    <path d=\"M 0 -9 l 6 18 L 0 25\" fill=\"none\" style=\"stroke:rgb(255.0, 0.0, 81.08083606031792);stroke-width:2\" />  </svg></g><g transform=\"translate(-2,0)\">  <svg x=\"12.509921719633406%\" y=\"40\" height=\"18\" overflow=\"visible\" width=\"30\">    <path d=\"M 0 -9 l 6 18 L 0 25\" fill=\"none\" style=\"stroke:rgb(255.0, 0.0, 81.08083606031792);stroke-width:2\" />  </svg></g><g transform=\"translate(0,0)\">  <svg x=\"11.219954707488593%\" y=\"40\" height=\"18\" overflow=\"visible\" width=\"30\">    <path d=\"M 0 -9 l 6 18 L 0 25\" fill=\"none\" style=\"stroke:rgb(255.0, 0.0, 81.08083606031792);stroke-width:2\" />  </svg></g><g transform=\"translate(2,0)\">  <svg x=\"11.219954707488593%\" y=\"40\" height=\"18\" overflow=\"visible\" width=\"30\">    <path d=\"M 0 -9 l 6 18 L 0 25\" fill=\"none\" style=\"stroke:rgb(255.0, 0.0, 81.08083606031792);stroke-width:2\" />  </svg></g><g transform=\"translate(4,0)\">  <svg x=\"11.219954707488593%\" y=\"40\" height=\"18\" overflow=\"visible\" width=\"30\">    <path d=\"M 0 -9 l 6 18 L 0 25\" fill=\"none\" style=\"stroke:rgb(255.0, 0.0, 81.08083606031792);stroke-width:2\" />  </svg></g><g transform=\"translate(6,0)\">  <svg x=\"11.219954707488593%\" y=\"40\" height=\"18\" overflow=\"visible\" width=\"30\">    <path d=\"M 0 -9 l 6 18 L 0 25\" fill=\"none\" style=\"stroke:rgb(255.0, 0.0, 81.08083606031792);stroke-width:2\" />  </svg></g><g transform=\"translate(-8,0)\">  <svg x=\"11.219954707488593%\" y=\"40\" height=\"18\" overflow=\"visible\" width=\"30\">    <path d=\"M 0 -9 l 6 18 L 0 25\" fill=\"none\" style=\"stroke:rgb(255.0, 0.0, 81.08083606031792);stroke-width:2\" />  </svg></g><g transform=\"translate(-6,0)\">  <svg x=\"11.219954707488593%\" y=\"40\" height=\"18\" overflow=\"visible\" width=\"30\">    <path d=\"M 0 -9 l 6 18 L 0 25\" fill=\"none\" style=\"stroke:rgb(255.0, 0.0, 81.08083606031792);stroke-width:2\" />  </svg></g><g transform=\"translate(-4,0)\">  <svg x=\"11.219954707488593%\" y=\"40\" height=\"18\" overflow=\"visible\" width=\"30\">    <path d=\"M 0 -9 l 6 18 L 0 25\" fill=\"none\" style=\"stroke:rgb(255.0, 0.0, 81.08083606031792);stroke-width:2\" />  </svg></g><g transform=\"translate(-2,0)\">  <svg x=\"11.219954707488593%\" y=\"40\" height=\"18\" overflow=\"visible\" width=\"30\">    <path d=\"M 0 -9 l 6 18 L 0 25\" fill=\"none\" style=\"stroke:rgb(255.0, 0.0, 81.08083606031792);stroke-width:2\" />  </svg></g><g transform=\"translate(0,0)\">  <svg x=\"9.949672433426949%\" y=\"40\" height=\"18\" overflow=\"visible\" width=\"30\">    <path d=\"M 0 -9 l 6 18 L 0 25\" fill=\"none\" style=\"stroke:rgb(255.0, 0.0, 81.08083606031792);stroke-width:2\" />  </svg></g><g transform=\"translate(2,0)\">  <svg x=\"9.949672433426949%\" y=\"40\" height=\"18\" overflow=\"visible\" width=\"30\">    <path d=\"M 0 -9 l 6 18 L 0 25\" fill=\"none\" style=\"stroke:rgb(255.0, 0.0, 81.08083606031792);stroke-width:2\" />  </svg></g><g transform=\"translate(4,0)\">  <svg x=\"9.949672433426949%\" y=\"40\" height=\"18\" overflow=\"visible\" width=\"30\">    <path d=\"M 0 -9 l 6 18 L 0 25\" fill=\"none\" style=\"stroke:rgb(255.0, 0.0, 81.08083606031792);stroke-width:2\" />  </svg></g><g transform=\"translate(6,0)\">  <svg x=\"9.949672433426949%\" y=\"40\" height=\"18\" overflow=\"visible\" width=\"30\">    <path d=\"M 0 -9 l 6 18 L 0 25\" fill=\"none\" style=\"stroke:rgb(255.0, 0.0, 81.08083606031792);stroke-width:2\" />  </svg></g><g transform=\"translate(-8,0)\">  <svg x=\"9.949672433426949%\" y=\"40\" height=\"18\" overflow=\"visible\" width=\"30\">    <path d=\"M 0 -9 l 6 18 L 0 25\" fill=\"none\" style=\"stroke:rgb(255.0, 0.0, 81.08083606031792);stroke-width:2\" />  </svg></g><g transform=\"translate(-6,0)\">  <svg x=\"9.949672433426949%\" y=\"40\" height=\"18\" overflow=\"visible\" width=\"30\">    <path d=\"M 0 -9 l 6 18 L 0 25\" fill=\"none\" style=\"stroke:rgb(255.0, 0.0, 81.08083606031792);stroke-width:2\" />  </svg></g><g transform=\"translate(-4,0)\">  <svg x=\"9.949672433426949%\" y=\"40\" height=\"18\" overflow=\"visible\" width=\"30\">    <path d=\"M 0 -9 l 6 18 L 0 25\" fill=\"none\" style=\"stroke:rgb(255.0, 0.0, 81.08083606031792);stroke-width:2\" />  </svg></g><g transform=\"translate(-2,0)\">  <svg x=\"9.949672433426949%\" y=\"40\" height=\"18\" overflow=\"visible\" width=\"30\">    <path d=\"M 0 -9 l 6 18 L 0 25\" fill=\"none\" style=\"stroke:rgb(255.0, 0.0, 81.08083606031792);stroke-width:2\" />  </svg></g><g transform=\"translate(0,0)\">  <svg x=\"9.08572625378494%\" y=\"40\" height=\"18\" overflow=\"visible\" width=\"30\">    <path d=\"M 0 -9 l 6 18 L 0 25\" fill=\"none\" style=\"stroke:rgb(255.0, 0.0, 81.08083606031792);stroke-width:2\" />  </svg></g><g transform=\"translate(2,0)\">  <svg x=\"9.08572625378494%\" y=\"40\" height=\"18\" overflow=\"visible\" width=\"30\">    <path d=\"M 0 -9 l 6 18 L 0 25\" fill=\"none\" style=\"stroke:rgb(255.0, 0.0, 81.08083606031792);stroke-width:2\" />  </svg></g><g transform=\"translate(4,0)\">  <svg x=\"9.08572625378494%\" y=\"40\" height=\"18\" overflow=\"visible\" width=\"30\">    <path d=\"M 0 -9 l 6 18 L 0 25\" fill=\"none\" style=\"stroke:rgb(255.0, 0.0, 81.08083606031792);stroke-width:2\" />  </svg></g><g transform=\"translate(6,0)\">  <svg x=\"9.08572625378494%\" y=\"40\" height=\"18\" overflow=\"visible\" width=\"30\">    <path d=\"M 0 -9 l 6 18 L 0 25\" fill=\"none\" style=\"stroke:rgb(255.0, 0.0, 81.08083606031792);stroke-width:2\" />  </svg></g><g transform=\"translate(-8,0)\">  <svg x=\"9.08572625378494%\" y=\"40\" height=\"18\" overflow=\"visible\" width=\"30\">    <path d=\"M 0 -9 l 6 18 L 0 25\" fill=\"none\" style=\"stroke:rgb(255.0, 0.0, 81.08083606031792);stroke-width:2\" />  </svg></g><g transform=\"translate(-6,0)\">  <svg x=\"9.08572625378494%\" y=\"40\" height=\"18\" overflow=\"visible\" width=\"30\">    <path d=\"M 0 -9 l 6 18 L 0 25\" fill=\"none\" style=\"stroke:rgb(255.0, 0.0, 81.08083606031792);stroke-width:2\" />  </svg></g><g transform=\"translate(-4,0)\">  <svg x=\"9.08572625378494%\" y=\"40\" height=\"18\" overflow=\"visible\" width=\"30\">    <path d=\"M 0 -9 l 6 18 L 0 25\" fill=\"none\" style=\"stroke:rgb(255.0, 0.0, 81.08083606031792);stroke-width:2\" />  </svg></g><g transform=\"translate(-2,0)\">  <svg x=\"9.08572625378494%\" y=\"40\" height=\"18\" overflow=\"visible\" width=\"30\">    <path d=\"M 0 -9 l 6 18 L 0 25\" fill=\"none\" style=\"stroke:rgb(255.0, 0.0, 81.08083606031792);stroke-width:2\" />  </svg></g><g transform=\"translate(0,0)\">  <svg x=\"8.683662832776353%\" y=\"40\" height=\"18\" overflow=\"visible\" width=\"30\">    <path d=\"M 0 -9 l 6 18 L 0 25\" fill=\"none\" style=\"stroke:rgb(255.0, 0.0, 81.08083606031792);stroke-width:2\" />  </svg></g><g transform=\"translate(2,0)\">  <svg x=\"8.683662832776353%\" y=\"40\" height=\"18\" overflow=\"visible\" width=\"30\">    <path d=\"M 0 -9 l 6 18 L 0 25\" fill=\"none\" style=\"stroke:rgb(255.0, 0.0, 81.08083606031792);stroke-width:2\" />  </svg></g><g transform=\"translate(4,0)\">  <svg x=\"8.683662832776353%\" y=\"40\" height=\"18\" overflow=\"visible\" width=\"30\">    <path d=\"M 0 -9 l 6 18 L 0 25\" fill=\"none\" style=\"stroke:rgb(255.0, 0.0, 81.08083606031792);stroke-width:2\" />  </svg></g><g transform=\"translate(6,0)\">  <svg x=\"8.683662832776353%\" y=\"40\" height=\"18\" overflow=\"visible\" width=\"30\">    <path d=\"M 0 -9 l 6 18 L 0 25\" fill=\"none\" style=\"stroke:rgb(255.0, 0.0, 81.08083606031792);stroke-width:2\" />  </svg></g><g transform=\"translate(-8,0)\">  <svg x=\"8.683662832776353%\" y=\"40\" height=\"18\" overflow=\"visible\" width=\"30\">    <path d=\"M 0 -9 l 6 18 L 0 25\" fill=\"none\" style=\"stroke:rgb(255.0, 0.0, 81.08083606031792);stroke-width:2\" />  </svg></g><g transform=\"translate(-6,0)\">  <svg x=\"8.683662832776353%\" y=\"40\" height=\"18\" overflow=\"visible\" width=\"30\">    <path d=\"M 0 -9 l 6 18 L 0 25\" fill=\"none\" style=\"stroke:rgb(255.0, 0.0, 81.08083606031792);stroke-width:2\" />  </svg></g><g transform=\"translate(-4,0)\">  <svg x=\"8.683662832776353%\" y=\"40\" height=\"18\" overflow=\"visible\" width=\"30\">    <path d=\"M 0 -9 l 6 18 L 0 25\" fill=\"none\" style=\"stroke:rgb(255.0, 0.0, 81.08083606031792);stroke-width:2\" />  </svg></g><g transform=\"translate(-2,0)\">  <svg x=\"8.683662832776353%\" y=\"40\" height=\"18\" overflow=\"visible\" width=\"30\">    <path d=\"M 0 -9 l 6 18 L 0 25\" fill=\"none\" style=\"stroke:rgb(255.0, 0.0, 81.08083606031792);stroke-width:2\" />  </svg></g><rect transform=\"translate(-8,0)\" x=\"35.84592247631242%\" y=\"40\" width=\"8\" height=\"18\" style=\"fill:rgb(255.0, 0.0, 81.08083606031792)\"/><g transform=\"translate(-11.5,0)\">  <svg x=\"8.3333332895148%\" y=\"40\" height=\"18\" overflow=\"visible\" width=\"30\">    <path d=\"M 10 -9 l 6 18 L 10 25 L 0 25 L 0 -9\" fill=\"#ffffff\" style=\"stroke:rgb(255,255,255);stroke-width:2\" />  </svg></g><g transform=\"translate(-1.5,0)\">  <svg x=\"35.84592247631242%\" y=\"40\" height=\"18\" overflow=\"visible\" width=\"30\">    <path d=\"M 0 -9 l 6 18 L 0 25\" fill=\"none\" style=\"stroke:rgb(255, 195, 213);stroke-width:2\" />  </svg></g><rect x=\"25.405992274480113%\" y=\"40\" height=\"20\" width=\"10.439930201832304%\"      onmouseover=\"document.getElementById('_tp_sfqushepnctlrhspmunt_ind_1').style.textDecoration = 'underline';document.getElementById('_fs_sfqushepnctlrhspmunt_ind_1').style.opacity = 1;document.getElementById('_fb_sfqushepnctlrhspmunt_ind_1').style.opacity = 1;\"      onmouseout=\"document.getElementById('_tp_sfqushepnctlrhspmunt_ind_1').style.textDecoration = 'none';document.getElementById('_fs_sfqushepnctlrhspmunt_ind_1').style.opacity = 0;document.getElementById('_fb_sfqushepnctlrhspmunt_ind_1').style.opacity = 0;\" style=\"fill:rgb(0,0,0,0)\" /><g transform=\"translate(-1.5,0)\">  <svg x=\"25.405992274480113%\" y=\"40\" height=\"18\" overflow=\"visible\" width=\"30\">    <path d=\"M 0 -9 l 6 18 L 0 25\" fill=\"none\" style=\"stroke:rgb(255, 195, 213);stroke-width:2\" />  </svg></g><rect x=\"16.408356951070434%\" y=\"40\" height=\"20\" width=\"8.997635323409678%\"      onmouseover=\"document.getElementById('_tp_sfqushepnctlrhspmunt_ind_15').style.textDecoration = 'underline';document.getElementById('_fs_sfqushepnctlrhspmunt_ind_15').style.opacity = 1;document.getElementById('_fb_sfqushepnctlrhspmunt_ind_15').style.opacity = 1;\"      onmouseout=\"document.getElementById('_tp_sfqushepnctlrhspmunt_ind_15').style.textDecoration = 'none';document.getElementById('_fs_sfqushepnctlrhspmunt_ind_15').style.opacity = 0;document.getElementById('_fb_sfqushepnctlrhspmunt_ind_15').style.opacity = 0;\" style=\"fill:rgb(0,0,0,0)\" /><g transform=\"translate(-1.5,0)\">  <svg x=\"16.408356951070434%\" y=\"40\" height=\"18\" overflow=\"visible\" width=\"30\">    <path d=\"M 0 -9 l 6 18 L 0 25\" fill=\"none\" style=\"stroke:rgb(255, 195, 213);stroke-width:2\" />  </svg></g><rect x=\"14.038337737302264%\" y=\"40\" height=\"20\" width=\"2.3700192137681704%\"      onmouseover=\"document.getElementById('_tp_sfqushepnctlrhspmunt_ind_4').style.textDecoration = 'underline';document.getElementById('_fs_sfqushepnctlrhspmunt_ind_4').style.opacity = 1;document.getElementById('_fb_sfqushepnctlrhspmunt_ind_4').style.opacity = 1;\"      onmouseout=\"document.getElementById('_tp_sfqushepnctlrhspmunt_ind_4').style.textDecoration = 'none';document.getElementById('_fs_sfqushepnctlrhspmunt_ind_4').style.opacity = 0;document.getElementById('_fb_sfqushepnctlrhspmunt_ind_4').style.opacity = 0;\" style=\"fill:rgb(0,0,0,0)\" /><g transform=\"translate(-1.5,0)\">  <svg x=\"14.038337737302264%\" y=\"40\" height=\"18\" overflow=\"visible\" width=\"30\">    <path d=\"M 0 -9 l 6 18 L 0 25\" fill=\"none\" style=\"stroke:rgb(255, 195, 213);stroke-width:2\" />  </svg></g><rect x=\"12.509921719633406%\" y=\"40\" height=\"20\" width=\"1.5284160176688584%\"      onmouseover=\"document.getElementById('_tp_sfqushepnctlrhspmunt_ind_6').style.textDecoration = 'underline';document.getElementById('_fs_sfqushepnctlrhspmunt_ind_6').style.opacity = 1;document.getElementById('_fb_sfqushepnctlrhspmunt_ind_6').style.opacity = 1;\"      onmouseout=\"document.getElementById('_tp_sfqushepnctlrhspmunt_ind_6').style.textDecoration = 'none';document.getElementById('_fs_sfqushepnctlrhspmunt_ind_6').style.opacity = 0;document.getElementById('_fb_sfqushepnctlrhspmunt_ind_6').style.opacity = 0;\" style=\"fill:rgb(0,0,0,0)\" /><g transform=\"translate(-1.5,0)\">  <svg x=\"12.509921719633406%\" y=\"40\" height=\"18\" overflow=\"visible\" width=\"30\">    <path d=\"M 0 -9 l 6 18 L 0 25\" fill=\"none\" style=\"stroke:rgb(255, 195, 213);stroke-width:2\" />  </svg></g><rect x=\"11.219954707488593%\" y=\"40\" height=\"20\" width=\"1.2899670121448121%\"      onmouseover=\"document.getElementById('_tp_sfqushepnctlrhspmunt_ind_11').style.textDecoration = 'underline';document.getElementById('_fs_sfqushepnctlrhspmunt_ind_11').style.opacity = 1;document.getElementById('_fb_sfqushepnctlrhspmunt_ind_11').style.opacity = 1;\"      onmouseout=\"document.getElementById('_tp_sfqushepnctlrhspmunt_ind_11').style.textDecoration = 'none';document.getElementById('_fs_sfqushepnctlrhspmunt_ind_11').style.opacity = 0;document.getElementById('_fb_sfqushepnctlrhspmunt_ind_11').style.opacity = 0;\" style=\"fill:rgb(0,0,0,0)\" /><g transform=\"translate(-1.5,0)\">  <svg x=\"11.219954707488593%\" y=\"40\" height=\"18\" overflow=\"visible\" width=\"30\">    <path d=\"M 0 -9 l 6 18 L 0 25\" fill=\"none\" style=\"stroke:rgb(255, 195, 213);stroke-width:2\" />  </svg></g><rect x=\"9.949672433426949%\" y=\"40\" height=\"20\" width=\"1.2702822740616444%\"      onmouseover=\"document.getElementById('_tp_sfqushepnctlrhspmunt_ind_5').style.textDecoration = 'underline';document.getElementById('_fs_sfqushepnctlrhspmunt_ind_5').style.opacity = 1;document.getElementById('_fb_sfqushepnctlrhspmunt_ind_5').style.opacity = 1;\"      onmouseout=\"document.getElementById('_tp_sfqushepnctlrhspmunt_ind_5').style.textDecoration = 'none';document.getElementById('_fs_sfqushepnctlrhspmunt_ind_5').style.opacity = 0;document.getElementById('_fb_sfqushepnctlrhspmunt_ind_5').style.opacity = 0;\" style=\"fill:rgb(0,0,0,0)\" /><g transform=\"translate(-1.5,0)\">  <svg x=\"9.949672433426949%\" y=\"40\" height=\"18\" overflow=\"visible\" width=\"30\">    <path d=\"M 0 -9 l 6 18 L 0 25\" fill=\"none\" style=\"stroke:rgb(255, 195, 213);stroke-width:2\" />  </svg></g><rect x=\"9.08572625378494%\" y=\"40\" height=\"20\" width=\"0.8639461796420083%\"      onmouseover=\"document.getElementById('_tp_sfqushepnctlrhspmunt_ind_12').style.textDecoration = 'underline';document.getElementById('_fs_sfqushepnctlrhspmunt_ind_12').style.opacity = 1;document.getElementById('_fb_sfqushepnctlrhspmunt_ind_12').style.opacity = 1;\"      onmouseout=\"document.getElementById('_tp_sfqushepnctlrhspmunt_ind_12').style.textDecoration = 'none';document.getElementById('_fs_sfqushepnctlrhspmunt_ind_12').style.opacity = 0;document.getElementById('_fb_sfqushepnctlrhspmunt_ind_12').style.opacity = 0;\" style=\"fill:rgb(0,0,0,0)\" /><g transform=\"translate(-1.5,0)\">  <svg x=\"9.08572625378494%\" y=\"40\" height=\"18\" overflow=\"visible\" width=\"30\">    <path d=\"M 0 -9 l 6 18 L 0 25\" fill=\"none\" style=\"stroke:rgb(255, 195, 213);stroke-width:2\" />  </svg></g><rect x=\"8.683662832776353%\" y=\"40\" height=\"20\" width=\"0.40206342100858805%\"      onmouseover=\"document.getElementById('_tp_sfqushepnctlrhspmunt_ind_16').style.textDecoration = 'underline';document.getElementById('_fs_sfqushepnctlrhspmunt_ind_16').style.opacity = 1;document.getElementById('_fb_sfqushepnctlrhspmunt_ind_16').style.opacity = 1;\"      onmouseout=\"document.getElementById('_tp_sfqushepnctlrhspmunt_ind_16').style.textDecoration = 'none';document.getElementById('_fs_sfqushepnctlrhspmunt_ind_16').style.opacity = 0;document.getElementById('_fb_sfqushepnctlrhspmunt_ind_16').style.opacity = 0;\" style=\"fill:rgb(0,0,0,0)\" /><rect x=\"8.3333332895148%\" y=\"40\" height=\"20\" width=\"0.3503295432615534%\"      onmouseover=\"document.getElementById('_tp_sfqushepnctlrhspmunt_ind_14').style.textDecoration = 'underline';document.getElementById('_fs_sfqushepnctlrhspmunt_ind_14').style.opacity = 1;document.getElementById('_fb_sfqushepnctlrhspmunt_ind_14').style.opacity = 1;\"      onmouseout=\"document.getElementById('_tp_sfqushepnctlrhspmunt_ind_14').style.textDecoration = 'none';document.getElementById('_fs_sfqushepnctlrhspmunt_ind_14').style.opacity = 0;document.getElementById('_fb_sfqushepnctlrhspmunt_ind_14').style.opacity = 0;\" style=\"fill:rgb(0,0,0,0)\" /><rect x=\"35.84592247631242%\" width=\"55.82074370835036%\" y=\"40\" height=\"18\" style=\"fill:rgb(0.0, 138.56128015770727, 250.76166088685727); stroke-width:0; stroke:rgb(0,0,0)\" /><line x1=\"35.84592247631242%\" x2=\"56.46662289946162%\" y1=\"60\" y2=\"60\" id=\"_fb_sfqushepnctlrhspmunt_ind_3\" style=\"stroke:rgb(0.0, 138.56128015770727, 250.76166088685727);stroke-width:2; opacity: 0\"/><text x=\"46.15627268788702%\" y=\"71\" font-size=\"12px\" fill=\"rgb(0.0, 138.56128015770727, 250.76166088685727)\" id=\"_fs_sfqushepnctlrhspmunt_ind_3\" style=\"opacity: 0\" dominant-baseline=\"middle\" text-anchor=\"middle\">-0.392</text><svg x=\"35.84592247631242%\" y=\"40\" height=\"20\" width=\"20.620700423149202%\">  <svg x=\"0\" y=\"0\" width=\"100%\" height=\"100%\">    <text x=\"50%\" y=\"9\" font-size=\"12px\" fill=\"rgb(255,255,255)\" dominant-baseline=\"middle\" text-anchor=\"middle\">k</text>  </svg></svg><line x1=\"56.46662289946162%\" x2=\"66.15319447727992%\" y1=\"60\" y2=\"60\" id=\"_fb_sfqushepnctlrhspmunt_ind_10\" style=\"stroke:rgb(0.0, 138.56128015770727, 250.76166088685727);stroke-width:2; opacity: 0\"/><text x=\"61.30990868837077%\" y=\"71\" font-size=\"12px\" fill=\"rgb(0.0, 138.56128015770727, 250.76166088685727)\" id=\"_fs_sfqushepnctlrhspmunt_ind_10\" style=\"opacity: 0\" dominant-baseline=\"middle\" text-anchor=\"middle\">-0.184</text><svg x=\"56.46662289946162%\" y=\"40\" height=\"20\" width=\"9.686571577818306%\">  <svg x=\"0\" y=\"0\" width=\"100%\" height=\"100%\">    <text x=\"50%\" y=\"9\" font-size=\"12px\" fill=\"rgb(255,255,255)\" dominant-baseline=\"middle\" text-anchor=\"middle\">up</text>  </svg></svg><line x1=\"66.15319447727992%\" x2=\"72.5956655193426%\" y1=\"60\" y2=\"60\" id=\"_fb_sfqushepnctlrhspmunt_ind_17\" style=\"stroke:rgb(0.0, 138.56128015770727, 250.76166088685727);stroke-width:2; opacity: 0\"/><text x=\"69.37442999831126%\" y=\"71\" font-size=\"12px\" fill=\"rgb(0.0, 138.56128015770727, 250.76166088685727)\" id=\"_fs_sfqushepnctlrhspmunt_ind_17\" style=\"opacity: 0\" dominant-baseline=\"middle\" text-anchor=\"middle\">-0.123</text><svg x=\"66.15319447727992%\" y=\"40\" height=\"20\" width=\"6.442471042062678%\">  <svg x=\"0\" y=\"0\" width=\"100%\" height=\"100%\">    <text x=\"50%\" y=\"9\" font-size=\"12px\" fill=\"rgb(255,255,255)\" dominant-baseline=\"middle\" text-anchor=\"middle\">go</text>  </svg></svg><line x1=\"72.5956655193426%\" x2=\"78.93899177257025%\" y1=\"60\" y2=\"60\" id=\"_fb_sfqushepnctlrhspmunt_ind_2\" style=\"stroke:rgb(0.0, 138.56128015770727, 250.76166088685727);stroke-width:2; opacity: 0\"/><text x=\"75.76732864595643%\" y=\"71\" font-size=\"12px\" fill=\"rgb(0.0, 138.56128015770727, 250.76166088685727)\" id=\"_fs_sfqushepnctlrhspmunt_ind_2\" style=\"opacity: 0\" dominant-baseline=\"middle\" text-anchor=\"middle\">-0.121</text><svg x=\"72.5956655193426%\" y=\"40\" height=\"20\" width=\"6.343326253227644%\">  <svg x=\"0\" y=\"0\" width=\"100%\" height=\"100%\">    <text x=\"50%\" y=\"9\" font-size=\"12px\" fill=\"rgb(255,255,255)\" dominant-baseline=\"middle\" text-anchor=\"middle\">dun</text>  </svg></svg><line x1=\"78.93899177257025%\" x2=\"85.14307262331612%\" y1=\"60\" y2=\"60\" id=\"_fb_sfqushepnctlrhspmunt_ind_7\" style=\"stroke:rgb(0.0, 138.56128015770727, 250.76166088685727);stroke-width:2; opacity: 0\"/><text x=\"82.04103219794318%\" y=\"71\" font-size=\"12px\" fill=\"rgb(0.0, 138.56128015770727, 250.76166088685727)\" id=\"_fs_sfqushepnctlrhspmunt_ind_7\" style=\"opacity: 0\" dominant-baseline=\"middle\" text-anchor=\"middle\">-0.118</text><svg x=\"78.93899177257025%\" y=\"40\" height=\"20\" width=\"6.204080850745868%\">  <svg x=\"0\" y=\"0\" width=\"100%\" height=\"100%\">    <text x=\"50%\" y=\"9\" font-size=\"12px\" fill=\"rgb(255,255,255)\" dominant-baseline=\"middle\" text-anchor=\"middle\">they</text>  </svg></svg><line x1=\"85.14307262331612%\" x2=\"87.85379171697379%\" y1=\"60\" y2=\"60\" id=\"_fb_sfqushepnctlrhspmunt_ind_8\" style=\"stroke:rgb(0.0, 138.56128015770727, 250.76166088685727);stroke-width:2; opacity: 0\"/><text x=\"86.49843217014495%\" y=\"71\" font-size=\"12px\" fill=\"rgb(0.0, 138.56128015770727, 250.76166088685727)\" id=\"_fs_sfqushepnctlrhspmunt_ind_8\" style=\"opacity: 0\" dominant-baseline=\"middle\" text-anchor=\"middle\">-0.052</text><svg x=\"85.14307262331612%\" y=\"40\" height=\"20\" width=\"2.710719093657673%\">  <svg x=\"0\" y=\"0\" width=\"100%\" height=\"100%\">    <text x=\"50%\" y=\"9\" font-size=\"12px\" fill=\"rgb(255,255,255)\" dominant-baseline=\"middle\" text-anchor=\"middle\">are</text>  </svg></svg><line x1=\"87.85379171697379%\" x2=\"90.40558164948712%\" y1=\"60\" y2=\"60\" id=\"_fb_sfqushepnctlrhspmunt_ind_9\" style=\"stroke:rgb(0.0, 138.56128015770727, 250.76166088685727);stroke-width:2; opacity: 0\"/><text x=\"89.12968668323046%\" y=\"71\" font-size=\"12px\" fill=\"rgb(0.0, 138.56128015770727, 250.76166088685727)\" id=\"_fs_sfqushepnctlrhspmunt_ind_9\" style=\"opacity: 0\" dominant-baseline=\"middle\" text-anchor=\"middle\">-0.049</text><svg x=\"87.85379171697379%\" y=\"40\" height=\"20\" width=\"2.55178993251333%\">  <svg x=\"0\" y=\"0\" width=\"100%\" height=\"100%\">    <text x=\"50%\" y=\"9\" font-size=\"12px\" fill=\"rgb(255,255,255)\" dominant-baseline=\"middle\" text-anchor=\"middle\">now</text>  </svg></svg><line x1=\"90.40558164948712%\" x2=\"91.66666618466279%\" y1=\"60\" y2=\"60\" id=\"_fb_sfqushepnctlrhspmunt_ind_13\" style=\"stroke:rgb(0.0, 138.56128015770727, 250.76166088685727);stroke-width:2; opacity: 0\"/><text x=\"91.03612391707495%\" y=\"71\" font-size=\"12px\" fill=\"rgb(0.0, 138.56128015770727, 250.76166088685727)\" id=\"_fs_sfqushepnctlrhspmunt_ind_13\" style=\"opacity: 0\" dominant-baseline=\"middle\" text-anchor=\"middle\">-0.024</text><svg x=\"90.40558164948712%\" y=\"40\" height=\"20\" width=\"1.2610845351756694%\">  <svg x=\"0\" y=\"0\" width=\"100%\" height=\"100%\">    <text x=\"50%\" y=\"9\" font-size=\"12px\" fill=\"rgb(255,255,255)\" dominant-baseline=\"middle\" text-anchor=\"middle\">with</text>  </svg></svg><g transform=\"translate(-8,0)\">  <svg x=\"56.46662289946162%\" y=\"40\" height=\"18\" overflow=\"visible\" width=\"30\">    <path d=\"M 8 -9 l -6 18 L 8 25\" fill=\"none\" style=\"stroke:rgb(0.0, 138.56128015770727, 250.76166088685727);stroke-width:2\" />  </svg></g><g transform=\"translate(-10,0)\">  <svg x=\"56.46662289946162%\" y=\"40\" height=\"18\" overflow=\"visible\" width=\"30\">    <path d=\"M 8 -9 l -6 18 L 8 25\" fill=\"none\" style=\"stroke:rgb(0.0, 138.56128015770727, 250.76166088685727);stroke-width:2\" />  </svg></g><g transform=\"translate(-12,0)\">  <svg x=\"56.46662289946162%\" y=\"40\" height=\"18\" overflow=\"visible\" width=\"30\">    <path d=\"M 8 -9 l -6 18 L 8 25\" fill=\"none\" style=\"stroke:rgb(0.0, 138.56128015770727, 250.76166088685727);stroke-width:2\" />  </svg></g><g transform=\"translate(-14,0)\">  <svg x=\"56.46662289946162%\" y=\"40\" height=\"18\" overflow=\"visible\" width=\"30\">    <path d=\"M 8 -9 l -6 18 L 8 25\" fill=\"none\" style=\"stroke:rgb(0.0, 138.56128015770727, 250.76166088685727);stroke-width:2\" />  </svg></g><g transform=\"translate(2,0)\">  <svg x=\"56.46662289946162%\" y=\"40\" height=\"18\" overflow=\"visible\" width=\"30\">    <path d=\"M 8 -9 l -6 18 L 8 25\" fill=\"none\" style=\"stroke:rgb(0.0, 138.56128015770727, 250.76166088685727);stroke-width:2\" />  </svg></g><g transform=\"translate(0,0)\">  <svg x=\"56.46662289946162%\" y=\"40\" height=\"18\" overflow=\"visible\" width=\"30\">    <path d=\"M 8 -9 l -6 18 L 8 25\" fill=\"none\" style=\"stroke:rgb(0.0, 138.56128015770727, 250.76166088685727);stroke-width:2\" />  </svg></g><g transform=\"translate(-2,0)\">  <svg x=\"56.46662289946162%\" y=\"40\" height=\"18\" overflow=\"visible\" width=\"30\">    <path d=\"M 8 -9 l -6 18 L 8 25\" fill=\"none\" style=\"stroke:rgb(0.0, 138.56128015770727, 250.76166088685727);stroke-width:2\" />  </svg></g><g transform=\"translate(-4,0)\">  <svg x=\"56.46662289946162%\" y=\"40\" height=\"18\" overflow=\"visible\" width=\"30\">    <path d=\"M 8 -9 l -6 18 L 8 25\" fill=\"none\" style=\"stroke:rgb(0.0, 138.56128015770727, 250.76166088685727);stroke-width:2\" />  </svg></g><g transform=\"translate(-8,0)\">  <svg x=\"66.15319447727992%\" y=\"40\" height=\"18\" overflow=\"visible\" width=\"30\">    <path d=\"M 8 -9 l -6 18 L 8 25\" fill=\"none\" style=\"stroke:rgb(0.0, 138.56128015770727, 250.76166088685727);stroke-width:2\" />  </svg></g><g transform=\"translate(-10,0)\">  <svg x=\"66.15319447727992%\" y=\"40\" height=\"18\" overflow=\"visible\" width=\"30\">    <path d=\"M 8 -9 l -6 18 L 8 25\" fill=\"none\" style=\"stroke:rgb(0.0, 138.56128015770727, 250.76166088685727);stroke-width:2\" />  </svg></g><g transform=\"translate(-12,0)\">  <svg x=\"66.15319447727992%\" y=\"40\" height=\"18\" overflow=\"visible\" width=\"30\">    <path d=\"M 8 -9 l -6 18 L 8 25\" fill=\"none\" style=\"stroke:rgb(0.0, 138.56128015770727, 250.76166088685727);stroke-width:2\" />  </svg></g><g transform=\"translate(-14,0)\">  <svg x=\"66.15319447727992%\" y=\"40\" height=\"18\" overflow=\"visible\" width=\"30\">    <path d=\"M 8 -9 l -6 18 L 8 25\" fill=\"none\" style=\"stroke:rgb(0.0, 138.56128015770727, 250.76166088685727);stroke-width:2\" />  </svg></g><g transform=\"translate(2,0)\">  <svg x=\"66.15319447727992%\" y=\"40\" height=\"18\" overflow=\"visible\" width=\"30\">    <path d=\"M 8 -9 l -6 18 L 8 25\" fill=\"none\" style=\"stroke:rgb(0.0, 138.56128015770727, 250.76166088685727);stroke-width:2\" />  </svg></g><g transform=\"translate(0,0)\">  <svg x=\"66.15319447727992%\" y=\"40\" height=\"18\" overflow=\"visible\" width=\"30\">    <path d=\"M 8 -9 l -6 18 L 8 25\" fill=\"none\" style=\"stroke:rgb(0.0, 138.56128015770727, 250.76166088685727);stroke-width:2\" />  </svg></g><g transform=\"translate(-2,0)\">  <svg x=\"66.15319447727992%\" y=\"40\" height=\"18\" overflow=\"visible\" width=\"30\">    <path d=\"M 8 -9 l -6 18 L 8 25\" fill=\"none\" style=\"stroke:rgb(0.0, 138.56128015770727, 250.76166088685727);stroke-width:2\" />  </svg></g><g transform=\"translate(-4,0)\">  <svg x=\"66.15319447727992%\" y=\"40\" height=\"18\" overflow=\"visible\" width=\"30\">    <path d=\"M 8 -9 l -6 18 L 8 25\" fill=\"none\" style=\"stroke:rgb(0.0, 138.56128015770727, 250.76166088685727);stroke-width:2\" />  </svg></g><g transform=\"translate(-8,0)\">  <svg x=\"72.5956655193426%\" y=\"40\" height=\"18\" overflow=\"visible\" width=\"30\">    <path d=\"M 8 -9 l -6 18 L 8 25\" fill=\"none\" style=\"stroke:rgb(0.0, 138.56128015770727, 250.76166088685727);stroke-width:2\" />  </svg></g><g transform=\"translate(-10,0)\">  <svg x=\"72.5956655193426%\" y=\"40\" height=\"18\" overflow=\"visible\" width=\"30\">    <path d=\"M 8 -9 l -6 18 L 8 25\" fill=\"none\" style=\"stroke:rgb(0.0, 138.56128015770727, 250.76166088685727);stroke-width:2\" />  </svg></g><g transform=\"translate(-12,0)\">  <svg x=\"72.5956655193426%\" y=\"40\" height=\"18\" overflow=\"visible\" width=\"30\">    <path d=\"M 8 -9 l -6 18 L 8 25\" fill=\"none\" style=\"stroke:rgb(0.0, 138.56128015770727, 250.76166088685727);stroke-width:2\" />  </svg></g><g transform=\"translate(-14,0)\">  <svg x=\"72.5956655193426%\" y=\"40\" height=\"18\" overflow=\"visible\" width=\"30\">    <path d=\"M 8 -9 l -6 18 L 8 25\" fill=\"none\" style=\"stroke:rgb(0.0, 138.56128015770727, 250.76166088685727);stroke-width:2\" />  </svg></g><g transform=\"translate(2,0)\">  <svg x=\"72.5956655193426%\" y=\"40\" height=\"18\" overflow=\"visible\" width=\"30\">    <path d=\"M 8 -9 l -6 18 L 8 25\" fill=\"none\" style=\"stroke:rgb(0.0, 138.56128015770727, 250.76166088685727);stroke-width:2\" />  </svg></g><g transform=\"translate(0,0)\">  <svg x=\"72.5956655193426%\" y=\"40\" height=\"18\" overflow=\"visible\" width=\"30\">    <path d=\"M 8 -9 l -6 18 L 8 25\" fill=\"none\" style=\"stroke:rgb(0.0, 138.56128015770727, 250.76166088685727);stroke-width:2\" />  </svg></g><g transform=\"translate(-2,0)\">  <svg x=\"72.5956655193426%\" y=\"40\" height=\"18\" overflow=\"visible\" width=\"30\">    <path d=\"M 8 -9 l -6 18 L 8 25\" fill=\"none\" style=\"stroke:rgb(0.0, 138.56128015770727, 250.76166088685727);stroke-width:2\" />  </svg></g><g transform=\"translate(-4,0)\">  <svg x=\"72.5956655193426%\" y=\"40\" height=\"18\" overflow=\"visible\" width=\"30\">    <path d=\"M 8 -9 l -6 18 L 8 25\" fill=\"none\" style=\"stroke:rgb(0.0, 138.56128015770727, 250.76166088685727);stroke-width:2\" />  </svg></g><g transform=\"translate(-8,0)\">  <svg x=\"78.93899177257025%\" y=\"40\" height=\"18\" overflow=\"visible\" width=\"30\">    <path d=\"M 8 -9 l -6 18 L 8 25\" fill=\"none\" style=\"stroke:rgb(0.0, 138.56128015770727, 250.76166088685727);stroke-width:2\" />  </svg></g><g transform=\"translate(-10,0)\">  <svg x=\"78.93899177257025%\" y=\"40\" height=\"18\" overflow=\"visible\" width=\"30\">    <path d=\"M 8 -9 l -6 18 L 8 25\" fill=\"none\" style=\"stroke:rgb(0.0, 138.56128015770727, 250.76166088685727);stroke-width:2\" />  </svg></g><g transform=\"translate(-12,0)\">  <svg x=\"78.93899177257025%\" y=\"40\" height=\"18\" overflow=\"visible\" width=\"30\">    <path d=\"M 8 -9 l -6 18 L 8 25\" fill=\"none\" style=\"stroke:rgb(0.0, 138.56128015770727, 250.76166088685727);stroke-width:2\" />  </svg></g><g transform=\"translate(-14,0)\">  <svg x=\"78.93899177257025%\" y=\"40\" height=\"18\" overflow=\"visible\" width=\"30\">    <path d=\"M 8 -9 l -6 18 L 8 25\" fill=\"none\" style=\"stroke:rgb(0.0, 138.56128015770727, 250.76166088685727);stroke-width:2\" />  </svg></g><g transform=\"translate(2,0)\">  <svg x=\"78.93899177257025%\" y=\"40\" height=\"18\" overflow=\"visible\" width=\"30\">    <path d=\"M 8 -9 l -6 18 L 8 25\" fill=\"none\" style=\"stroke:rgb(0.0, 138.56128015770727, 250.76166088685727);stroke-width:2\" />  </svg></g><g transform=\"translate(0,0)\">  <svg x=\"78.93899177257025%\" y=\"40\" height=\"18\" overflow=\"visible\" width=\"30\">    <path d=\"M 8 -9 l -6 18 L 8 25\" fill=\"none\" style=\"stroke:rgb(0.0, 138.56128015770727, 250.76166088685727);stroke-width:2\" />  </svg></g><g transform=\"translate(-2,0)\">  <svg x=\"78.93899177257025%\" y=\"40\" height=\"18\" overflow=\"visible\" width=\"30\">    <path d=\"M 8 -9 l -6 18 L 8 25\" fill=\"none\" style=\"stroke:rgb(0.0, 138.56128015770727, 250.76166088685727);stroke-width:2\" />  </svg></g><g transform=\"translate(-4,0)\">  <svg x=\"78.93899177257025%\" y=\"40\" height=\"18\" overflow=\"visible\" width=\"30\">    <path d=\"M 8 -9 l -6 18 L 8 25\" fill=\"none\" style=\"stroke:rgb(0.0, 138.56128015770727, 250.76166088685727);stroke-width:2\" />  </svg></g><g transform=\"translate(-8,0)\">  <svg x=\"85.14307262331612%\" y=\"40\" height=\"18\" overflow=\"visible\" width=\"30\">    <path d=\"M 8 -9 l -6 18 L 8 25\" fill=\"none\" style=\"stroke:rgb(0.0, 138.56128015770727, 250.76166088685727);stroke-width:2\" />  </svg></g><g transform=\"translate(-10,0)\">  <svg x=\"85.14307262331612%\" y=\"40\" height=\"18\" overflow=\"visible\" width=\"30\">    <path d=\"M 8 -9 l -6 18 L 8 25\" fill=\"none\" style=\"stroke:rgb(0.0, 138.56128015770727, 250.76166088685727);stroke-width:2\" />  </svg></g><g transform=\"translate(-12,0)\">  <svg x=\"85.14307262331612%\" y=\"40\" height=\"18\" overflow=\"visible\" width=\"30\">    <path d=\"M 8 -9 l -6 18 L 8 25\" fill=\"none\" style=\"stroke:rgb(0.0, 138.56128015770727, 250.76166088685727);stroke-width:2\" />  </svg></g><g transform=\"translate(-14,0)\">  <svg x=\"85.14307262331612%\" y=\"40\" height=\"18\" overflow=\"visible\" width=\"30\">    <path d=\"M 8 -9 l -6 18 L 8 25\" fill=\"none\" style=\"stroke:rgb(0.0, 138.56128015770727, 250.76166088685727);stroke-width:2\" />  </svg></g><g transform=\"translate(2,0)\">  <svg x=\"85.14307262331612%\" y=\"40\" height=\"18\" overflow=\"visible\" width=\"30\">    <path d=\"M 8 -9 l -6 18 L 8 25\" fill=\"none\" style=\"stroke:rgb(0.0, 138.56128015770727, 250.76166088685727);stroke-width:2\" />  </svg></g><g transform=\"translate(0,0)\">  <svg x=\"85.14307262331612%\" y=\"40\" height=\"18\" overflow=\"visible\" width=\"30\">    <path d=\"M 8 -9 l -6 18 L 8 25\" fill=\"none\" style=\"stroke:rgb(0.0, 138.56128015770727, 250.76166088685727);stroke-width:2\" />  </svg></g><g transform=\"translate(-2,0)\">  <svg x=\"85.14307262331612%\" y=\"40\" height=\"18\" overflow=\"visible\" width=\"30\">    <path d=\"M 8 -9 l -6 18 L 8 25\" fill=\"none\" style=\"stroke:rgb(0.0, 138.56128015770727, 250.76166088685727);stroke-width:2\" />  </svg></g><g transform=\"translate(-4,0)\">  <svg x=\"85.14307262331612%\" y=\"40\" height=\"18\" overflow=\"visible\" width=\"30\">    <path d=\"M 8 -9 l -6 18 L 8 25\" fill=\"none\" style=\"stroke:rgb(0.0, 138.56128015770727, 250.76166088685727);stroke-width:2\" />  </svg></g><g transform=\"translate(-8,0)\">  <svg x=\"87.85379171697379%\" y=\"40\" height=\"18\" overflow=\"visible\" width=\"30\">    <path d=\"M 8 -9 l -6 18 L 8 25\" fill=\"none\" style=\"stroke:rgb(0.0, 138.56128015770727, 250.76166088685727);stroke-width:2\" />  </svg></g><g transform=\"translate(-10,0)\">  <svg x=\"87.85379171697379%\" y=\"40\" height=\"18\" overflow=\"visible\" width=\"30\">    <path d=\"M 8 -9 l -6 18 L 8 25\" fill=\"none\" style=\"stroke:rgb(0.0, 138.56128015770727, 250.76166088685727);stroke-width:2\" />  </svg></g><g transform=\"translate(-12,0)\">  <svg x=\"87.85379171697379%\" y=\"40\" height=\"18\" overflow=\"visible\" width=\"30\">    <path d=\"M 8 -9 l -6 18 L 8 25\" fill=\"none\" style=\"stroke:rgb(0.0, 138.56128015770727, 250.76166088685727);stroke-width:2\" />  </svg></g><g transform=\"translate(-14,0)\">  <svg x=\"87.85379171697379%\" y=\"40\" height=\"18\" overflow=\"visible\" width=\"30\">    <path d=\"M 8 -9 l -6 18 L 8 25\" fill=\"none\" style=\"stroke:rgb(0.0, 138.56128015770727, 250.76166088685727);stroke-width:2\" />  </svg></g><g transform=\"translate(2,0)\">  <svg x=\"87.85379171697379%\" y=\"40\" height=\"18\" overflow=\"visible\" width=\"30\">    <path d=\"M 8 -9 l -6 18 L 8 25\" fill=\"none\" style=\"stroke:rgb(0.0, 138.56128015770727, 250.76166088685727);stroke-width:2\" />  </svg></g><g transform=\"translate(0,0)\">  <svg x=\"87.85379171697379%\" y=\"40\" height=\"18\" overflow=\"visible\" width=\"30\">    <path d=\"M 8 -9 l -6 18 L 8 25\" fill=\"none\" style=\"stroke:rgb(0.0, 138.56128015770727, 250.76166088685727);stroke-width:2\" />  </svg></g><g transform=\"translate(-2,0)\">  <svg x=\"87.85379171697379%\" y=\"40\" height=\"18\" overflow=\"visible\" width=\"30\">    <path d=\"M 8 -9 l -6 18 L 8 25\" fill=\"none\" style=\"stroke:rgb(0.0, 138.56128015770727, 250.76166088685727);stroke-width:2\" />  </svg></g><g transform=\"translate(-4,0)\">  <svg x=\"87.85379171697379%\" y=\"40\" height=\"18\" overflow=\"visible\" width=\"30\">    <path d=\"M 8 -9 l -6 18 L 8 25\" fill=\"none\" style=\"stroke:rgb(0.0, 138.56128015770727, 250.76166088685727);stroke-width:2\" />  </svg></g><g transform=\"translate(-8,0)\">  <svg x=\"90.40558164948712%\" y=\"40\" height=\"18\" overflow=\"visible\" width=\"30\">    <path d=\"M 8 -9 l -6 18 L 8 25\" fill=\"none\" style=\"stroke:rgb(0.0, 138.56128015770727, 250.76166088685727);stroke-width:2\" />  </svg></g><g transform=\"translate(-10,0)\">  <svg x=\"90.40558164948712%\" y=\"40\" height=\"18\" overflow=\"visible\" width=\"30\">    <path d=\"M 8 -9 l -6 18 L 8 25\" fill=\"none\" style=\"stroke:rgb(0.0, 138.56128015770727, 250.76166088685727);stroke-width:2\" />  </svg></g><g transform=\"translate(-12,0)\">  <svg x=\"90.40558164948712%\" y=\"40\" height=\"18\" overflow=\"visible\" width=\"30\">    <path d=\"M 8 -9 l -6 18 L 8 25\" fill=\"none\" style=\"stroke:rgb(0.0, 138.56128015770727, 250.76166088685727);stroke-width:2\" />  </svg></g><g transform=\"translate(-14,0)\">  <svg x=\"90.40558164948712%\" y=\"40\" height=\"18\" overflow=\"visible\" width=\"30\">    <path d=\"M 8 -9 l -6 18 L 8 25\" fill=\"none\" style=\"stroke:rgb(0.0, 138.56128015770727, 250.76166088685727);stroke-width:2\" />  </svg></g><g transform=\"translate(2,0)\">  <svg x=\"90.40558164948712%\" y=\"40\" height=\"18\" overflow=\"visible\" width=\"30\">    <path d=\"M 8 -9 l -6 18 L 8 25\" fill=\"none\" style=\"stroke:rgb(0.0, 138.56128015770727, 250.76166088685727);stroke-width:2\" />  </svg></g><g transform=\"translate(0,0)\">  <svg x=\"90.40558164948712%\" y=\"40\" height=\"18\" overflow=\"visible\" width=\"30\">    <path d=\"M 8 -9 l -6 18 L 8 25\" fill=\"none\" style=\"stroke:rgb(0.0, 138.56128015770727, 250.76166088685727);stroke-width:2\" />  </svg></g><g transform=\"translate(-2,0)\">  <svg x=\"90.40558164948712%\" y=\"40\" height=\"18\" overflow=\"visible\" width=\"30\">    <path d=\"M 8 -9 l -6 18 L 8 25\" fill=\"none\" style=\"stroke:rgb(0.0, 138.56128015770727, 250.76166088685727);stroke-width:2\" />  </svg></g><g transform=\"translate(-4,0)\">  <svg x=\"90.40558164948712%\" y=\"40\" height=\"18\" overflow=\"visible\" width=\"30\">    <path d=\"M 8 -9 l -6 18 L 8 25\" fill=\"none\" style=\"stroke:rgb(0.0, 138.56128015770727, 250.76166088685727);stroke-width:2\" />  </svg></g><rect transform=\"translate(0,0)\" x=\"35.84592247631242%\" y=\"40\" width=\"8\" height=\"18\" style=\"fill:rgb(0.0, 138.56128015770727, 250.76166088685727)\"/><g transform=\"translate(-6.0,0)\">  <svg x=\"91.66666618466279%\" y=\"40\" height=\"18\" overflow=\"visible\" width=\"30\">    <path d=\"M 8 -9 l -6 18 L 8 25 L 20 25 L 20 -9\" fill=\"#ffffff\" style=\"stroke:rgb(255,255,255);stroke-width:2\" />  </svg></g><g transform=\"translate(-6.0,0)\">  <svg x=\"56.46662289946162%\" y=\"40\" height=\"18\" overflow=\"visible\" width=\"30\">    <path d=\"M 8 -9 l -6 18 L 8 25\" fill=\"none\" style=\"stroke:rgb(208, 230, 250);stroke-width:2\" />  </svg></g><rect x=\"35.84592247631242%\" y=\"40\" height=\"20\" width=\"20.620700423149202%\"      onmouseover=\"document.getElementById('_tp_sfqushepnctlrhspmunt_ind_3').style.textDecoration = 'underline';document.getElementById('_fs_sfqushepnctlrhspmunt_ind_3').style.opacity = 1;document.getElementById('_fb_sfqushepnctlrhspmunt_ind_3').style.opacity = 1;\"      onmouseout=\"document.getElementById('_tp_sfqushepnctlrhspmunt_ind_3').style.textDecoration = 'none';document.getElementById('_fs_sfqushepnctlrhspmunt_ind_3').style.opacity = 0;document.getElementById('_fb_sfqushepnctlrhspmunt_ind_3').style.opacity = 0;\" style=\"fill:rgb(0,0,0,0)\" /><g transform=\"translate(-6.0,0)\">  <svg x=\"66.15319447727992%\" y=\"40\" height=\"18\" overflow=\"visible\" width=\"30\">    <path d=\"M 8 -9 l -6 18 L 8 25\" fill=\"none\" style=\"stroke:rgb(208, 230, 250);stroke-width:2\" />  </svg></g><rect x=\"56.46662289946162%\" y=\"40\" height=\"20\" width=\"9.686571577818306%\"      onmouseover=\"document.getElementById('_tp_sfqushepnctlrhspmunt_ind_10').style.textDecoration = 'underline';document.getElementById('_fs_sfqushepnctlrhspmunt_ind_10').style.opacity = 1;document.getElementById('_fb_sfqushepnctlrhspmunt_ind_10').style.opacity = 1;\"      onmouseout=\"document.getElementById('_tp_sfqushepnctlrhspmunt_ind_10').style.textDecoration = 'none';document.getElementById('_fs_sfqushepnctlrhspmunt_ind_10').style.opacity = 0;document.getElementById('_fb_sfqushepnctlrhspmunt_ind_10').style.opacity = 0;\" style=\"fill:rgb(0,0,0,0)\" /><g transform=\"translate(-6.0,0)\">  <svg x=\"72.5956655193426%\" y=\"40\" height=\"18\" overflow=\"visible\" width=\"30\">    <path d=\"M 8 -9 l -6 18 L 8 25\" fill=\"none\" style=\"stroke:rgb(208, 230, 250);stroke-width:2\" />  </svg></g><rect x=\"66.15319447727992%\" y=\"40\" height=\"20\" width=\"6.442471042062678%\"      onmouseover=\"document.getElementById('_tp_sfqushepnctlrhspmunt_ind_17').style.textDecoration = 'underline';document.getElementById('_fs_sfqushepnctlrhspmunt_ind_17').style.opacity = 1;document.getElementById('_fb_sfqushepnctlrhspmunt_ind_17').style.opacity = 1;\"      onmouseout=\"document.getElementById('_tp_sfqushepnctlrhspmunt_ind_17').style.textDecoration = 'none';document.getElementById('_fs_sfqushepnctlrhspmunt_ind_17').style.opacity = 0;document.getElementById('_fb_sfqushepnctlrhspmunt_ind_17').style.opacity = 0;\" style=\"fill:rgb(0,0,0,0)\" /><g transform=\"translate(-6.0,0)\">  <svg x=\"78.93899177257025%\" y=\"40\" height=\"18\" overflow=\"visible\" width=\"30\">    <path d=\"M 8 -9 l -6 18 L 8 25\" fill=\"none\" style=\"stroke:rgb(208, 230, 250);stroke-width:2\" />  </svg></g><rect x=\"72.5956655193426%\" y=\"40\" height=\"20\" width=\"6.343326253227644%\"      onmouseover=\"document.getElementById('_tp_sfqushepnctlrhspmunt_ind_2').style.textDecoration = 'underline';document.getElementById('_fs_sfqushepnctlrhspmunt_ind_2').style.opacity = 1;document.getElementById('_fb_sfqushepnctlrhspmunt_ind_2').style.opacity = 1;\"      onmouseout=\"document.getElementById('_tp_sfqushepnctlrhspmunt_ind_2').style.textDecoration = 'none';document.getElementById('_fs_sfqushepnctlrhspmunt_ind_2').style.opacity = 0;document.getElementById('_fb_sfqushepnctlrhspmunt_ind_2').style.opacity = 0;\" style=\"fill:rgb(0,0,0,0)\" /><g transform=\"translate(-6.0,0)\">  <svg x=\"85.14307262331612%\" y=\"40\" height=\"18\" overflow=\"visible\" width=\"30\">    <path d=\"M 8 -9 l -6 18 L 8 25\" fill=\"none\" style=\"stroke:rgb(208, 230, 250);stroke-width:2\" />  </svg></g><rect x=\"78.93899177257025%\" y=\"40\" height=\"20\" width=\"6.204080850745868%\"      onmouseover=\"document.getElementById('_tp_sfqushepnctlrhspmunt_ind_7').style.textDecoration = 'underline';document.getElementById('_fs_sfqushepnctlrhspmunt_ind_7').style.opacity = 1;document.getElementById('_fb_sfqushepnctlrhspmunt_ind_7').style.opacity = 1;\"      onmouseout=\"document.getElementById('_tp_sfqushepnctlrhspmunt_ind_7').style.textDecoration = 'none';document.getElementById('_fs_sfqushepnctlrhspmunt_ind_7').style.opacity = 0;document.getElementById('_fb_sfqushepnctlrhspmunt_ind_7').style.opacity = 0;\" style=\"fill:rgb(0,0,0,0)\" /><g transform=\"translate(-6.0,0)\">  <svg x=\"87.85379171697379%\" y=\"40\" height=\"18\" overflow=\"visible\" width=\"30\">    <path d=\"M 8 -9 l -6 18 L 8 25\" fill=\"none\" style=\"stroke:rgb(208, 230, 250);stroke-width:2\" />  </svg></g><rect x=\"85.14307262331612%\" y=\"40\" height=\"20\" width=\"2.710719093657673%\"      onmouseover=\"document.getElementById('_tp_sfqushepnctlrhspmunt_ind_8').style.textDecoration = 'underline';document.getElementById('_fs_sfqushepnctlrhspmunt_ind_8').style.opacity = 1;document.getElementById('_fb_sfqushepnctlrhspmunt_ind_8').style.opacity = 1;\"      onmouseout=\"document.getElementById('_tp_sfqushepnctlrhspmunt_ind_8').style.textDecoration = 'none';document.getElementById('_fs_sfqushepnctlrhspmunt_ind_8').style.opacity = 0;document.getElementById('_fb_sfqushepnctlrhspmunt_ind_8').style.opacity = 0;\" style=\"fill:rgb(0,0,0,0)\" /><g transform=\"translate(-6.0,0)\">  <svg x=\"90.40558164948712%\" y=\"40\" height=\"18\" overflow=\"visible\" width=\"30\">    <path d=\"M 8 -9 l -6 18 L 8 25\" fill=\"none\" style=\"stroke:rgb(208, 230, 250);stroke-width:2\" />  </svg></g><rect x=\"87.85379171697379%\" y=\"40\" height=\"20\" width=\"2.55178993251333%\"      onmouseover=\"document.getElementById('_tp_sfqushepnctlrhspmunt_ind_9').style.textDecoration = 'underline';document.getElementById('_fs_sfqushepnctlrhspmunt_ind_9').style.opacity = 1;document.getElementById('_fb_sfqushepnctlrhspmunt_ind_9').style.opacity = 1;\"      onmouseout=\"document.getElementById('_tp_sfqushepnctlrhspmunt_ind_9').style.textDecoration = 'none';document.getElementById('_fs_sfqushepnctlrhspmunt_ind_9').style.opacity = 0;document.getElementById('_fb_sfqushepnctlrhspmunt_ind_9').style.opacity = 0;\" style=\"fill:rgb(0,0,0,0)\" /><rect x=\"90.40558164948712%\" y=\"40\" height=\"20\" width=\"1.2610845351756694%\"      onmouseover=\"document.getElementById('_tp_sfqushepnctlrhspmunt_ind_13').style.textDecoration = 'underline';document.getElementById('_fs_sfqushepnctlrhspmunt_ind_13').style.opacity = 1;document.getElementById('_fb_sfqushepnctlrhspmunt_ind_13').style.opacity = 1;\"      onmouseout=\"document.getElementById('_tp_sfqushepnctlrhspmunt_ind_13').style.textDecoration = 'none';document.getElementById('_fs_sfqushepnctlrhspmunt_ind_13').style.opacity = 0;document.getElementById('_fb_sfqushepnctlrhspmunt_ind_13').style.opacity = 0;\" style=\"fill:rgb(0,0,0,0)\" /></svg><div align='center'><div style=\"color: rgb(120,120,120); font-size: 12px; margin-top: -15px;\">inputs</div><div style='display: inline; text-align: center;'\n",
              "    ><div style='display: none; color: #999; padding-top: 0px; font-size: 12px;'>0.0</div\n",
              "        ><div id='_tp_sfqushepnctlrhspmunt_ind_0'\n",
              "            style='display: inline; background: rgba(230.2941176470614, 26.505882352939775, 102.59215686274348, 0.0); border-radius: 3px; padding: 0px'\n",
              "            onclick=\"\n",
              "            if (this.previousSibling.style.display == 'none') {\n",
              "                this.previousSibling.style.display = 'block';\n",
              "                this.parentNode.style.display = 'inline-block';\n",
              "            } else {\n",
              "                this.previousSibling.style.display = 'none';\n",
              "                this.parentNode.style.display = 'inline';\n",
              "            }\"\n",
              "            onmouseover=\"document.getElementById('_fb_sfqushepnctlrhspmunt_ind_0').style.opacity = 1; document.getElementById('_fs_sfqushepnctlrhspmunt_ind_0').style.opacity = 1;\"\n",
              "            onmouseout=\"document.getElementById('_fb_sfqushepnctlrhspmunt_ind_0').style.opacity = 0; document.getElementById('_fs_sfqushepnctlrhspmunt_ind_0').style.opacity = 0;\"\n",
              "        ></div></div><div style='display: inline; text-align: center;'\n",
              "    ><div style='display: none; color: #999; padding-top: 0px; font-size: 12px;'>0.199</div\n",
              "        ><div id='_tp_sfqushepnctlrhspmunt_ind_1'\n",
              "            style='display: inline; background: rgba(255.0, 13.0, 87.0, 0.5033868092691621); border-radius: 3px; padding: 0px'\n",
              "            onclick=\"\n",
              "            if (this.previousSibling.style.display == 'none') {\n",
              "                this.previousSibling.style.display = 'block';\n",
              "                this.parentNode.style.display = 'inline-block';\n",
              "            } else {\n",
              "                this.previousSibling.style.display = 'none';\n",
              "                this.parentNode.style.display = 'inline';\n",
              "            }\"\n",
              "            onmouseover=\"document.getElementById('_fb_sfqushepnctlrhspmunt_ind_1').style.opacity = 1; document.getElementById('_fs_sfqushepnctlrhspmunt_ind_1').style.opacity = 1;\"\n",
              "            onmouseout=\"document.getElementById('_fb_sfqushepnctlrhspmunt_ind_1').style.opacity = 0; document.getElementById('_fs_sfqushepnctlrhspmunt_ind_1').style.opacity = 0;\"\n",
              "        >Massive </div></div><div style='display: inline; text-align: center;'\n",
              "    ><div style='display: none; color: #999; padding-top: 0px; font-size: 12px;'>-0.121</div\n",
              "        ><div id='_tp_sfqushepnctlrhspmunt_ind_2'\n",
              "            style='display: inline; background: rgba(30.0, 136.0, 229.0, 0.30631808278867095); border-radius: 3px; padding: 0px'\n",
              "            onclick=\"\n",
              "            if (this.previousSibling.style.display == 'none') {\n",
              "                this.previousSibling.style.display = 'block';\n",
              "                this.parentNode.style.display = 'inline-block';\n",
              "            } else {\n",
              "                this.previousSibling.style.display = 'none';\n",
              "                this.parentNode.style.display = 'inline';\n",
              "            }\"\n",
              "            onmouseover=\"document.getElementById('_fb_sfqushepnctlrhspmunt_ind_2').style.opacity = 1; document.getElementById('_fs_sfqushepnctlrhspmunt_ind_2').style.opacity = 1;\"\n",
              "            onmouseout=\"document.getElementById('_fb_sfqushepnctlrhspmunt_ind_2').style.opacity = 0; document.getElementById('_fs_sfqushepnctlrhspmunt_ind_2').style.opacity = 0;\"\n",
              "        >dun</div></div><div style='display: inline; text-align: center;'\n",
              "    ><div style='display: none; color: #999; padding-top: 0px; font-size: 12px;'>-0.392</div\n",
              "        ><div id='_tp_sfqushepnctlrhspmunt_ind_3'\n",
              "            style='display: inline; background: rgba(30.0, 136.0, 229.0, 1.0); border-radius: 3px; padding: 0px'\n",
              "            onclick=\"\n",
              "            if (this.previousSibling.style.display == 'none') {\n",
              "                this.previousSibling.style.display = 'block';\n",
              "                this.parentNode.style.display = 'inline-block';\n",
              "            } else {\n",
              "                this.previousSibling.style.display = 'none';\n",
              "                this.parentNode.style.display = 'inline';\n",
              "            }\"\n",
              "            onmouseover=\"document.getElementById('_fb_sfqushepnctlrhspmunt_ind_3').style.opacity = 1; document.getElementById('_fs_sfqushepnctlrhspmunt_ind_3').style.opacity = 1;\"\n",
              "            onmouseout=\"document.getElementById('_fb_sfqushepnctlrhspmunt_ind_3').style.opacity = 0; document.getElementById('_fs_sfqushepnctlrhspmunt_ind_3').style.opacity = 0;\"\n",
              "        >k</div></div><div style='display: inline; text-align: center;'\n",
              "    ><div style='display: none; color: #999; padding-top: 0px; font-size: 12px;'>0.045</div\n",
              "        ><div id='_tp_sfqushepnctlrhspmunt_ind_4'\n",
              "            style='display: inline; background: rgba(255.0, 13.0, 87.0, 0.10924935630817992); border-radius: 3px; padding: 0px'\n",
              "            onclick=\"\n",
              "            if (this.previousSibling.style.display == 'none') {\n",
              "                this.previousSibling.style.display = 'block';\n",
              "                this.parentNode.style.display = 'inline-block';\n",
              "            } else {\n",
              "                this.previousSibling.style.display = 'none';\n",
              "                this.parentNode.style.display = 'inline';\n",
              "            }\"\n",
              "            onmouseover=\"document.getElementById('_fb_sfqushepnctlrhspmunt_ind_4').style.opacity = 1; document.getElementById('_fs_sfqushepnctlrhspmunt_ind_4').style.opacity = 1;\"\n",
              "            onmouseout=\"document.getElementById('_fb_sfqushepnctlrhspmunt_ind_4').style.opacity = 0; document.getElementById('_fs_sfqushepnctlrhspmunt_ind_4').style.opacity = 0;\"\n",
              "        >!</div></div><div style='display: inline; text-align: center;'\n",
              "    ><div style='display: none; color: #999; padding-top: 0px; font-size: 12px;'>0.024</div\n",
              "        ><div id='_tp_sfqushepnctlrhspmunt_ind_5'\n",
              "            style='display: inline; background: rgba(255.0, 13.0, 87.0, 0.05407011289364243); border-radius: 3px; padding: 0px'\n",
              "            onclick=\"\n",
              "            if (this.previousSibling.style.display == 'none') {\n",
              "                this.previousSibling.style.display = 'block';\n",
              "                this.parentNode.style.display = 'inline-block';\n",
              "            } else {\n",
              "                this.previousSibling.style.display = 'none';\n",
              "                this.parentNode.style.display = 'inline';\n",
              "            }\"\n",
              "            onmouseover=\"document.getElementById('_fb_sfqushepnctlrhspmunt_ind_5').style.opacity = 1; document.getElementById('_fs_sfqushepnctlrhspmunt_ind_5').style.opacity = 1;\"\n",
              "            onmouseout=\"document.getElementById('_fb_sfqushepnctlrhspmunt_ind_5').style.opacity = 0; document.getElementById('_fs_sfqushepnctlrhspmunt_ind_5').style.opacity = 0;\"\n",
              "        >!</div></div><div style='display: inline; text-align: center;'\n",
              "    ><div style='display: none; color: #999; padding-top: 0px; font-size: 12px;'>0.029</div\n",
              "        ><div id='_tp_sfqushepnctlrhspmunt_ind_6'\n",
              "            style='display: inline; background: rgba(255.0, 13.0, 87.0, 0.06983561101208159); border-radius: 3px; padding: 0px'\n",
              "            onclick=\"\n",
              "            if (this.previousSibling.style.display == 'none') {\n",
              "                this.previousSibling.style.display = 'block';\n",
              "                this.parentNode.style.display = 'inline-block';\n",
              "            } else {\n",
              "                this.previousSibling.style.display = 'none';\n",
              "                this.parentNode.style.display = 'inline';\n",
              "            }\"\n",
              "            onmouseover=\"document.getElementById('_fb_sfqushepnctlrhspmunt_ind_6').style.opacity = 1; document.getElementById('_fs_sfqushepnctlrhspmunt_ind_6').style.opacity = 1;\"\n",
              "            onmouseout=\"document.getElementById('_fb_sfqushepnctlrhspmunt_ind_6').style.opacity = 0; document.getElementById('_fs_sfqushepnctlrhspmunt_ind_6').style.opacity = 0;\"\n",
              "        >! </div></div><div style='display: inline; text-align: center;'\n",
              "    ><div style='display: none; color: #999; padding-top: 0px; font-size: 12px;'>-0.118</div\n",
              "        ><div id='_tp_sfqushepnctlrhspmunt_ind_7'\n",
              "            style='display: inline; background: rgba(30.0, 136.0, 229.0, 0.2984353337294513); border-radius: 3px; padding: 0px'\n",
              "            onclick=\"\n",
              "            if (this.previousSibling.style.display == 'none') {\n",
              "                this.previousSibling.style.display = 'block';\n",
              "                this.parentNode.style.display = 'inline-block';\n",
              "            } else {\n",
              "                this.previousSibling.style.display = 'none';\n",
              "                this.parentNode.style.display = 'inline';\n",
              "            }\"\n",
              "            onmouseover=\"document.getElementById('_fb_sfqushepnctlrhspmunt_ind_7').style.opacity = 1; document.getElementById('_fs_sfqushepnctlrhspmunt_ind_7').style.opacity = 1;\"\n",
              "            onmouseout=\"document.getElementById('_fb_sfqushepnctlrhspmunt_ind_7').style.opacity = 0; document.getElementById('_fs_sfqushepnctlrhspmunt_ind_7').style.opacity = 0;\"\n",
              "        >they </div></div><div style='display: inline; text-align: center;'\n",
              "    ><div style='display: none; color: #999; padding-top: 0px; font-size: 12px;'>-0.052</div\n",
              "        ><div id='_tp_sfqushepnctlrhspmunt_ind_8'\n",
              "            style='display: inline; background: rgba(30.0, 136.0, 229.0, 0.12501485442661905); border-radius: 3px; padding: 0px'\n",
              "            onclick=\"\n",
              "            if (this.previousSibling.style.display == 'none') {\n",
              "                this.previousSibling.style.display = 'block';\n",
              "                this.parentNode.style.display = 'inline-block';\n",
              "            } else {\n",
              "                this.previousSibling.style.display = 'none';\n",
              "                this.parentNode.style.display = 'inline';\n",
              "            }\"\n",
              "            onmouseover=\"document.getElementById('_fb_sfqushepnctlrhspmunt_ind_8').style.opacity = 1; document.getElementById('_fs_sfqushepnctlrhspmunt_ind_8').style.opacity = 1;\"\n",
              "            onmouseout=\"document.getElementById('_fb_sfqushepnctlrhspmunt_ind_8').style.opacity = 0; document.getElementById('_fs_sfqushepnctlrhspmunt_ind_8').style.opacity = 0;\"\n",
              "        >are </div></div><div style='display: inline; text-align: center;'\n",
              "    ><div style='display: none; color: #999; padding-top: 0px; font-size: 12px;'>-0.049</div\n",
              "        ><div id='_tp_sfqushepnctlrhspmunt_ind_9'\n",
              "            style='display: inline; background: rgba(30.0, 136.0, 229.0, 0.11713210536739943); border-radius: 3px; padding: 0px'\n",
              "            onclick=\"\n",
              "            if (this.previousSibling.style.display == 'none') {\n",
              "                this.previousSibling.style.display = 'block';\n",
              "                this.parentNode.style.display = 'inline-block';\n",
              "            } else {\n",
              "                this.previousSibling.style.display = 'none';\n",
              "                this.parentNode.style.display = 'inline';\n",
              "            }\"\n",
              "            onmouseover=\"document.getElementById('_fb_sfqushepnctlrhspmunt_ind_9').style.opacity = 1; document.getElementById('_fs_sfqushepnctlrhspmunt_ind_9').style.opacity = 1;\"\n",
              "            onmouseout=\"document.getElementById('_fb_sfqushepnctlrhspmunt_ind_9').style.opacity = 0; document.getElementById('_fs_sfqushepnctlrhspmunt_ind_9').style.opacity = 0;\"\n",
              "        >now </div></div><div style='display: inline; text-align: center;'\n",
              "    ><div style='display: none; color: #999; padding-top: 0px; font-size: 12px;'>-0.184</div\n",
              "        ><div id='_tp_sfqushepnctlrhspmunt_ind_10'\n",
              "            style='display: inline; background: rgba(30.0, 136.0, 229.0, 0.47185581303228363); border-radius: 3px; padding: 0px'\n",
              "            onclick=\"\n",
              "            if (this.previousSibling.style.display == 'none') {\n",
              "                this.previousSibling.style.display = 'block';\n",
              "                this.parentNode.style.display = 'inline-block';\n",
              "            } else {\n",
              "                this.previousSibling.style.display = 'none';\n",
              "                this.parentNode.style.display = 'inline';\n",
              "            }\"\n",
              "            onmouseover=\"document.getElementById('_fb_sfqushepnctlrhspmunt_ind_10').style.opacity = 1; document.getElementById('_fs_sfqushepnctlrhspmunt_ind_10').style.opacity = 1;\"\n",
              "            onmouseout=\"document.getElementById('_fb_sfqushepnctlrhspmunt_ind_10').style.opacity = 0; document.getElementById('_fs_sfqushepnctlrhspmunt_ind_10').style.opacity = 0;\"\n",
              "        >up </div></div><div style='display: inline; text-align: center;'\n",
              "    ><div style='display: none; color: #999; padding-top: 0px; font-size: 12px;'>0.025</div\n",
              "        ><div id='_tp_sfqushepnctlrhspmunt_ind_11'\n",
              "            style='display: inline; background: rgba(255.0, 13.0, 87.0, 0.06195286195286207); border-radius: 3px; padding: 0px'\n",
              "            onclick=\"\n",
              "            if (this.previousSibling.style.display == 'none') {\n",
              "                this.previousSibling.style.display = 'block';\n",
              "                this.parentNode.style.display = 'inline-block';\n",
              "            } else {\n",
              "                this.previousSibling.style.display = 'none';\n",
              "                this.parentNode.style.display = 'inline';\n",
              "            }\"\n",
              "            onmouseover=\"document.getElementById('_fb_sfqushepnctlrhspmunt_ind_11').style.opacity = 1; document.getElementById('_fs_sfqushepnctlrhspmunt_ind_11').style.opacity = 1;\"\n",
              "            onmouseout=\"document.getElementById('_fb_sfqushepnctlrhspmunt_ind_11').style.opacity = 0; document.getElementById('_fs_sfqushepnctlrhspmunt_ind_11').style.opacity = 0;\"\n",
              "        >by </div></div><div style='display: inline; text-align: center;'\n",
              "    ><div style='display: none; color: #999; padding-top: 0px; font-size: 12px;'>0.016</div\n",
              "        ><div id='_tp_sfqushepnctlrhspmunt_ind_12'\n",
              "            style='display: inline; background: rgba(255.0, 13.0, 87.0, 0.03830461477520289); border-radius: 3px; padding: 0px'\n",
              "            onclick=\"\n",
              "            if (this.previousSibling.style.display == 'none') {\n",
              "                this.previousSibling.style.display = 'block';\n",
              "                this.parentNode.style.display = 'inline-block';\n",
              "            } else {\n",
              "                this.previousSibling.style.display = 'none';\n",
              "                this.parentNode.style.display = 'inline';\n",
              "            }\"\n",
              "            onmouseover=\"document.getElementById('_fb_sfqushepnctlrhspmunt_ind_12').style.opacity = 1; document.getElementById('_fs_sfqushepnctlrhspmunt_ind_12').style.opacity = 1;\"\n",
              "            onmouseout=\"document.getElementById('_fb_sfqushepnctlrhspmunt_ind_12').style.opacity = 0; document.getElementById('_fs_sfqushepnctlrhspmunt_ind_12').style.opacity = 0;\"\n",
              "        >15 </div></div><div style='display: inline; text-align: center;'\n",
              "    ><div style='display: none; color: #999; padding-top: 0px; font-size: 12px;'>-0.024</div\n",
              "        ><div id='_tp_sfqushepnctlrhspmunt_ind_13'\n",
              "            style='display: inline; background: rgba(30.0, 136.0, 229.0, 0.05407011289364222); border-radius: 3px; padding: 0px'\n",
              "            onclick=\"\n",
              "            if (this.previousSibling.style.display == 'none') {\n",
              "                this.previousSibling.style.display = 'block';\n",
              "                this.parentNode.style.display = 'inline-block';\n",
              "            } else {\n",
              "                this.previousSibling.style.display = 'none';\n",
              "                this.parentNode.style.display = 'inline';\n",
              "            }\"\n",
              "            onmouseover=\"document.getElementById('_fb_sfqushepnctlrhspmunt_ind_13').style.opacity = 1; document.getElementById('_fs_sfqushepnctlrhspmunt_ind_13').style.opacity = 1;\"\n",
              "            onmouseout=\"document.getElementById('_fb_sfqushepnctlrhspmunt_ind_13').style.opacity = 0; document.getElementById('_fs_sfqushepnctlrhspmunt_ind_13').style.opacity = 0;\"\n",
              "        >with </div></div><div style='display: inline; text-align: center;'\n",
              "    ><div style='display: none; color: #999; padding-top: 0px; font-size: 12px;'>0.007</div\n",
              "        ><div id='_tp_sfqushepnctlrhspmunt_ind_14'\n",
              "            style='display: inline; background: rgba(255.0, 13.0, 87.0, 0.014656367597544035); border-radius: 3px; padding: 0px'\n",
              "            onclick=\"\n",
              "            if (this.previousSibling.style.display == 'none') {\n",
              "                this.previousSibling.style.display = 'block';\n",
              "                this.parentNode.style.display = 'inline-block';\n",
              "            } else {\n",
              "                this.previousSibling.style.display = 'none';\n",
              "                this.parentNode.style.display = 'inline';\n",
              "            }\"\n",
              "            onmouseover=\"document.getElementById('_fb_sfqushepnctlrhspmunt_ind_14').style.opacity = 1; document.getElementById('_fs_sfqushepnctlrhspmunt_ind_14').style.opacity = 1;\"\n",
              "            onmouseout=\"document.getElementById('_fb_sfqushepnctlrhspmunt_ind_14').style.opacity = 0; document.getElementById('_fs_sfqushepnctlrhspmunt_ind_14').style.opacity = 0;\"\n",
              "        >2 </div></div><div style='display: inline; text-align: center;'\n",
              "    ><div style='display: none; color: #999; padding-top: 0px; font-size: 12px;'>0.171</div\n",
              "        ><div id='_tp_sfqushepnctlrhspmunt_ind_15'\n",
              "            style='display: inline; background: rgba(255.0, 13.0, 87.0, 0.43244206773618543); border-radius: 3px; padding: 0px'\n",
              "            onclick=\"\n",
              "            if (this.previousSibling.style.display == 'none') {\n",
              "                this.previousSibling.style.display = 'block';\n",
              "                this.parentNode.style.display = 'inline-block';\n",
              "            } else {\n",
              "                this.previousSibling.style.display = 'none';\n",
              "                this.parentNode.style.display = 'inline';\n",
              "            }\"\n",
              "            onmouseover=\"document.getElementById('_fb_sfqushepnctlrhspmunt_ind_15').style.opacity = 1; document.getElementById('_fs_sfqushepnctlrhspmunt_ind_15').style.opacity = 1;\"\n",
              "            onmouseout=\"document.getElementById('_fb_sfqushepnctlrhspmunt_ind_15').style.opacity = 0; document.getElementById('_fs_sfqushepnctlrhspmunt_ind_15').style.opacity = 0;\"\n",
              "        >minutes </div></div><div style='display: inline; text-align: center;'\n",
              "    ><div style='display: none; color: #999; padding-top: 0px; font-size: 12px;'>0.008</div\n",
              "        ><div id='_tp_sfqushepnctlrhspmunt_ind_16'\n",
              "            style='display: inline; background: rgba(255.0, 13.0, 87.0, 0.014656367597544035); border-radius: 3px; padding: 0px'\n",
              "            onclick=\"\n",
              "            if (this.previousSibling.style.display == 'none') {\n",
              "                this.previousSibling.style.display = 'block';\n",
              "                this.parentNode.style.display = 'inline-block';\n",
              "            } else {\n",
              "                this.previousSibling.style.display = 'none';\n",
              "                this.parentNode.style.display = 'inline';\n",
              "            }\"\n",
              "            onmouseover=\"document.getElementById('_fb_sfqushepnctlrhspmunt_ind_16').style.opacity = 1; document.getElementById('_fs_sfqushepnctlrhspmunt_ind_16').style.opacity = 1;\"\n",
              "            onmouseout=\"document.getElementById('_fb_sfqushepnctlrhspmunt_ind_16').style.opacity = 0; document.getElementById('_fs_sfqushepnctlrhspmunt_ind_16').style.opacity = 0;\"\n",
              "        >to </div></div><div style='display: inline; text-align: center;'\n",
              "    ><div style='display: none; color: #999; padding-top: 0px; font-size: 12px;'>-0.123</div\n",
              "        ><div id='_tp_sfqushepnctlrhspmunt_ind_17'\n",
              "            style='display: inline; background: rgba(30.0, 136.0, 229.0, 0.30631808278867095); border-radius: 3px; padding: 0px'\n",
              "            onclick=\"\n",
              "            if (this.previousSibling.style.display == 'none') {\n",
              "                this.previousSibling.style.display = 'block';\n",
              "                this.parentNode.style.display = 'inline-block';\n",
              "            } else {\n",
              "                this.previousSibling.style.display = 'none';\n",
              "                this.parentNode.style.display = 'inline';\n",
              "            }\"\n",
              "            onmouseover=\"document.getElementById('_fb_sfqushepnctlrhspmunt_ind_17').style.opacity = 1; document.getElementById('_fs_sfqushepnctlrhspmunt_ind_17').style.opacity = 1;\"\n",
              "            onmouseout=\"document.getElementById('_fb_sfqushepnctlrhspmunt_ind_17').style.opacity = 0; document.getElementById('_fs_sfqushepnctlrhspmunt_ind_17').style.opacity = 0;\"\n",
              "        >go</div></div><div style='display: inline; text-align: center;'\n",
              "    ><div style='display: none; color: #999; padding-top: 0px; font-size: 12px;'>0.0</div\n",
              "        ><div id='_tp_sfqushepnctlrhspmunt_ind_18'\n",
              "            style='display: inline; background: rgba(230.2941176470614, 26.505882352939775, 102.59215686274348, 0.0); border-radius: 3px; padding: 0px'\n",
              "            onclick=\"\n",
              "            if (this.previousSibling.style.display == 'none') {\n",
              "                this.previousSibling.style.display = 'block';\n",
              "                this.parentNode.style.display = 'inline-block';\n",
              "            } else {\n",
              "                this.previousSibling.style.display = 'none';\n",
              "                this.parentNode.style.display = 'inline';\n",
              "            }\"\n",
              "            onmouseover=\"document.getElementById('_fb_sfqushepnctlrhspmunt_ind_18').style.opacity = 1; document.getElementById('_fs_sfqushepnctlrhspmunt_ind_18').style.opacity = 1;\"\n",
              "            onmouseout=\"document.getElementById('_fb_sfqushepnctlrhspmunt_ind_18').style.opacity = 0; document.getElementById('_fs_sfqushepnctlrhspmunt_ind_18').style.opacity = 0;\"\n",
              "        ></div></div></div>"
            ]
          },
          "metadata": {}
        }
      ]
    },
    {
      "cell_type": "markdown",
      "source": [
        "The [SHAP documentation](https://shap.readthedocs.io/en/latest/text_examples.html) provides a great list of additional examples for translation, text generation, summarization, translation and question-answering.\n",
        "\n",
        "The SHAP library is pretty 🔥🔥🔥 Check it out for more!"
      ],
      "metadata": {
        "id": "8atTIz37iP9Q"
      }
    },
    {
      "cell_type": "markdown",
      "source": [
        "# Wrapping up\n",
        "\n",
        "This notebook briefly introduced model explainability. There is a lot of work in this area, expect a number of different methods to become available. Model explainability helps users gain a level of trust in model predictions. It also helps debug why a model is making a decision, which can potentially drive how to fine-tune a model to make better predictions. \n",
        "\n",
        "Keep an eye on this important area over the coming months!\n"
      ],
      "metadata": {
        "id": "YujdAMlGh0qT"
      }
    }
  ]
}