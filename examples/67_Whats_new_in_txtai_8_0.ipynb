{
 "cells": [
  {
   "cell_type": "markdown",
   "metadata": {
    "id": "e3wdiK5fGUoZ"
   },
   "source": [
    "# 💡 What's new in txtai 8.0\n",
    "\n",
    "[txtai](https://github.com/neuml/txtai) is an all-in-one embeddings database for semantic search, LLM orchestration and language model workflows.\n",
    "\n",
    "The 8.0 release brings a major new feature: Agents 🚀\n",
    "\n",
    "Agents automatically create workflows to answer multi-faceted user requests. Agents iteratively prompt and/or interface with tools to\n",
    "step through a process and ultimately come to an answer for a request.\n",
    "\n",
    "This release also adds support for Model2Vec vectorization.\n",
    "\n",
    "**Standard upgrade disclaimer below**\n",
    "\n",
    "While everything is backwards compatible, it's prudent to backup production indexes before upgrading and test before deploying."
   ]
  },
  {
   "cell_type": "markdown",
   "metadata": {
    "id": "p8BbfjrhH-V2"
   },
   "source": [
    "# Install dependencies\n",
    "\n",
    "Install `txtai` and all dependencies."
   ]
  },
  {
   "cell_type": "code",
   "execution_count": null,
   "metadata": {
    "id": "-OXsTQgaGQPM"
   },
   "outputs": [],
   "source": [
    "%%capture\n",
    "!pip install git+https://github.com/neuml/txtai autoawq model2vec"
   ]
  },
  {
   "cell_type": "markdown",
   "metadata": {
    "id": "n4EXrtcYIIYE"
   },
   "source": [
    "# Agents with txtai\n",
    "\n",
    "The biggest change and reason this is a major release is the addition of agents. The following defines a basic agent. This agent has access to two embeddings databases (Wikipedia and ArXiv) and the web. Given the user's input request, the agent decides the best tool to solve the task."
   ]
  },
  {
   "cell_type": "code",
   "execution_count": null,
   "metadata": {
    "id": "hzPD8_cQJNtN"
   },
   "outputs": [],
   "source": [
    "from datetime import datetime\n",
    "\n",
    "from txtai import Agent\n",
    "\n",
    "wikipedia = {\n",
    "    \"name\": \"wikipedia\",\n",
    "    \"description\": \"Searches a Wikipedia database\",\n",
    "    \"provider\": \"huggingface-hub\",\n",
    "    \"container\": \"neuml/txtai-wikipedia\"\n",
    "}\n",
    "\n",
    "arxiv = {\n",
    "    \"name\": \"arxiv\",\n",
    "    \"description\": \"Searches a database of scientific papers\",\n",
    "    \"provider\": \"huggingface-hub\",\n",
    "    \"container\": \"neuml/txtai-arxiv\"\n",
    "}\n",
    "\n",
    "def today() -> str:\n",
    "    \"\"\"\n",
    "    Gets the current date and time\n",
    "\n",
    "    Returns:\n",
    "        current date and time\n",
    "    \"\"\"\n",
    "\n",
    "    return datetime.today().isoformat()\n",
    "\n",
    "agent = Agent(\n",
    "    tools=[today, wikipedia, arxiv, \"websearch\"],\n",
    "    llm=\"hugging-quants/Meta-Llama-3.1-8B-Instruct-AWQ-INT4\",\n",
    "    max_iterations=10,\n",
    ")"
   ]
  },
  {
   "cell_type": "code",
   "execution_count": 3,
   "metadata": {},
   "outputs": [
    {
     "name": "stderr",
     "output_type": "stream",
     "text": [
      "\u001b[32;20;1m======== New task ========\u001b[0m\n",
      "\u001b[37;1mWhich city has the highest population, Boston or New York?\u001b[0m\n",
      "\u001b[33;1m=== Agent thoughts:\u001b[0m\n",
      "\u001b[0mThought: I will use the tool 'web_search' to find the population of both cities.\u001b[0m\n",
      "\u001b[33;1m>>> Calling tool: 'web_search' with arguments: {'query': 'Population of Boston and New York'}\u001b[0m\n",
      "\u001b[33;1m=== Agent thoughts:\u001b[0m\n",
      "\u001b[0mThought: The results from the web search indicate that the population of Boston is 7,948 and the population of New York is 653,833. However, it seems that the question is asking about the city of Boston in New York, not the city of Boston in Massachusetts. I will use the tool 'wikipedia' to find the population of the city of New York.\u001b[0m\n",
      "\u001b[33;1m>>> Calling tool: 'wikipedia' with arguments: {'query': 'Population of New York City'}\u001b[0m\n",
      "\u001b[33;1m=== Agent thoughts:\u001b[0m\n",
      "\u001b[0mThought: The results from the Wikipedia search indicate that the population of New York City is approximately 8,804,190. However, this is the population of the entire city, not just the city of New York. I will use the tool 'wikipedia' to find the population of the city of New York, not the state of New York.\u001b[0m\n",
      "\u001b[33;1m>>> Calling tool: 'wikipedia' with arguments: {'query': 'Population of New York City (borough)'}\u001b[0m\n",
      "\u001b[33;1m=== Agent thoughts:\u001b[0m\n",
      "\u001b[0mThought: The results from the Wikipedia search indicate that the population of New York City is approximately 8,804,190, and the population of Brooklyn is approximately 2,592,149. Since Brooklyn is one of the five boroughs of New York City, I will assume that the population of the city of New York is approximately 8,804,190. However, this is still not the correct answer to the original question. I will use the tool 'wikipedia' to find the population of the city of Boston in Massachusetts, which is the other city mentioned in the original question.\u001b[0m\n",
      "\u001b[33;1m>>> Calling tool: 'wikipedia' with arguments: {'query': 'Population of Boston, Massachusetts'}\u001b[0m\n",
      "\u001b[33;1m=== Agent thoughts:\u001b[0m\n",
      "\u001b[0mThought: The results from the Wikipedia search indicate that the population of Boston, Massachusetts is approximately 675,647. This is the correct answer to the original question, which was to determine which city has the highest population, Boston or New York. Since the population of Boston is significantly lower than the population of New York City, which is approximately 8,804,190, the answer to the original question is New York City.\u001b[0m\n",
      "\u001b[33;1m>>> Calling tool: 'final_answer' with arguments: {'answer': 'New York City'}\u001b[0m\n"
     ]
    },
    {
     "data": {
      "text/plain": [
       "'New York City'"
      ]
     },
     "execution_count": 3,
     "metadata": {},
     "output_type": "execute_result"
    }
   ],
   "source": [
    "agent(\"Which city has the highest population, Boston or New York?\", maxlength=16000)"
   ]
  },
  {
   "cell_type": "markdown",
   "metadata": {},
   "source": [
    "How about that 🔥? \n",
    "\n",
    "Look at how the agent went through and systematically solved the problem. The agent ran a series of searches to gather the information it needed and then determined the final answer!"
   ]
  },
  {
   "cell_type": "markdown",
   "metadata": {},
   "source": [
    "# Agentic RAG\n",
    "\n",
    "Standard Retrieval Augmented Generation (RAG) runs a single vector search to obtain a context and builds a prompt with the context + input question. Agentic RAG is a more complex process that goes through multiple iterations. It can also utilize multiple databases to come to a final conclusion.\n",
    "\n",
    "The example below aggregates information from multiple sources and builds a report on a topic."
   ]
  },
  {
   "cell_type": "code",
   "execution_count": 8,
   "metadata": {},
   "outputs": [
    {
     "name": "stderr",
     "output_type": "stream",
     "text": [
      "\u001b[32;20;1m======== New task ========\u001b[0m\n",
      "\u001b[37;1m\n",
      "You're an expert researcher looking to write a paper on alien life.\n",
      "Search for websites, scientific papers and Wikipedia related to the topic.\n",
      "Write a report with summaries and references (with hyperlinks).\n",
      "Write the text as Markdown.\n",
      "\u001b[0m\n",
      "\u001b[33;1m=== Agent thoughts:\u001b[0m\n",
      "\u001b[0mThought: I will start by searching for Wikipedia articles related to alien life.\u001b[0m\n",
      "\u001b[33;1m>>> Calling tool: 'wikipedia' with arguments: {'query': 'Alien life'}\u001b[0m\n",
      "\u001b[33;1m=== Agent thoughts:\u001b[0m\n",
      "\u001b[0mThought: The search results from Wikipedia look promising. I will now search for scientific papers related to alien life using the arxiv tool.\u001b[0m\n",
      "\u001b[33;1m>>> Calling tool: 'arxiv' with arguments: {'query': 'alien life'}\u001b[0m\n",
      "\u001b[33;1m=== Agent thoughts:\u001b[0m\n",
      "\u001b[0mThought: The search results from arxiv look interesting. I will now search for websites related to alien life using the web_search tool.\u001b[0m\n",
      "\u001b[33;1m>>> Calling tool: 'web_search' with arguments: {'query': 'alien life'}\u001b[0m\n",
      "\u001b[33;1m=== Agent thoughts:\u001b[0m\n",
      "\u001b[0mThought: Now that I have gathered information from Wikipedia, arxiv, and web search, I will write a report with summaries and references (with hyperlinks) in Markdown format.\u001b[0m\n",
      "\u001b[33;1m>>> Calling tool: 'final_answer' with arguments: {'answer': \"## Alien Life: A Report on the Search for Extraterrestrial Life\\n\\n### Introduction\\n\\nThe search for alien life has been ongoing for centuries, with scientists and enthusiasts alike searching for signs of life beyond Earth. While no conclusive evidence has been found yet, there are many promising leads and discoveries that suggest the possibility of life existing elsewhere in the universe.\\n\\n### Wikipedia\\n\\nAccording to Wikipedia, extraterrestrial life refers to life that does not originate from Earth. The search for alien life is an active area of research, with scientists using various methods to detect signs of life, such as analyzing the atmospheres of exoplanets and searching for biosignatures.\\n\\n### Arxiv\\n\\nThe arxiv database has numerous papers on the search for alien life, including studies on the possibility of life existing on exoplanets and the use of astrobiology to detect signs of life. One paper, 'Extraterrestrial Life and Censorship,' discusses the development of the theory of cosmic life and the attempts to censor evidence incompatible with this theory.\\n\\n### Web Search\\n\\nA web search for alien life yielded numerous results, including articles from reputable sources such as NASA and Live Science. These articles discuss the latest discoveries and findings in the search for alien life, including the potential for life existing on exoplanets and the use of astrobiology to detect signs of life.\\n\\n### Conclusion\\n\\nWhile the search for alien life is an ongoing and active area of research, there are many promising leads and discoveries that suggest the possibility of life existing elsewhere in the universe. As scientists continue to search for signs of life, it is possible that we may one day find evidence of alien life.\\n\\n### References\\n\\n* [Extraterrestrial life - Wikipedia](https://en.wikipedia.org/wiki/Extraterrestrial_life)\\n* [What's the best evidence we've found for alien life?](https://www.livescience.com/space/extraterrestrial-life/whats-the-best-evidence-weve-found-for-alien-life)\\n* [NASA Research Gives Guideline for Future Alien Life Search](https://www.nasa.gov/universe/nasa-research-gives-guideline-for-future-alien-life-search/)\\n* [James Webb telescope sees potential signs of alien life in the atmosphere of a distant goldilocks water-world](https://www.livescience.com/space/exoplanets/james-webb-telescope-sees-potential-signs-of-alien-life-in-the-atmosphere-of-a-distant-goldilocks-water-world)\\n* [Alien life in Universe: Scientists say finding it is 'only a matter of time'](https://www.bbc.com/news/science-environment-66950930)\\n* [Extraterrestrial evidence: 10 incredible findings about aliens from 2020](https://www.livescience.com/alien-discoveries-2020.html)\\n* [How Scientists Could Tell the World if They Find Alien Life](https://www.scientificamerican.com/article/how-scientists-could-tell-the-world-if-they-find-alien-life/)\"}\u001b[0m\n"
     ]
    },
    {
     "data": {
      "text/markdown": [
       "## Alien Life: A Report on the Search for Extraterrestrial Life\n",
       "\n",
       "### Introduction\n",
       "\n",
       "The search for alien life has been ongoing for centuries, with scientists and enthusiasts alike searching for signs of life beyond Earth. While no conclusive evidence has been found yet, there are many promising leads and discoveries that suggest the possibility of life existing elsewhere in the universe.\n",
       "\n",
       "### Wikipedia\n",
       "\n",
       "According to Wikipedia, extraterrestrial life refers to life that does not originate from Earth. The search for alien life is an active area of research, with scientists using various methods to detect signs of life, such as analyzing the atmospheres of exoplanets and searching for biosignatures.\n",
       "\n",
       "### Arxiv\n",
       "\n",
       "The arxiv database has numerous papers on the search for alien life, including studies on the possibility of life existing on exoplanets and the use of astrobiology to detect signs of life. One paper, 'Extraterrestrial Life and Censorship,' discusses the development of the theory of cosmic life and the attempts to censor evidence incompatible with this theory.\n",
       "\n",
       "### Web Search\n",
       "\n",
       "A web search for alien life yielded numerous results, including articles from reputable sources such as NASA and Live Science. These articles discuss the latest discoveries and findings in the search for alien life, including the potential for life existing on exoplanets and the use of astrobiology to detect signs of life.\n",
       "\n",
       "### Conclusion\n",
       "\n",
       "While the search for alien life is an ongoing and active area of research, there are many promising leads and discoveries that suggest the possibility of life existing elsewhere in the universe. As scientists continue to search for signs of life, it is possible that we may one day find evidence of alien life.\n",
       "\n",
       "### References\n",
       "\n",
       "* [Extraterrestrial life - Wikipedia](https://en.wikipedia.org/wiki/Extraterrestrial_life)\n",
       "* [What's the best evidence we've found for alien life?](https://www.livescience.com/space/extraterrestrial-life/whats-the-best-evidence-weve-found-for-alien-life)\n",
       "* [NASA Research Gives Guideline for Future Alien Life Search](https://www.nasa.gov/universe/nasa-research-gives-guideline-for-future-alien-life-search/)\n",
       "* [James Webb telescope sees potential signs of alien life in the atmosphere of a distant goldilocks water-world](https://www.livescience.com/space/exoplanets/james-webb-telescope-sees-potential-signs-of-alien-life-in-the-atmosphere-of-a-distant-goldilocks-water-world)\n",
       "* [Alien life in Universe: Scientists say finding it is 'only a matter of time'](https://www.bbc.com/news/science-environment-66950930)\n",
       "* [Extraterrestrial evidence: 10 incredible findings about aliens from 2020](https://www.livescience.com/alien-discoveries-2020.html)\n",
       "* [How Scientists Could Tell the World if They Find Alien Life](https://www.scientificamerican.com/article/how-scientists-could-tell-the-world-if-they-find-alien-life/)"
      ],
      "text/plain": [
       "<IPython.core.display.Markdown object>"
      ]
     },
     "metadata": {},
     "output_type": "display_data"
    }
   ],
   "source": [
    "from IPython.display import display, Markdown\n",
    "\n",
    "researcher = \"\"\"\n",
    "You're an expert researcher looking to write a paper on {topic}.\n",
    "Search for websites, scientific papers and Wikipedia related to the topic.\n",
    "Write a report with summaries and references (with hyperlinks).\n",
    "Write the text as Markdown.\n",
    "\"\"\"\n",
    "\n",
    "display(Markdown(agent(researcher.format(topic=\"alien life\"))))"
   ]
  },
  {
   "cell_type": "markdown",
   "metadata": {},
   "source": [
    "Let's unpack what just happened here. The Agent reviewed multiple sources and aggregated the references into a single report. This is quite powerful 💪\n",
    "\n",
    "Note that depending on the LLM used, errors can be seen as the Agent tries to get the function parameters right. This example is using Llama 3.1 8B. A more powerful LLM will likely lead to even better results. Remember that txtai supports a number of LLM frameworks (Hugging Face, llama.cpp and LiteLLM APIs)."
   ]
  },
  {
   "cell_type": "markdown",
   "metadata": {},
   "source": [
    "# Agent Teams\n",
    "\n",
    "Can agents also be tools? Yes!\n",
    "\n",
    "Next, we'll build a similar example but instead use an \"Agent Team\" to answer questions."
   ]
  },
  {
   "cell_type": "code",
   "execution_count": null,
   "metadata": {},
   "outputs": [],
   "source": [
    "from txtai import Agent, LLM\n",
    "\n",
    "# Share the LLM instance across multiple agents\n",
    "llm = LLM(\"hugging-quants/Meta-Llama-3.1-8B-Instruct-AWQ-INT4\")\n",
    "\n",
    "websearcher = Agent(\n",
    "    tools=[\"websearch\"],\n",
    "    llm=llm,\n",
    ")\n",
    "\n",
    "wikiman = Agent(\n",
    "    tools=[{\n",
    "        \"name\": \"wikipedia\",\n",
    "        \"description\": \"Searches a Wikipedia database\",\n",
    "        \"provider\": \"huggingface-hub\",\n",
    "        \"container\": \"neuml/txtai-wikipedia\"\n",
    "    }],\n",
    "    llm=llm,\n",
    ")\n",
    "\n",
    "researcher = Agent(\n",
    "    tools=[{\n",
    "        \"name\": \"arxiv\",\n",
    "        \"description\": \"Searches a database of scientific papers\",\n",
    "        \"provider\": \"huggingface-hub\",\n",
    "        \"container\": \"neuml/txtai-arxiv\"\n",
    "    }],\n",
    "    llm=llm,\n",
    ")\n",
    "\n",
    "agent = Agent(\n",
    "    tools=[{\n",
    "        \"name\": \"websearcher\",\n",
    "        \"description\": \"I run web searches, there is no answer a web search can't solve!\",\n",
    "        \"target\": websearcher\n",
    "    }, {\n",
    "        \"name\": \"wikiman\",\n",
    "        \"description\": \"Wikipedia has all the answers, I search Wikipedia and answer questions\",\n",
    "        \"target\": wikiman\n",
    "    }, {\n",
    "        \"name\": \"researcher\",\n",
    "        \"description\": \"I'm a science guy. I search arXiv to get all my answers.\",\n",
    "        \"target\": researcher\n",
    "    }],\n",
    "    llm=llm,\n",
    "    max_iterations=10\n",
    ")"
   ]
  },
  {
   "cell_type": "code",
   "execution_count": 20,
   "metadata": {},
   "outputs": [
    {
     "data": {
      "text/markdown": [
       "The comprehensive report on fundamental concepts about Signal Processing is as follows:\n",
       "\n",
       "### Introduction\n",
       "\n",
       "Signal representation, filtering, and spectral analysis are fundamental concepts in signal processing. Signal representation involves encoding a signal in a mathematical or computational format, while filtering involves modifying the signal to remove unwanted parts or components. Spectral analysis involves analyzing the frequency content of a signal.\n",
       "\n",
       "### Signal Representation\n",
       "\n",
       "Signal representation involves encoding a signal in a mathematical or computational format. This can be done using various techniques, including Fourier analysis and wavelet analysis.\n",
       "\n",
       "### Filtering\n",
       "\n",
       "Filtering involves modifying the signal to remove unwanted parts or components. This can be done using various types of filters, including Butterworth filters, Chebyshev-I filters, and Elliptical filters.\n",
       "\n",
       "### Spectral Analysis\n",
       "\n",
       "Spectral analysis involves analyzing the frequency content of a signal. This can be done using various techniques, including Fourier analysis, wavelet analysis, and singular spectrum analysis.\n",
       "\n",
       "### Applications\n",
       "\n",
       "Butterworth filters are widely used in signal processing and audio processing for applications such as noise reduction and anti-aliasing filtering. They are also used in medical signal processing for filtering ECG and EEG signals.\n",
       "\n",
       "### Conclusion\n",
       "\n",
       "In conclusion, signal representation, filtering, and spectral analysis are fundamental concepts in signal processing. Butterworth filters are widely used in various applications, including audio processing and medical signal processing."
      ],
      "text/plain": [
       "<IPython.core.display.Markdown object>"
      ]
     },
     "metadata": {},
     "output_type": "display_data"
    }
   ],
   "source": [
    "display(Markdown(agent(\"\"\"\n",
    "Work with your team and build a comprehensive report on fundamental concepts about Signal Processing.\n",
    "Write the output in Markdown.\n",
    "\"\"\", maxlength=16000)))"
   ]
  },
  {
   "cell_type": "markdown",
   "metadata": {},
   "source": [
    "📚 See the report above. It ran through similar logic as the first agent, except this time it ran with multiple agents! Note that the agent logging output is not included for brevity."
   ]
  },
  {
   "cell_type": "markdown",
   "metadata": {},
   "source": [
    "# Agents as a service\n",
    "\n",
    "Agents are fully supported through txtai's application configuration via YAML. These services can be run standalone in Python or as a FastAPI service."
   ]
  },
  {
   "cell_type": "code",
   "execution_count": 9,
   "metadata": {},
   "outputs": [
    {
     "name": "stdout",
     "output_type": "stream",
     "text": [
      "Writing config.yml\n"
     ]
    }
   ],
   "source": [
    "%%writefile config.yml\n",
    "\n",
    "agent:\n",
    "    researcher:\n",
    "        tools:\n",
    "            - websearch\n",
    "            - name: wikipedia\n",
    "              description: Searches a Wikipedia database\n",
    "              provider: huggingface-hub\n",
    "              container: neuml/txtai-wikipedia\n",
    "            - name: arxiv\n",
    "              description: Searches a database of scientific papers\n",
    "              provider: huggingface-hub\n",
    "              container: neuml/txtai-arxiv\n",
    "\n",
    "llm:\n",
    "    path: hugging-quants/Meta-Llama-3.1-8B-Instruct-AWQ-INT4"
   ]
  },
  {
   "cell_type": "code",
   "execution_count": null,
   "metadata": {},
   "outputs": [],
   "source": [
    "!CONFIG=config.yml nohup uvicorn \"txtai.api:app\" &> api.log &\n",
    "!sleep 90"
   ]
  },
  {
   "cell_type": "code",
   "execution_count": null,
   "metadata": {},
   "outputs": [
    {
     "data": {
      "text/plain": [
       "'The Roman Empire was a vast and powerful state that existed from 27 BC to 476 AD, covering much of Europe, North Africa, and Western Asia. It was founded by Augustus Caesar and was ruled by a series of emperors, with its capital in Rome. The Roman Empire was known for its impressive architecture, engineering, and administrative achievements, including the construction of roads, bridges, and public buildings. It also had a significant impact on the development of law, governance, and culture in the ancient world.'"
      ]
     },
     "execution_count": 15,
     "metadata": {},
     "output_type": "execute_result"
    }
   ],
   "source": [
    "import requests\n",
    "\n",
    "requests.post(\n",
    "    \"http://localhost:8000/agent\",\n",
    "    headers={\"Content-Type\": \"application/json\"},\n",
    "    json={\"name\": \"researcher\", \"text\": \"Tell me about the Roman Empire\", \"maxlength\": 160000}\n",
    ").json()"
   ]
  },
  {
   "cell_type": "markdown",
   "metadata": {},
   "source": [
    "💥 Look at that! A full API service from a simple configuration file. "
   ]
  },
  {
   "cell_type": "markdown",
   "metadata": {},
   "source": [
    "# Vectorization with Model2Vec\n",
    "\n",
    "While the agent framework is the headline change, there is another major update - support for Model2Vec models. \n",
    "\n",
    "[Model2Vec](https://github.com/MinishLab/model2vec) is a technique to turn any sentence transformer into a really small static model, reducing model size by 15x and making the models up to 500x faster, with a small drop in performance."
   ]
  },
  {
   "cell_type": "code",
   "execution_count": 1,
   "metadata": {},
   "outputs": [
    {
     "data": {
      "text/plain": [
       "\"Canada's last fully intact ice shelf has suddenly collapsed, forming a Manhattan-sized iceberg\""
      ]
     },
     "execution_count": 1,
     "metadata": {},
     "output_type": "execute_result"
    }
   ],
   "source": [
    "from txtai import Embeddings\n",
    "\n",
    "# Data to index\n",
    "data = [\n",
    "  \"US tops 5 million confirmed virus cases\",\n",
    "  \"Canada's last fully intact ice shelf has suddenly collapsed, forming a Manhattan-sized iceberg\",\n",
    "  \"Beijing mobilises invasion craft along coast as Taiwan tensions escalate\",\n",
    "  \"The National Park Service warns against sacrificing slower friends in a bear attack\",\n",
    "  \"Maine man wins $1M from $25 lottery ticket\",\n",
    "  \"Make huge profits without work, earn up to $100,000 a day\"\n",
    "]\n",
    "\n",
    "# Create an embeddings\n",
    "embeddings = Embeddings(method=\"model2vec\", path=\"minishlab/M2V_base_output\")\n",
    "embeddings.index(data)\n",
    "\n",
    "uid = embeddings.search(\"climate change\")[0][0]\n",
    "data[uid]"
   ]
  },
  {
   "cell_type": "markdown",
   "metadata": {
    "id": "tvnMO1Eai6Gy"
   },
   "source": [
    "# Wrapping up\n",
    "\n",
    "This notebook gave a quick overview of txtai 8.0. Updated documentation and more examples will be forthcoming. There is much to cover and much to build on!\n",
    "\n",
    "See the following links for more information.\n",
    "\n",
    "- [8.0 Release on GitHub](https://github.com/neuml/txtai/releases/tag/v8.0.0)\n",
    "- [Documentation site](https://neuml.github.io/txtai)"
   ]
  }
 ],
 "metadata": {
  "accelerator": "GPU",
  "colab": {
   "gpuType": "T4",
   "provenance": []
  },
  "kernelspec": {
   "display_name": "local",
   "language": "python",
   "name": "python3"
  },
  "language_info": {
   "codemirror_mode": {
    "name": "ipython",
    "version": 3
   },
   "file_extension": ".py",
   "mimetype": "text/x-python",
   "name": "python",
   "nbconvert_exporter": "python",
   "pygments_lexer": "ipython3",
   "version": "3.9.20"
  }
 },
 "nbformat": 4,
 "nbformat_minor": 0
}
